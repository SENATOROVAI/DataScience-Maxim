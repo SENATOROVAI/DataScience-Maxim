{
 "cells": [
  {
   "cell_type": "code",
   "execution_count": 91,
   "metadata": {},
   "outputs": [
    {
     "name": "stdout",
     "output_type": "stream",
     "text": [
      "\n"
     ]
    },
    {
     "data": {
      "text/plain": [
       "0"
      ]
     },
     "execution_count": 91,
     "metadata": {},
     "output_type": "execute_result"
    }
   ],
   "source": [
    "print()  #  желтый - функция, вызов функции\n",
    "int()  # создание объекта"
   ]
  },
  {
   "cell_type": "code",
   "execution_count": 30,
   "metadata": {},
   "outputs": [],
   "source": [
    "list1 = []  # синитактический сахар (создание)\n",
    "list1 = list()  # длинная форма записи"
   ]
  },
  {
   "cell_type": "markdown",
   "metadata": {},
   "source": [
    "Объект в Python называется классом, но эти два слова часто используются взаимозаменяемо. Вы можете представить себе класс как структуру, которая инкапсулирует набор связанных функций (функции, принадлежащие определенным объектам, часто называются \"методами\" этого объекта) с набором локальных переменных, которые отслеживают состояние этого класса. Вместе эти переменные и методы определяют \"поведение\" объекта и определяют, как он взаимодействует с другими объектами в программной \"среде\"."
   ]
  },
  {
   "cell_type": "code",
   "execution_count": 31,
   "metadata": {},
   "outputs": [
    {
     "data": {
      "text/plain": [
       "'0x21f77a39080'"
      ]
     },
     "execution_count": 31,
     "metadata": {},
     "output_type": "execute_result"
    }
   ],
   "source": [
    "type(list1)  # list - это не только тип данных, но и имя класса\n",
    "# set() - {}\n",
    "hex(id(list1))"
   ]
  },
  {
   "cell_type": "markdown",
   "metadata": {},
   "source": [
    "Функция hex() преобразует целое число в шестнадцатеричную строку с префиксом 0x.\n",
    "\n",
    "В функцию hex() может быть передан любой объект, реализующий метод\n",
    " ```python\n",
    "__index__()\n",
    "```\n",
    ", возвращающий целое число.\n",
    "\n"
   ]
  },
  {
   "cell_type": "code",
   "execution_count": 32,
   "metadata": {},
   "outputs": [],
   "source": [
    "from typing import List\n",
    "\n",
    "list2: List = list1"
   ]
  },
  {
   "cell_type": "code",
   "execution_count": 19,
   "metadata": {},
   "outputs": [],
   "source": [
    "# del list1\n",
    "# количество ссылок 1"
   ]
  },
  {
   "cell_type": "code",
   "execution_count": 20,
   "metadata": {},
   "outputs": [],
   "source": [
    "# del list2\n",
    "# количество ссылок 0, приходит Garbage collection, удаляет объект из памяти"
   ]
  },
  {
   "cell_type": "code",
   "execution_count": 33,
   "metadata": {},
   "outputs": [
    {
     "data": {
      "text/plain": [
       "True"
      ]
     },
     "execution_count": 33,
     "metadata": {},
     "output_type": "execute_result"
    }
   ],
   "source": [
    "id(list1) == id(list2)"
   ]
  },
  {
   "cell_type": "markdown",
   "metadata": {},
   "source": [
    "Функция id () в Python, идентификатор объекта. Возвращает уникальный идентификатор объекта в программе. Синтаксис: id (object). Параметры: object - любой объект, строка, число, список, класс и т. д. Возвращаемое значение: целое число. "
   ]
  },
  {
   "cell_type": "code",
   "execution_count": 34,
   "metadata": {},
   "outputs": [
    {
     "data": {
      "text/plain": [
       "True"
      ]
     },
     "execution_count": 34,
     "metadata": {},
     "output_type": "execute_result"
    }
   ],
   "source": [
    "list1 is list2"
   ]
  },
  {
   "cell_type": "code",
   "execution_count": 106,
   "metadata": {},
   "outputs": [
    {
     "data": {
      "text/plain": [
       "(1, 2)"
      ]
     },
     "execution_count": 106,
     "metadata": {},
     "output_type": "execute_result"
    }
   ],
   "source": [
    "def test(*args, **kwargs):\n",
    "    \"\"\"\n",
    "    *args -неограниченная количество позиционных аргументов\n",
    "    *kwargs -неограниченная количество ключевых аргументов\n",
    "    \"\"\"\n",
    "    return args\n",
    "\n",
    "\n",
    "# test(arg=(1,23,4,5,5)) #   ключевая передача аргументов\n",
    "# test(1,23,4,5,5) #   позиционная передача аргументов\n",
    "\n",
    "\n",
    "def get_dict(a, b, c):  # визуальное разделение\n",
    "    return a, b, c\n",
    "\n",
    "\n",
    "dict1 = {\"a\": 1, \"b\": 2, \"c\": 3}\n",
    "\n",
    "# get_dict(*dict1) # распакова списка\n",
    "# get_dict(**dict1) # распакова словаря\n",
    "\n",
    "\n",
    "def test1(position, *, key):  # после * ключевые параметров\n",
    "    return position, key\n",
    "\n",
    "\n",
    "test1(key=2, position=1)  #  использование позиционных арг как ключевых"
   ]
  },
  {
   "cell_type": "code",
   "execution_count": 1,
   "metadata": {},
   "outputs": [],
   "source": [
    "class human(object):  # все классы неявно наследуются от object\n",
    "    \"\"\"\n",
    "    переменные в классе это атрибуты класса\n",
    "    функции в классе это методы класса\n",
    "    \"\"\"\n",
    "\n",
    "    age = 23  # константа котоая наследуется всеми объектами\n",
    "\n",
    "    def __init__(\n",
    "        self, age1\n",
    "    ):  #  конструтор класса вызывается автомтичеки при создании объекта\n",
    "        self.age = age1\n",
    "\n",
    "    def get_age(self, add):\n",
    "        # return human.age + 5 # точечная нотация\n",
    "        return self.age + add  # точечная нотация\n",
    "\n",
    "\n",
    "dir(human)  # __class__ - читается как дандер\n",
    "# dir - показывает атрибуты и методы класса или объекта\n",
    "\n",
    "# human.__doc__\n",
    "# # human.age\n",
    "# human.get_age.__call__()\n",
    "# human.test = 5\n",
    "# dir(human)\n",
    "# ВМЕСТО SELF подставляется имя объекта / имя переменной\n",
    "object1 = human(30)  # создание объета класса / экземпляр\n",
    "# object1.get_age(object1) # неявная передача первым параметром имя объекта\n",
    "\n",
    "object2 = human(40)  # инит только принимает\n",
    "object1.get_age(5), object2.get_age(4)\n",
    "\n",
    "list1 = []  # создание объекта\n",
    "list1 = list()\n",
    "tuple1 = ()\n",
    "tuple1 = tuple()\n",
    "list1.append(1)  # void - нерезультирующий, не выводит на экран"
   ]
  },
  {
   "cell_type": "markdown",
   "metadata": {},
   "source": [
    " - В Python все является объектом, включая функции. Их можно присваивать переменным, хранить в структурах данных, передавать или возвращать другим функциям (первоклассным функциям).\n",
    "\n",
    "- Функции первого класса позволяют абстрагироваться и передавать поведение в программах.\n",
    "\n",
    "- Функции могут быть вложенными, они могут захватывать и переносить с собой часть состояния родительской функции. Функции, которые делают это, называются замыканиями.\n",
    "\n",
    "- Объекты можно сделать вызываемыми, что позволяет во многих случаях обращаться с ними как с функциями."
   ]
  }
 ],
 "metadata": {
  "kernelspec": {
   "display_name": "base",
   "language": "python",
   "name": "python3"
  },
  "language_info": {
   "codemirror_mode": {
    "name": "ipython",
    "version": 3
   },
   "file_extension": ".py",
   "mimetype": "text/x-python",
   "name": "python",
   "nbconvert_exporter": "python",
   "pygments_lexer": "ipython3",
   "version": "3.11.5"
  }
 },
 "nbformat": 4,
 "nbformat_minor": 2
}
