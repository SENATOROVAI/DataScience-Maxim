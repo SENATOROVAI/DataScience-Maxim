{
 "cells": [
  {
   "cell_type": "code",
   "execution_count": 54,
   "metadata": {},
   "outputs": [
    {
     "data": {
      "text/plain": [
       "'это не простое число'"
      ]
     },
     "execution_count": 54,
     "metadata": {},
     "output_type": "execute_result"
    }
   ],
   "source": [
    "# Пример 1\n",
    "coffee = 1\n",
    "milk = 2\n",
    "visitors = 14\n",
    "coffee *= 1000\n",
    "milk *= 1000\n",
    "i = 1\n",
    "while coffee -7 > 0 :\n",
    "    if i % 3 == 0 and milk -100 > 0:\n",
    "        coffee -= 7\n",
    "        milk -= 100\n",
    "        i += 1\n",
    "    elif i % 5 == 0 and milk - 180 > 0:\n",
    "        coffee -= 7\n",
    "        milk -= 180\n",
    "        i += 1\n",
    "    elif i % 3 == 0 and i % 5 == 0 and milk -100 > 0:\n",
    "        coffee -= 7\n",
    "        milk -= 100\n",
    "        i += 1\n",
    "    elif milk - 100 < 0 and i % 3 != 0 and i % 5 != 0:\n",
    "        coffee -= 7\n",
    "        i += 1\n",
    "    elif i % 3 != 0 and i % 5 != 0:\n",
    "        coffee -= 7\n",
    "        i += 1\n",
    "    elif milk - 100 < 0 and i % 3 == 0 or i % 5 == 0:\n",
    "        break"
   ]
  },
  {
   "cell_type": "code",
   "execution_count": 5,
   "metadata": {},
   "outputs": [
    {
     "data": {
      "text/plain": [
       "frozenset({1, 2, 3, 4})"
      ]
     },
     "execution_count": 5,
     "metadata": {},
     "output_type": "execute_result"
    }
   ],
   "source": [
    "n = input()\n",
    "sp = list(map(int, input().split()))\n",
    "sp = frozenset(sp)\n",
    "# for i in range(1, len(sp)):\n",
    "#     if sp[i] - sp[i - 1] != 1:\n",
    "#         print(len(sp[:i]))\n",
    "#         break\n",
    "sp"
   ]
  },
  {
   "cell_type": "markdown",
   "metadata": {},
   "source": []
  }
 ],
 "metadata": {
  "kernelspec": {
   "display_name": "base",
   "language": "python",
   "name": "python3"
  },
  "language_info": {
   "codemirror_mode": {
    "name": "ipython",
    "version": 3
   },
   "file_extension": ".py",
   "mimetype": "text/x-python",
   "name": "python",
   "nbconvert_exporter": "python",
   "pygments_lexer": "ipython3",
   "version": "0.0.0"
  }
 },
 "nbformat": 4,
 "nbformat_minor": 2
}
