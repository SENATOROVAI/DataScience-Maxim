{
 "cells": [
  {
   "cell_type": "code",
   "execution_count": 54,
   "metadata": {},
   "outputs": [
    {
     "data": {
      "text/plain": [
       "'это не простое число'"
      ]
     },
     "execution_count": 54,
     "metadata": {},
     "output_type": "execute_result"
    }
   ],
   "source": [
    "# Пример 1\n",
    "coffee = 1\n",
    "milk = 2\n",
    "visitors = 14\n",
    "coffee *= 1000\n",
    "milk *= 1000\n",
    "i = 1\n",
    "while coffee -7 > 0 :\n",
    "    if i % 3 == 0 and milk -100 > 0:\n",
    "        coffee -= 7\n",
    "        milk -= 100\n",
    "        i += 1\n",
    "    elif i % 5 == 0 and milk - 180 > 0:\n",
    "        coffee -= 7\n",
    "        milk -= 180\n",
    "        i += 1\n",
    "    elif i % 3 == 0 and i % 5 == 0 and milk -100 > 0:\n",
    "        coffee -= 7\n",
    "        milk -= 100\n",
    "        i += 1\n",
    "    elif milk - 100 < 0 and i % 3 != 0 and i % 5 != 0:\n",
    "        coffee -= 7\n",
    "        i += 1\n",
    "    elif i % 3 != 0 and i % 5 != 0:\n",
    "        coffee -= 7\n",
    "        i += 1\n",
    "    elif milk - 100 < 0 and i % 3 == 0 or i % 5 == 0:\n",
    "        break"
   ]
  },
  {
   "cell_type": "code",
   "execution_count": 59,
   "metadata": {},
   "outputs": [
    {
     "data": {
      "text/plain": [
       "False"
      ]
     },
     "execution_count": 59,
     "metadata": {},
     "output_type": "execute_result"
    }
   ],
   "source": [
    "# Пример 1\n",
    "a = [2, 2, 3, 5, 2, 6, 8, 45, 2, 4]\n",
    "result = sum(map(lambda x: 1 if x % 2 == 0 else 0, a)) < sum(map(lambda x: 1 if x % 2 != 0 else 0, a))\n",
    "result"
   ]
  }
 ],
 "metadata": {
  "kernelspec": {
   "display_name": "base",
   "language": "python",
   "name": "python3"
  },
  "language_info": {
   "codemirror_mode": {
    "name": "ipython",
    "version": 3
   },
   "file_extension": ".py",
   "mimetype": "text/x-python",
   "name": "python",
   "nbconvert_exporter": "python",
   "pygments_lexer": "ipython3",
   "version": "3.11.5"
  }
 },
 "nbformat": 4,
 "nbformat_minor": 2
}
