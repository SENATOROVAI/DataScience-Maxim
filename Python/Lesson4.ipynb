{
 "cells": [
  {
   "cell_type": "code",
   "execution_count": 91,
   "metadata": {},
   "outputs": [
    {
     "name": "stdout",
     "output_type": "stream",
     "text": [
      "\n"
     ]
    },
    {
     "data": {
      "text/plain": [
       "0"
      ]
     },
     "execution_count": 91,
     "metadata": {},
     "output_type": "execute_result"
    }
   ],
   "source": [
    "print() #  желтый - функция, вызов функции\n",
    "int() # создание объекта "
   ]
  },
  {
   "cell_type": "code",
   "execution_count": 92,
   "metadata": {},
   "outputs": [],
   "source": [
    "list1 = [] # синитактический сахар (создание)\n",
    "list1_ = list() # длинная форма записи "
   ]
  },
  {
   "cell_type": "code",
   "execution_count": 93,
   "metadata": {},
   "outputs": [
    {
     "data": {
      "text/plain": [
       "'0x1d15696ddc0'"
      ]
     },
     "execution_count": 93,
     "metadata": {},
     "output_type": "execute_result"
    }
   ],
   "source": [
    "type(list1) # list - это не только тип данных, но и имя класса\n",
    "#set() {}\n",
    "hex(id(list1))"
   ]
  },
  {
   "cell_type": "code",
   "execution_count": 94,
   "metadata": {},
   "outputs": [],
   "source": [
    "from typing import List\n",
    "list2: List = list1"
   ]
  },
  {
   "cell_type": "code",
   "execution_count": 95,
   "metadata": {},
   "outputs": [],
   "source": [
    "# del list1 # количество ссылок 1 "
   ]
  },
  {
   "cell_type": "code",
   "execution_count": 96,
   "metadata": {},
   "outputs": [],
   "source": [
    "# del list2 # количество ссылок 0, приходит Garbage collection, удаляет объект из памяти"
   ]
  },
  {
   "cell_type": "code",
   "execution_count": 97,
   "metadata": {},
   "outputs": [
    {
     "data": {
      "text/plain": [
       "True"
      ]
     },
     "execution_count": 97,
     "metadata": {},
     "output_type": "execute_result"
    }
   ],
   "source": [
    "id(list1) == id(list2)"
   ]
  },
  {
   "cell_type": "code",
   "execution_count": 98,
   "metadata": {},
   "outputs": [
    {
     "data": {
      "text/plain": [
       "True"
      ]
     },
     "execution_count": 98,
     "metadata": {},
     "output_type": "execute_result"
    }
   ],
   "source": [
    "list1 is list2"
   ]
  },
  {
   "cell_type": "code",
   "execution_count": 106,
   "metadata": {},
   "outputs": [
    {
     "data": {
      "text/plain": [
       "(1, 2)"
      ]
     },
     "execution_count": 106,
     "metadata": {},
     "output_type": "execute_result"
    }
   ],
   "source": [
    "def test(*args, **kwargs):\n",
    "    \"\"\"\n",
    "    *args -неограниченная количество позиционных аргументов\n",
    "    *kwargs -неограниченная количество ключевых аргументов\n",
    "    \"\"\"\n",
    "    return arg\n",
    "\n",
    "# test(arg=(1,23,4,5,5)) #   ключевая передача аргументов\n",
    "# test(1,23,4,5,5) #   позиционная передача аргументов\n",
    "\n",
    "def get_dict(a,b,c): # визуальное разделение \n",
    "    return a,b,c\n",
    "\n",
    "dict1 = {\"a\": 1, \"b\": 2, \"c\":3} \n",
    " \n",
    "# get_dict(*dict1) # распакова списка\n",
    "# get_dict(**dict1) # распакова словаря\n",
    "\n",
    "def test1(position,*,key): # после * ключевые параметров\n",
    "    return position, key\n",
    "\n",
    "test1(key=2,position=1) #  использование позиционных арг как ключевых \n"
   ]
  },
  {
   "cell_type": "code",
   "execution_count": 142,
   "metadata": {},
   "outputs": [],
   "source": [
    "class human(object): # все классы неявно наследуются от object\n",
    "    \"\"\"\n",
    "    переменные в классе это атрибуты класса\n",
    "    функции в классе это методы класса\n",
    "    \"\"\"\n",
    "    age = 23 # константа котоая наследуется всеми объектами \n",
    "    \n",
    "    def __init__(self, age1): #  конструтор класса вызывается автомтичеки при создании объекта \n",
    "        self.age = age1\n",
    "    \n",
    "    def get_age(self, add):\n",
    "        # return human.age + 5 # точечная нотация \n",
    "        return self.age + add # точечная нотация \n",
    "\n",
    "dir(human) # __class__ - читается как дандер\n",
    "# dir - показывает атрибуты и методы класса или объекта \n",
    "\n",
    "# human.__doc__\n",
    "# # human.age\n",
    "# human.get_age.__call__()\n",
    "# human.test = 5\n",
    "# dir(human)\n",
    "# ВМЕСТО SELF подставляется имя объекта / имя переменной\n",
    "object1 = human(30) # создание объета класса / экземпляр\n",
    "# object1.get_age(object1) # неявная передача первым параметром имя объекта\n",
    "\n",
    "object2 = human(40) # инит только принимает\n",
    "object1.get_age(5) , object2.get_age(4)\n",
    "\n",
    "list1 = [] # создание объекта\n",
    "list1 = list()\n",
    "tuple1 = ()\n",
    "tuple1 = tuple()\n",
    "list1.append(1) # void - нерезультирующий, не выводит на экран \n"
   ]
  }
 ],
 "metadata": {
  "kernelspec": {
   "display_name": "base",
   "language": "python",
   "name": "python3"
  },
  "language_info": {
   "codemirror_mode": {
    "name": "ipython",
    "version": 3
   },
   "file_extension": ".py",
   "mimetype": "text/x-python",
   "name": "python",
   "nbconvert_exporter": "python",
   "pygments_lexer": "ipython3",
   "version": "3.11.5"
  }
 },
 "nbformat": 4,
 "nbformat_minor": 2
}
