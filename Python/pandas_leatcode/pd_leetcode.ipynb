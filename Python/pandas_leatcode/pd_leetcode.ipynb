{
 "cells": [
  {
   "cell_type": "code",
   "execution_count": 1,
   "metadata": {},
   "outputs": [],
   "source": [
    "import pandas as pd"
   ]
  },
  {
   "cell_type": "markdown",
   "metadata": {},
   "source": [
    "## Select Data\n",
    "https://leetcode.com/problems/select-data/description/?envType=study-plan-v2&envId=introduction-to-pandas&lang=pythondata\n",
    "\n",
    "`loc` "
   ]
  },
  {
   "cell_type": "code",
   "execution_count": null,
   "metadata": {},
   "outputs": [],
   "source": [
    "# Учащиеся DataFrame\n",
    "# +-------------+--------+\n",
    "# | Имя | Тип столбца |\n",
    "# +-------------+--------+\n",
    "# | student_id | int |\n",
    "# | имя | объект |\n",
    "# | возраст | int |\n",
    "# +-------------+--------+\n",
    "\n",
    "# Напишите решение для выбора имени и возраста учащегося с помощью student_id = 101.\n",
    "\n",
    "# Формат результата приведен в следующем примере."
   ]
  },
  {
   "cell_type": "markdown",
   "metadata": {},
   "source": [
    "```python\n",
    "students[['name', 'age']][students['student_id'] == 101]\n",
    "```\n",
    "```python\n",
    "    return students.loc[students[\"student_id\"] == 101, [\"name\", \"age\"]]\n",
    "    # OR\n",
    "    return students.loc[students[\"student_id\"] == 101, \"name\" :]\n",
    "    # OR\n",
    "    return students[students['student_id'] == 101][['name', 'age']]\n",
    "    \n",
    "    return students.loc[students.student_id == 101][['name','age']]\n",
    "```\n"
   ]
  },
  {
   "cell_type": "markdown",
   "metadata": {},
   "source": [
    "## удаления повторяющихся строк \n",
    "https://leetcode.com/problems/drop-duplicate-rows/description/?envType=study-plan-v2&envId=introduction-to-pandas&lang=pythondata\n",
    "Во фрейме данных есть несколько повторяющихся строк на основе email столбца.\n",
    "\n",
    "Напишите решение для удаления этих повторяющихся строк и сохранения только первого вхождения.\n",
    "\n",
    "Формат результата приведен в следующем примере.\n",
    "\n",
    "\n",
    "`drop_duplicates `\n",
    "\n",
    "```python\n",
    " customers = customers.drop_duplicates(subset=['email'])\n",
    "\n",
    "customers.drop_duplicates(['email'], keep='first')\n",
    "\n",
    "```\n"
   ]
  }
 ],
 "metadata": {
  "kernelspec": {
   "display_name": "base",
   "language": "python",
   "name": "python3"
  },
  "language_info": {
   "codemirror_mode": {
    "name": "ipython",
    "version": 3
   },
   "file_extension": ".py",
   "mimetype": "text/x-python",
   "name": "python",
   "nbconvert_exporter": "python",
   "pygments_lexer": "ipython3",
   "version": "3.11.5"
  }
 },
 "nbformat": 4,
 "nbformat_minor": 2
}
