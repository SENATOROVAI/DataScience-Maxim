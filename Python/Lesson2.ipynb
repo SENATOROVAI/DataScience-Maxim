{
 "cells": [
  {
   "cell_type": "code",
   "execution_count": 1,
   "metadata": {},
   "outputs": [
    {
     "ename": "SyntaxError",
     "evalue": "invalid syntax (1811434835.py, line 1)",
     "output_type": "error",
     "traceback": [
      "\u001b[1;36m  Cell \u001b[1;32mIn[1], line 1\u001b[1;36m\u001b[0m\n\u001b[1;33m    Linter(black) -инструмент анализа и поиска ошибок\u001b[0m\n\u001b[1;37m                              ^\u001b[0m\n\u001b[1;31mSyntaxError\u001b[0m\u001b[1;31m:\u001b[0m invalid syntax\n"
     ]
    }
   ],
   "source": [
    "Linter(black shift + alt + f) -инструмент анализа и поиска ошибок \n",
    "mypy - анатация типов \"статичсекая типизация\"\n"
   ]
  },
  {
   "cell_type": "code",
   "execution_count": null,
   "metadata": {},
   "outputs": [],
   "source": [
    "pip - пакетный менеджер, управялет зависмостями, удаление/установка/выгрузка\n",
    "conda - пакетный менеджер, управялет зависмостями, удаление/установка/выгрузка\n"
   ]
  },
  {
   "cell_type": "code",
   "execution_count": 2,
   "metadata": {},
   "outputs": [
    {
     "name": "stdout",
     "output_type": "stream",
     "text": [
      "Collecting black\n",
      "  Obtaining dependency information for black from https://files.pythonhosted.org/packages/37/bf/a80abc6fcdb00f0d4d3d74184b172adbf2197f6b002913fa0fb6af4dc6db/black-23.12.1-cp311-cp311-win_amd64.whl.metadata\n",
      "  Downloading black-23.12.1-cp311-cp311-win_amd64.whl.metadata (68 kB)\n",
      "     ---------------------------------------- 0.0/69.0 kB ? eta -:--:--\n",
      "     ----- ---------------------------------- 10.2/69.0 kB ? eta -:--:--\n",
      "     --------------------------------- ---- 61.4/69.0 kB 656.4 kB/s eta 0:00:01\n",
      "     -------------------------------------- 69.0/69.0 kB 753.2 kB/s eta 0:00:00\n",
      "Collecting click>=8.0.0 (from black)\n",
      "  Obtaining dependency information for click>=8.0.0 from https://files.pythonhosted.org/packages/00/2e/d53fa4befbf2cfa713304affc7ca780ce4fc1fd8710527771b58311a3229/click-8.1.7-py3-none-any.whl.metadata\n",
      "  Downloading click-8.1.7-py3-none-any.whl.metadata (3.0 kB)\n",
      "Collecting mypy-extensions>=0.4.3 (from black)\n",
      "  Downloading mypy_extensions-1.0.0-py3-none-any.whl (4.7 kB)\n",
      "Requirement already satisfied: packaging>=22.0 in c:\\users\\nout\\appdata\\local\\packages\\pythonsoftwarefoundation.python.3.11_qbz5n2kfra8p0\\localcache\\local-packages\\python311\\site-packages (from black) (23.2)\n",
      "Collecting pathspec>=0.9.0 (from black)\n",
      "  Obtaining dependency information for pathspec>=0.9.0 from https://files.pythonhosted.org/packages/cc/20/ff623b09d963f88bfde16306a54e12ee5ea43e9b597108672ff3a408aad6/pathspec-0.12.1-py3-none-any.whl.metadata\n",
      "  Downloading pathspec-0.12.1-py3-none-any.whl.metadata (21 kB)\n",
      "Requirement already satisfied: platformdirs>=2 in c:\\users\\nout\\appdata\\local\\packages\\pythonsoftwarefoundation.python.3.11_qbz5n2kfra8p0\\localcache\\local-packages\\python311\\site-packages (from black) (4.1.0)\n",
      "Requirement already satisfied: colorama in c:\\users\\nout\\appdata\\local\\packages\\pythonsoftwarefoundation.python.3.11_qbz5n2kfra8p0\\localcache\\local-packages\\python311\\site-packages (from click>=8.0.0->black) (0.4.6)\n",
      "Downloading black-23.12.1-cp311-cp311-win_amd64.whl (1.3 MB)\n",
      "   ---------------------------------------- 0.0/1.3 MB ? eta -:--:--\n",
      "   - -------------------------------------- 0.0/1.3 MB 991.0 kB/s eta 0:00:02\n",
      "   - -------------------------------------- 0.1/1.3 MB 656.4 kB/s eta 0:00:02\n",
      "   --- ------------------------------------ 0.1/1.3 MB 939.4 kB/s eta 0:00:02\n",
      "   --- ------------------------------------ 0.1/1.3 MB 714.4 kB/s eta 0:00:02\n",
      "   ----- ---------------------------------- 0.2/1.3 MB 841.6 kB/s eta 0:00:02\n",
      "   ------ --------------------------------- 0.2/1.3 MB 731.4 kB/s eta 0:00:02\n",
      "   ------- -------------------------------- 0.3/1.3 MB 827.5 kB/s eta 0:00:02\n",
      "   -------- ------------------------------- 0.3/1.3 MB 850.6 kB/s eta 0:00:02\n",
      "   ---------- ----------------------------- 0.3/1.3 MB 807.1 kB/s eta 0:00:02\n",
      "   ---------- ----------------------------- 0.4/1.3 MB 825.0 kB/s eta 0:00:02\n",
      "   ----------- ---------------------------- 0.4/1.3 MB 804.0 kB/s eta 0:00:02\n",
      "   ------------- -------------------------- 0.5/1.3 MB 829.2 kB/s eta 0:00:02\n",
      "   -------------- ------------------------- 0.5/1.3 MB 797.2 kB/s eta 0:00:02\n",
      "   --------------- ------------------------ 0.5/1.3 MB 814.7 kB/s eta 0:00:01\n",
      "   --------------- ------------------------ 0.5/1.3 MB 814.7 kB/s eta 0:00:01\n",
      "   ------------------ --------------------- 0.6/1.3 MB 826.0 kB/s eta 0:00:01\n",
      "   ------------------ --------------------- 0.6/1.3 MB 832.9 kB/s eta 0:00:01\n",
      "   -------------------- ------------------- 0.7/1.3 MB 816.2 kB/s eta 0:00:01\n",
      "   --------------------- ------------------ 0.7/1.3 MB 834.5 kB/s eta 0:00:01\n",
      "   --------------------- ------------------ 0.7/1.3 MB 830.9 kB/s eta 0:00:01\n",
      "   ----------------------- ---------------- 0.8/1.3 MB 816.6 kB/s eta 0:00:01\n",
      "   ------------------------- -------------- 0.9/1.3 MB 849.9 kB/s eta 0:00:01\n",
      "   ------------------------- -------------- 0.9/1.3 MB 821.5 kB/s eta 0:00:01\n",
      "   --------------------------- ------------ 0.9/1.3 MB 833.1 kB/s eta 0:00:01\n",
      "   ----------------------------- ---------- 1.0/1.3 MB 843.6 kB/s eta 0:00:01\n",
      "   ----------------------------- ---------- 1.0/1.3 MB 836.1 kB/s eta 0:00:01\n",
      "   ------------------------------- -------- 1.1/1.3 MB 846.4 kB/s eta 0:00:01\n",
      "   -------------------------------- ------- 1.1/1.3 MB 849.3 kB/s eta 0:00:01\n",
      "   --------------------------------- ------ 1.1/1.3 MB 832.8 kB/s eta 0:00:01\n",
      "   ----------------------------------- ---- 1.2/1.3 MB 856.4 kB/s eta 0:00:01\n",
      "   ------------------------------------ --- 1.2/1.3 MB 859.4 kB/s eta 0:00:01\n",
      "   ------------------------------------- -- 1.3/1.3 MB 850.4 kB/s eta 0:00:01\n",
      "   ---------------------------------------  1.3/1.3 MB 857.8 kB/s eta 0:00:01\n",
      "   ---------------------------------------- 1.3/1.3 MB 860.2 kB/s eta 0:00:00\n",
      "Downloading click-8.1.7-py3-none-any.whl (97 kB)\n",
      "   ---------------------------------------- 0.0/97.9 kB ? eta -:--:--\n",
      "   ------------ --------------------------- 30.7/97.9 kB 1.4 MB/s eta 0:00:01\n",
      "   ----------------------------- ---------- 71.7/97.9 kB 991.0 kB/s eta 0:00:01\n",
      "   ---------------------------------------- 97.9/97.9 kB 1.1 MB/s eta 0:00:00\n",
      "Downloading pathspec-0.12.1-py3-none-any.whl (31 kB)\n",
      "Installing collected packages: pathspec, mypy-extensions, click, black\n",
      "Successfully installed black-23.12.1 click-8.1.7 mypy-extensions-1.0.0 pathspec-0.12.1\n"
     ]
    },
    {
     "name": "stderr",
     "output_type": "stream",
     "text": [
      "\n",
      "[notice] A new release of pip is available: 23.2.1 -> 23.3.2\n",
      "[notice] To update, run: C:\\Users\\nout\\AppData\\Local\\Microsoft\\WindowsApps\\PythonSoftwareFoundation.Python.3.11_qbz5n2kfra8p0\\python.exe -m pip install --upgrade pip\n"
     ]
    }
   ],
   "source": [
    "!pip install black "
   ]
  },
  {
   "cell_type": "code",
   "execution_count": 3,
   "metadata": {},
   "outputs": [
    {
     "name": "stdout",
     "output_type": "stream",
     "text": [
      "anyio==4.2.0\n",
      "argon2-cffi==23.1.0\n",
      "argon2-cffi-bindings==21.2.0\n",
      "arrow==1.3.0\n",
      "asttokens==2.4.1\n",
      "async-lru==2.0.4\n",
      "attrs==23.2.0\n",
      "Babel==2.14.0\n",
      "beautifulsoup4==4.12.3\n",
      "black==23.12.1\n",
      "bleach==6.1.0\n",
      "certifi==2023.11.17\n",
      "cffi==1.16.0\n",
      "charset-normalizer==3.3.2\n",
      "click==8.1.7\n",
      "colorama==0.4.6\n",
      "comm==0.2.1\n",
      "debugpy==1.8.0\n",
      "decorator==5.1.1\n",
      "defusedxml==0.7.1\n",
      "executing==2.0.1\n",
      "fastjsonschema==2.19.1\n",
      "fqdn==1.5.1\n",
      "idna==3.6\n",
      "ipykernel==6.29.0\n",
      "ipython==8.20.0\n",
      "ipywidgets==8.1.1\n",
      "isoduration==20.11.0\n",
      "jedi==0.19.1\n",
      "Jinja2==3.1.3\n",
      "json5==0.9.14\n",
      "jsonpointer==2.4\n",
      "jsonschema==4.21.0\n",
      "jsonschema-specifications==2023.12.1\n",
      "jupyter==1.0.0\n",
      "jupyter-console==6.6.3\n",
      "jupyter-events==0.9.0\n",
      "jupyter-lsp==2.2.1\n",
      "jupyter_client==8.6.0\n",
      "jupyter_core==5.7.1\n",
      "jupyter_server==2.12.5\n",
      "jupyter_server_terminals==0.5.1\n",
      "jupyterlab==4.0.10\n",
      "jupyterlab-widgets==3.0.9\n",
      "jupyterlab_pygments==0.3.0\n",
      "jupyterlab_server==2.25.2\n",
      "MarkupSafe==2.1.3\n",
      "matplotlib-inline==0.1.6\n",
      "mistune==3.0.2\n",
      "mypy-extensions==1.0.0\n",
      "nbclient==0.9.0\n",
      "nbconvert==7.14.2\n",
      "nbformat==5.9.2\n",
      "nest-asyncio==1.5.9\n",
      "notebook==7.0.6\n",
      "notebook_shim==0.2.3\n",
      "numpy==1.26.2\n",
      "overrides==7.4.0\n",
      "packaging==23.2\n",
      "pandas==2.1.4\n",
      "pandocfilters==1.5.0\n",
      "parso==0.8.3\n",
      "pathspec==0.12.1\n",
      "platformdirs==4.1.0\n",
      "prometheus-client==0.19.0\n",
      "prompt-toolkit==3.0.43\n",
      "psutil==5.9.7\n",
      "pure-eval==0.2.2\n",
      "pycparser==2.21\n",
      "Pygments==2.17.2\n",
      "pyTelegramBotAPI==4.15.2\n",
      "python-dateutil==2.8.2\n",
      "python-json-logger==2.0.7\n",
      "pytz==2023.3.post1\n",
      "pywin32==306\n",
      "pywinpty==2.0.12\n",
      "PyYAML==6.0.1\n",
      "pyzmq==25.1.2\n",
      "qtconsole==5.5.1\n",
      "QtPy==2.4.1\n",
      "referencing==0.32.1\n",
      "requests==2.31.0\n",
      "rfc3339-validator==0.1.4\n",
      "rfc3986-validator==0.1.1\n",
      "rpds-py==0.17.1\n",
      "Send2Trash==1.8.2\n",
      "six==1.16.0\n",
      "sniffio==1.3.0\n",
      "soupsieve==2.5\n",
      "stack-data==0.6.3\n",
      "terminado==0.18.0\n",
      "tinycss2==1.2.1\n",
      "tornado==6.4\n",
      "traitlets==5.14.1\n",
      "types-python-dateutil==2.8.19.20240106\n",
      "tzdata==2023.4\n",
      "uri-template==1.3.0\n",
      "urllib3==2.1.0\n",
      "wcwidth==0.2.13\n",
      "webcolors==1.13\n",
      "webencodings==0.5.1\n",
      "websocket-client==1.7.0\n",
      "widgetsnbextension==4.0.9\n"
     ]
    }
   ],
   "source": [
    "!pip freeze # показывает зависимости, зависимости это пакеты, пакеты - наборы модулей, модуль - файл с расширение.py "
   ]
  },
  {
   "cell_type": "code",
   "execution_count": null,
   "metadata": {},
   "outputs": [],
   "source": [
    "number: int = 1\n",
    "name: str = \"test\"\n",
    "\n",
    "# Get-Command mypy\n",
    "# Set-ExecutionPolicy RemoteSigned\n",
    "# Invoke-Expression \"mypy\"\n"
   ]
  },
  {
   "cell_type": "code",
   "execution_count": null,
   "metadata": {},
   "outputs": [],
   "source": []
  },
  {
   "cell_type": "markdown",
   "metadata": {},
   "source": []
  },
  {
   "cell_type": "code",
   "execution_count": 4,
   "metadata": {},
   "outputs": [
    {
     "name": "stdout",
     "output_type": "stream",
     "text": [
      "Requirement already satisfied: mypy in c:\\users\\nout\\appdata\\local\\packages\\pythonsoftwarefoundation.python.3.11_qbz5n2kfra8p0\\localcache\\local-packages\\python311\\site-packages (1.8.0)\n",
      "Requirement already satisfied: typing-extensions>=4.1.0 in c:\\users\\nout\\appdata\\local\\packages\\pythonsoftwarefoundation.python.3.11_qbz5n2kfra8p0\\localcache\\local-packages\\python311\\site-packages (from mypy) (4.9.0)\n",
      "Requirement already satisfied: mypy-extensions>=1.0.0 in c:\\users\\nout\\appdata\\local\\packages\\pythonsoftwarefoundation.python.3.11_qbz5n2kfra8p0\\localcache\\local-packages\\python311\\site-packages (from mypy) (1.0.0)\n",
      "Note: you may need to restart the kernel to use updated packages.\n"
     ]
    },
    {
     "name": "stderr",
     "output_type": "stream",
     "text": [
      "\n",
      "[notice] A new release of pip is available: 23.2.1 -> 23.3.2\n",
      "[notice] To update, run: C:\\Users\\nout\\AppData\\Local\\Microsoft\\WindowsApps\\PythonSoftwareFoundation.Python.3.11_qbz5n2kfra8p0\\python.exe -m pip install --upgrade pip\n"
     ]
    },
    {
     "name": "stdout",
     "output_type": "stream",
     "text": [
      "Requirement already satisfied: black in c:\\users\\nout\\appdata\\local\\packages\\pythonsoftwarefoundation.python.3.11_qbz5n2kfra8p0\\localcache\\local-packages\\python311\\site-packages (23.12.1)\n",
      "Requirement already satisfied: click>=8.0.0 in c:\\users\\nout\\appdata\\local\\packages\\pythonsoftwarefoundation.python.3.11_qbz5n2kfra8p0\\localcache\\local-packages\\python311\\site-packages (from black) (8.1.7)\n",
      "Requirement already satisfied: mypy-extensions>=0.4.3 in c:\\users\\nout\\appdata\\local\\packages\\pythonsoftwarefoundation.python.3.11_qbz5n2kfra8p0\\localcache\\local-packages\\python311\\site-packages (from black) (1.0.0)\n",
      "Requirement already satisfied: packaging>=22.0 in c:\\users\\nout\\appdata\\local\\packages\\pythonsoftwarefoundation.python.3.11_qbz5n2kfra8p0\\localcache\\local-packages\\python311\\site-packages (from black) (23.2)\n",
      "Requirement already satisfied: pathspec>=0.9.0 in c:\\users\\nout\\appdata\\local\\packages\\pythonsoftwarefoundation.python.3.11_qbz5n2kfra8p0\\localcache\\local-packages\\python311\\site-packages (from black) (0.12.1)\n",
      "Requirement already satisfied: platformdirs>=2 in c:\\users\\nout\\appdata\\local\\packages\\pythonsoftwarefoundation.python.3.11_qbz5n2kfra8p0\\localcache\\local-packages\\python311\\site-packages (from black) (4.1.0)\n",
      "Requirement already satisfied: colorama in c:\\users\\nout\\appdata\\local\\packages\\pythonsoftwarefoundation.python.3.11_qbz5n2kfra8p0\\localcache\\local-packages\\python311\\site-packages (from click>=8.0.0->black) (0.4.6)\n",
      "Note: you may need to restart the kernel to use updated packages.\n"
     ]
    },
    {
     "name": "stderr",
     "output_type": "stream",
     "text": [
      "\n",
      "[notice] A new release of pip is available: 23.2.1 -> 23.3.2\n",
      "[notice] To update, run: C:\\Users\\nout\\AppData\\Local\\Microsoft\\WindowsApps\\PythonSoftwareFoundation.Python.3.11_qbz5n2kfra8p0\\python.exe -m pip install --upgrade pip\n"
     ]
    }
   ],
   "source": [
    "%pip install mypy\n",
    "%pip install black"
   ]
  }
 ],
 "metadata": {
  "kernelspec": {
   "display_name": "Python 3",
   "language": "python",
   "name": "python3"
  },
  "language_info": {
   "codemirror_mode": {
    "name": "ipython",
    "version": 3
   },
   "file_extension": ".py",
   "mimetype": "text/x-python",
   "name": "python",
   "nbconvert_exporter": "python",
   "pygments_lexer": "ipython3",
   "version": "3.11.7"
  }
 },
 "nbformat": 4,
 "nbformat_minor": 2
}
