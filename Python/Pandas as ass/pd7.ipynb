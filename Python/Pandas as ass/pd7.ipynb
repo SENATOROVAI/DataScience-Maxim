{
 "cells": [
  {
   "cell_type": "code",
   "execution_count": 130,
   "metadata": {},
   "outputs": [],
   "source": [
    "import pandas as pd\n",
    "import numpy as np"
   ]
  },
  {
   "cell_type": "code",
   "execution_count": 131,
   "metadata": {},
   "outputs": [],
   "source": [
    "# pd.set_option('display.max_rows', 10) # custom setting pandas"
   ]
  },
  {
   "cell_type": "code",
   "execution_count": 132,
   "metadata": {},
   "outputs": [],
   "source": [
    "# cotigories - состоит из ограниченного набора значений \n",
    "sp = ['name', 'age', 'value', 'value']\n",
    "cat1 = pd.Categorical(sp)"
   ]
  },
  {
   "cell_type": "code",
   "execution_count": 133,
   "metadata": {},
   "outputs": [
    {
     "data": {
      "text/plain": [
       "['T',\n",
       " '__abstractmethods__',\n",
       " '__annotations__',\n",
       " '__array__',\n",
       " '__array_priority__',\n",
       " '__array_ufunc__',\n",
       " '__class__',\n",
       " '__contains__',\n",
       " '__delattr__',\n",
       " '__dict__',\n",
       " '__dir__',\n",
       " '__doc__',\n",
       " '__eq__',\n",
       " '__format__',\n",
       " '__ge__',\n",
       " '__getattribute__',\n",
       " '__getitem__',\n",
       " '__getstate__',\n",
       " '__gt__',\n",
       " '__hash__',\n",
       " '__init__',\n",
       " '__init_subclass__',\n",
       " '__iter__',\n",
       " '__le__',\n",
       " '__len__',\n",
       " '__lt__',\n",
       " '__module__',\n",
       " '__ne__',\n",
       " '__new__',\n",
       " '__pyx_vtable__',\n",
       " '__reduce__',\n",
       " '__reduce_ex__',\n",
       " '__repr__',\n",
       " '__setattr__',\n",
       " '__setitem__',\n",
       " '__setstate__',\n",
       " '__setstate_cython__',\n",
       " '__sizeof__',\n",
       " '__slots__',\n",
       " '__str__',\n",
       " '__subclasshook__',\n",
       " '__weakref__',\n",
       " '_abc_impl',\n",
       " '_accessors',\n",
       " '_accumulate',\n",
       " '_box_func',\n",
       " '_can_hold_na',\n",
       " '_cast_quantile_result',\n",
       " '_categories_match_up_to_permutation',\n",
       " '_codes',\n",
       " '_concat_same_type',\n",
       " '_constructor',\n",
       " '_dir_additions',\n",
       " '_dir_deletions',\n",
       " '_dtype',\n",
       " '_empty',\n",
       " '_encode_with_my_categories',\n",
       " '_fill_mask_inplace',\n",
       " '_formatter',\n",
       " '_from_backing_data',\n",
       " '_from_factorized',\n",
       " '_from_inferred_categories',\n",
       " '_from_sequence',\n",
       " '_from_sequence_of_strings',\n",
       " '_get_repr',\n",
       " '_hasna',\n",
       " '_hidden_attrs',\n",
       " '_internal_fill_value',\n",
       " '_internal_get_values',\n",
       " '_mode',\n",
       " '_ndarray',\n",
       " '_putmask',\n",
       " '_quantile',\n",
       " '_rank',\n",
       " '_reduce',\n",
       " '_replace',\n",
       " '_repr_2d',\n",
       " '_repr_categories',\n",
       " '_repr_categories_info',\n",
       " '_repr_footer',\n",
       " '_reset_cache',\n",
       " '_reverse_indexer',\n",
       " '_set_categories',\n",
       " '_set_dtype',\n",
       " '_simple_new',\n",
       " '_str_capitalize',\n",
       " '_str_casefold',\n",
       " '_str_contains',\n",
       " '_str_count',\n",
       " '_str_encode',\n",
       " '_str_endswith',\n",
       " '_str_extract',\n",
       " '_str_find',\n",
       " '_str_find_',\n",
       " '_str_findall',\n",
       " '_str_fullmatch',\n",
       " '_str_get',\n",
       " '_str_get_dummies',\n",
       " '_str_getitem',\n",
       " '_str_index',\n",
       " '_str_isalnum',\n",
       " '_str_isalpha',\n",
       " '_str_isdecimal',\n",
       " '_str_isdigit',\n",
       " '_str_islower',\n",
       " '_str_isnumeric',\n",
       " '_str_isspace',\n",
       " '_str_istitle',\n",
       " '_str_isupper',\n",
       " '_str_join',\n",
       " '_str_len',\n",
       " '_str_lower',\n",
       " '_str_lstrip',\n",
       " '_str_map',\n",
       " '_str_match',\n",
       " '_str_na_value',\n",
       " '_str_normalize',\n",
       " '_str_pad',\n",
       " '_str_partition',\n",
       " '_str_removeprefix',\n",
       " '_str_removesuffix',\n",
       " '_str_repeat',\n",
       " '_str_replace',\n",
       " '_str_rfind',\n",
       " '_str_rindex',\n",
       " '_str_rpartition',\n",
       " '_str_rsplit',\n",
       " '_str_rstrip',\n",
       " '_str_slice',\n",
       " '_str_slice_replace',\n",
       " '_str_split',\n",
       " '_str_startswith',\n",
       " '_str_strip',\n",
       " '_str_swapcase',\n",
       " '_str_title',\n",
       " '_str_translate',\n",
       " '_str_upper',\n",
       " '_str_wrap',\n",
       " '_tidy_repr',\n",
       " '_typ',\n",
       " '_unbox_scalar',\n",
       " '_validate_listlike',\n",
       " '_validate_scalar',\n",
       " '_validate_setitem_value',\n",
       " '_values_for_argsort',\n",
       " '_values_for_factorize',\n",
       " '_values_for_rank',\n",
       " '_where',\n",
       " '_wrap_reduction_result',\n",
       " 'add_categories',\n",
       " 'argmax',\n",
       " 'argmin',\n",
       " 'argsort',\n",
       " 'as_ordered',\n",
       " 'as_unordered',\n",
       " 'astype',\n",
       " 'categories',\n",
       " 'check_for_ordered',\n",
       " 'codes',\n",
       " 'copy',\n",
       " 'delete',\n",
       " 'describe',\n",
       " 'dropna',\n",
       " 'dtype',\n",
       " 'equals',\n",
       " 'factorize',\n",
       " 'fillna',\n",
       " 'from_codes',\n",
       " 'insert',\n",
       " 'isin',\n",
       " 'isna',\n",
       " 'isnull',\n",
       " 'map',\n",
       " 'max',\n",
       " 'memory_usage',\n",
       " 'min',\n",
       " 'nbytes',\n",
       " 'ndim',\n",
       " 'notna',\n",
       " 'notnull',\n",
       " 'ordered',\n",
       " 'ravel',\n",
       " 'remove_categories',\n",
       " 'remove_unused_categories',\n",
       " 'rename_categories',\n",
       " 'reorder_categories',\n",
       " 'repeat',\n",
       " 'reshape',\n",
       " 'searchsorted',\n",
       " 'set_categories',\n",
       " 'set_ordered',\n",
       " 'shape',\n",
       " 'shift',\n",
       " 'size',\n",
       " 'sort_values',\n",
       " 'swapaxes',\n",
       " 'take',\n",
       " 'to_list',\n",
       " 'to_numpy',\n",
       " 'transpose',\n",
       " 'unique',\n",
       " 'value_counts',\n",
       " 'view']"
      ]
     },
     "execution_count": 133,
     "metadata": {},
     "output_type": "execute_result"
    }
   ],
   "source": [
    "dir(cat1)"
   ]
  },
  {
   "cell_type": "code",
   "execution_count": 134,
   "metadata": {},
   "outputs": [
    {
     "ename": "AttributeError",
     "evalue": "'Categorical' object has no attribute 'get_values'",
     "output_type": "error",
     "traceback": [
      "\u001b[1;31m---------------------------------------------------------------------------\u001b[0m",
      "\u001b[1;31mAttributeError\u001b[0m                            Traceback (most recent call last)",
      "Cell \u001b[1;32mIn[134], line 1\u001b[0m\n\u001b[1;32m----> 1\u001b[0m cat1\u001b[38;5;241m.\u001b[39mget_values()\n",
      "\u001b[1;31mAttributeError\u001b[0m: 'Categorical' object has no attribute 'get_values'"
     ]
    }
   ],
   "source": [
    "cat1.get_values()"
   ]
  },
  {
   "cell_type": "code",
   "execution_count": null,
   "metadata": {},
   "outputs": [
    {
     "data": {
      "text/plain": [
       "array([1, 0, 2, 2], dtype=int8)"
      ]
     },
     "execution_count": 29,
     "metadata": {},
     "output_type": "execute_result"
    }
   ],
   "source": [
    "cat1.codes"
   ]
  },
  {
   "cell_type": "code",
   "execution_count": null,
   "metadata": {},
   "outputs": [
    {
     "data": {
      "text/plain": [
       "['name', 'age', 'value', 'value']\n",
       "Categories (3, object): ['age', 'value', 'name']"
      ]
     },
     "execution_count": 34,
     "metadata": {},
     "output_type": "execute_result"
    }
   ],
   "source": [
    "ct2 = pd.Categorical(sp, categories=['age','value', 'name'])\n",
    "ct2"
   ]
  },
  {
   "cell_type": "code",
   "execution_count": null,
   "metadata": {},
   "outputs": [
    {
     "data": {
      "text/plain": [
       "['age', 'value', 'value', 'name']\n",
       "Categories (3, object): ['age', 'value', 'name']"
      ]
     },
     "execution_count": 35,
     "metadata": {},
     "output_type": "execute_result"
    }
   ],
   "source": [
    "ct2.sort_values()"
   ]
  },
  {
   "cell_type": "code",
   "execution_count": null,
   "metadata": {},
   "outputs": [
    {
     "data": {
      "text/plain": [
       "CategoricalDtype(categories=['age', 'name', 'value'], ordered=False)"
      ]
     },
     "execution_count": 38,
     "metadata": {},
     "output_type": "execute_result"
    }
   ],
   "source": [
    "# категор. пер. - факторные переменные, которые хранят качевтсвенные данные (не имеют числ. знач или )\n",
    "cat_series = pd.Series(sp, dtype='category')\n",
    "cat_series.dtype"
   ]
  },
  {
   "cell_type": "code",
   "execution_count": null,
   "metadata": {},
   "outputs": [],
   "source": [
    "cat_series1 = pd.Series(sp)\n",
    "cat_series1_as_cat = cat_series1.astype('category')"
   ]
  },
  {
   "cell_type": "code",
   "execution_count": null,
   "metadata": {},
   "outputs": [
    {
     "data": {
      "text/plain": [
       "dtype('O')"
      ]
     },
     "execution_count": 40,
     "metadata": {},
     "output_type": "execute_result"
    }
   ],
   "source": [
    "cat_series1.dtype"
   ]
  },
  {
   "cell_type": "code",
   "execution_count": null,
   "metadata": {},
   "outputs": [
    {
     "data": {
      "text/plain": [
       "0    1\n",
       "1    0\n",
       "2    2\n",
       "3    2\n",
       "dtype: int8"
      ]
     },
     "execution_count": 45,
     "metadata": {},
     "output_type": "execute_result"
    }
   ],
   "source": [
    "# cat - позволяет работать с атрибутами типа категор.\n",
    "cat_series1_as_cat.cat.codes"
   ]
  },
  {
   "cell_type": "code",
   "execution_count": null,
   "metadata": {},
   "outputs": [
    {
     "data": {
      "text/plain": [
       "0     name\n",
       "1      age\n",
       "2    value\n",
       "3    value\n",
       "dtype: category\n",
       "Categories (6, object): ['age', 'name', 'value', 'sex', 'count', 'test']"
      ]
     },
     "execution_count": 52,
     "metadata": {},
     "output_type": "execute_result"
    }
   ],
   "source": [
    "cat_series1_as_cat.cat.add_categories(['sex', 'count', 'test'])"
   ]
  },
  {
   "cell_type": "code",
   "execution_count": null,
   "metadata": {},
   "outputs": [
    {
     "data": {
      "text/plain": [
       "0     name\n",
       "1      age\n",
       "2    value\n",
       "3    value\n",
       "dtype: category\n",
       "Categories (3, object): ['age', 'name', 'value']"
      ]
     },
     "execution_count": 59,
     "metadata": {},
     "output_type": "execute_result"
    }
   ],
   "source": [
    "cat_series1_as_cat.cat.rename_categories({'sex': 'error'})"
   ]
  },
  {
   "cell_type": "code",
   "execution_count": null,
   "metadata": {},
   "outputs": [],
   "source": [
    "cat_series1_as_cat.cat.as_ordered(ordered=True)\n",
    "#help(cat_series1_as_cat.cat.as_ordered)"
   ]
  },
  {
   "cell_type": "code",
   "execution_count": null,
   "metadata": {},
   "outputs": [
    {
     "data": {
      "text/plain": [
       "array([66, 92, 98, 17, 83])"
      ]
     },
     "execution_count": 67,
     "metadata": {},
     "output_type": "execute_result"
    }
   ],
   "source": [
    "np.random.seed(123)\n",
    "values = np.random.randint(0, 100, 5)\n",
    "values"
   ]
  },
  {
   "cell_type": "code",
   "execution_count": null,
   "metadata": {},
   "outputs": [],
   "source": [
    "bins = pd.DataFrame({'values': values})\n",
    "bins['groop'] = pd.cut(values, range(0, 101, 10))"
   ]
  },
  {
   "cell_type": "code",
   "execution_count": null,
   "metadata": {},
   "outputs": [
    {
     "data": {
      "text/plain": [
       "0     (60, 70]\n",
       "1    (90, 100]\n",
       "2    (90, 100]\n",
       "3     (10, 20]\n",
       "4     (80, 90]\n",
       "Name: groop, dtype: category\n",
       "Categories (10, interval[int64, right]): [(0, 10] < (10, 20] < (20, 30] < (30, 40] ... (60, 70] < (70, 80] < (80, 90] < (90, 100]]"
      ]
     },
     "execution_count": 73,
     "metadata": {},
     "output_type": "execute_result"
    }
   ],
   "source": [
    "bins.groop"
   ]
  },
  {
   "cell_type": "code",
   "execution_count": null,
   "metadata": {},
   "outputs": [],
   "source": [
    "cat_metal = pd.Categorical([\"bronze\", \"gold\", \"silver\", \"bronze\"], categories=[\"bronze\", \"gold\", \"silver\"], ordered=True)"
   ]
  },
  {
   "cell_type": "code",
   "execution_count": null,
   "metadata": {},
   "outputs": [],
   "source": [
    "dir(cat_metal)"
   ]
  },
  {
   "cell_type": "code",
   "execution_count": null,
   "metadata": {},
   "outputs": [
    {
     "data": {
      "text/plain": [
       "array([0, 1, 2, 0], dtype=int8)"
      ]
     },
     "execution_count": 84,
     "metadata": {},
     "output_type": "execute_result"
    }
   ],
   "source": [
    "cat_metal.codes"
   ]
  },
  {
   "cell_type": "code",
   "execution_count": null,
   "metadata": {},
   "outputs": [
    {
     "ename": "AttributeError",
     "evalue": "'Categorical' object has no attribute 'get_values'",
     "output_type": "error",
     "traceback": [
      "\u001b[1;31m---------------------------------------------------------------------------\u001b[0m",
      "\u001b[1;31mAttributeError\u001b[0m                            Traceback (most recent call last)",
      "Cell \u001b[1;32mIn[89], line 1\u001b[0m\n\u001b[1;32m----> 1\u001b[0m cat_metal\u001b[38;5;241m.\u001b[39mdtype, cat_metal\u001b[38;5;241m.\u001b[39mget_values()\n",
      "\u001b[1;31mAttributeError\u001b[0m: 'Categorical' object has no attribute 'get_values'"
     ]
    }
   ],
   "source": [
    "cat_metal.dtype"
   ]
  },
  {
   "cell_type": "code",
   "execution_count": null,
   "metadata": {},
   "outputs": [
    {
     "data": {
      "text/plain": [
       "Index(['bronze', 'gold', 'silver'], dtype='object')"
      ]
     },
     "execution_count": 91,
     "metadata": {},
     "output_type": "execute_result"
    }
   ],
   "source": [
    "cat_metal.categories"
   ]
  },
  {
   "cell_type": "markdown",
   "metadata": {},
   "source": []
  },
  {
   "cell_type": "code",
   "execution_count": null,
   "metadata": {},
   "outputs": [
    {
     "data": {
      "text/plain": [
       "[NaN, 'gold', 'silver', NaN]\n",
       "Categories (2, object): ['gold' < 'silver']"
      ]
     },
     "execution_count": 97,
     "metadata": {},
     "output_type": "execute_result"
    }
   ],
   "source": [
    "remove_bronze = cat_metal.remove_categories(['bronze'])\n",
    "remove_bronze = remove_bronze.add_categories('uran')\n",
    "remove_bronze.remove_unused_categories()"
   ]
  },
  {
   "cell_type": "code",
   "execution_count": null,
   "metadata": {},
   "outputs": [
    {
     "data": {
      "text/plain": [
       "0    cat1\n",
       "1    cat2\n",
       "2    cat3\n",
       "dtype: category\n",
       "Categories (3, object): ['cat1', 'cat2', 'cat3']"
      ]
     },
     "execution_count": 99,
     "metadata": {},
     "output_type": "execute_result"
    }
   ],
   "source": [
    "sr = pd.Series(['cat1', 'cat2', 'cat3'], dtype='category')\n",
    "sr"
   ]
  },
  {
   "cell_type": "code",
   "execution_count": null,
   "metadata": {},
   "outputs": [
    {
     "data": {
      "text/plain": [
       "0    NaN\n",
       "1    NaN\n",
       "2    NaN\n",
       "dtype: category\n",
       "Categories (2, object): ['abc', 'dfg']"
      ]
     },
     "execution_count": 100,
     "metadata": {},
     "output_type": "execute_result"
    }
   ],
   "source": [
    "sr.cat.set_categories(['abc', 'dfg'])"
   ]
  },
  {
   "cell_type": "code",
   "execution_count": null,
   "metadata": {},
   "outputs": [
    {
     "data": {
      "text/plain": [
       "count        3\n",
       "unique       3\n",
       "top       cat1\n",
       "freq         1\n",
       "dtype: object"
      ]
     },
     "execution_count": 101,
     "metadata": {},
     "output_type": "execute_result"
    }
   ],
   "source": [
    "sr.describe()"
   ]
  },
  {
   "cell_type": "code",
   "execution_count": null,
   "metadata": {},
   "outputs": [
    {
     "name": "stdout",
     "output_type": "stream",
     "text": [
      "<class 'pandas.core.series.Series'>\n",
      "RangeIndex: 3 entries, 0 to 2\n",
      "Series name: None\n",
      "Non-Null Count  Dtype   \n",
      "--------------  -----   \n",
      "3 non-null      category\n",
      "dtypes: category(1)\n",
      "memory usage: 267.0 bytes\n"
     ]
    }
   ],
   "source": [
    "sr.info()"
   ]
  },
  {
   "cell_type": "code",
   "execution_count": null,
   "metadata": {},
   "outputs": [],
   "source": [
    "np.random.seed(123)\n",
    "names = ['max', 'ruslan', 'polina']\n",
    "greads = np.random.randint(50, 101, len(names))"
   ]
  },
  {
   "cell_type": "code",
   "execution_count": null,
   "metadata": {},
   "outputs": [],
   "source": [
    "df_scores = pd.DataFrame({'name': names, 'greads': greads})\n",
    "score_bins = [2,3,5]\n",
    "latter_greads = ['f', 'c', 'a']"
   ]
  },
  {
   "cell_type": "code",
   "execution_count": 136,
   "metadata": {},
   "outputs": [
    {
     "ename": "ValueError",
     "evalue": "Input array must be 1 dimensional",
     "output_type": "error",
     "traceback": [
      "\u001b[1;31m---------------------------------------------------------------------------\u001b[0m",
      "\u001b[1;31mValueError\u001b[0m                                Traceback (most recent call last)",
      "Cell \u001b[1;32mIn[136], line 1\u001b[0m\n\u001b[1;32m----> 1\u001b[0m latter_cut \u001b[38;5;241m=\u001b[39m pd\u001b[38;5;241m.\u001b[39mcut(df_scores, score_bins, labels\u001b[38;5;241m=\u001b[39mlatter_greads)\n\u001b[0;32m      2\u001b[0m df_scores[\u001b[38;5;124m'\u001b[39m\u001b[38;5;124mLATTER\u001b[39m\u001b[38;5;124m'\u001b[39m] \u001b[38;5;241m=\u001b[39m latter_cut\n",
      "File \u001b[1;32mc:\\ProgramData\\anaconda3\\Lib\\site-packages\\pandas\\core\\reshape\\tile.py:242\u001b[0m, in \u001b[0;36mcut\u001b[1;34m(x, bins, right, labels, retbins, precision, include_lowest, duplicates, ordered)\u001b[0m\n\u001b[0;32m    239\u001b[0m \u001b[38;5;66;03m# NOTE: this binning code is changed a bit from histogram for var(x) == 0\u001b[39;00m\n\u001b[0;32m    241\u001b[0m original \u001b[38;5;241m=\u001b[39m x\n\u001b[1;32m--> 242\u001b[0m x \u001b[38;5;241m=\u001b[39m _preprocess_for_cut(x)\n\u001b[0;32m    243\u001b[0m x, dtype \u001b[38;5;241m=\u001b[39m _coerce_to_type(x)\n\u001b[0;32m    245\u001b[0m \u001b[38;5;28;01mif\u001b[39;00m \u001b[38;5;129;01mnot\u001b[39;00m np\u001b[38;5;241m.\u001b[39miterable(bins):\n",
      "File \u001b[1;32mc:\\ProgramData\\anaconda3\\Lib\\site-packages\\pandas\\core\\reshape\\tile.py:606\u001b[0m, in \u001b[0;36m_preprocess_for_cut\u001b[1;34m(x)\u001b[0m\n\u001b[0;32m    604\u001b[0m     x \u001b[38;5;241m=\u001b[39m np\u001b[38;5;241m.\u001b[39masarray(x)\n\u001b[0;32m    605\u001b[0m \u001b[38;5;28;01mif\u001b[39;00m x\u001b[38;5;241m.\u001b[39mndim \u001b[38;5;241m!=\u001b[39m \u001b[38;5;241m1\u001b[39m:\n\u001b[1;32m--> 606\u001b[0m     \u001b[38;5;28;01mraise\u001b[39;00m \u001b[38;5;167;01mValueError\u001b[39;00m(\u001b[38;5;124m\"\u001b[39m\u001b[38;5;124mInput array must be 1 dimensional\u001b[39m\u001b[38;5;124m\"\u001b[39m)\n\u001b[0;32m    608\u001b[0m \u001b[38;5;28;01mreturn\u001b[39;00m x\n",
      "\u001b[1;31mValueError\u001b[0m: Input array must be 1 dimensional"
     ]
    }
   ],
   "source": [
    "latter_cut = pd.cut(df_scores, score_bins, labels=latter_greads)\n",
    "df_scores['LATTER'] = latter_cut"
   ]
  },
  {
   "cell_type": "code",
   "execution_count": null,
   "metadata": {},
   "outputs": [
    {
     "data": {
      "text/html": [
       "<div>\n",
       "<style scoped>\n",
       "    .dataframe tbody tr th:only-of-type {\n",
       "        vertical-align: middle;\n",
       "    }\n",
       "\n",
       "    .dataframe tbody tr th {\n",
       "        vertical-align: top;\n",
       "    }\n",
       "\n",
       "    .dataframe thead th {\n",
       "        text-align: right;\n",
       "    }\n",
       "</style>\n",
       "<table border=\"1\" class=\"dataframe\">\n",
       "  <thead>\n",
       "    <tr style=\"text-align: right;\">\n",
       "      <th></th>\n",
       "      <th>name</th>\n",
       "      <th>greads</th>\n",
       "    </tr>\n",
       "  </thead>\n",
       "  <tbody>\n",
       "    <tr>\n",
       "      <th>0</th>\n",
       "      <td>max</td>\n",
       "      <td>95</td>\n",
       "    </tr>\n",
       "    <tr>\n",
       "      <th>1</th>\n",
       "      <td>ruslan</td>\n",
       "      <td>52</td>\n",
       "    </tr>\n",
       "    <tr>\n",
       "      <th>2</th>\n",
       "      <td>polina</td>\n",
       "      <td>78</td>\n",
       "    </tr>\n",
       "  </tbody>\n",
       "</table>\n",
       "</div>"
      ],
      "text/plain": [
       "     name  greads\n",
       "0     max      95\n",
       "1  ruslan      52\n",
       "2  polina      78"
      ]
     },
     "execution_count": 119,
     "metadata": {},
     "output_type": "execute_result"
    }
   ],
   "source": [
    "df_scores"
   ]
  }
 ],
 "metadata": {
  "kernelspec": {
   "display_name": "base",
   "language": "python",
   "name": "python3"
  },
  "language_info": {
   "codemirror_mode": {
    "name": "ipython",
    "version": 3
   },
   "file_extension": ".py",
   "mimetype": "text/x-python",
   "name": "python",
   "nbconvert_exporter": "python",
   "pygments_lexer": "ipython3",
   "version": "3.11.5"
  }
 },
 "nbformat": 4,
 "nbformat_minor": 2
}
