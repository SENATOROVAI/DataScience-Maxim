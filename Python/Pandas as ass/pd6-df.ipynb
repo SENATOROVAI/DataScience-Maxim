{
 "cells": [
  {
   "cell_type": "code",
   "execution_count": 1,
   "metadata": {},
   "outputs": [],
   "source": [
    "import pandas as pd\n",
    "import numpy as np"
   ]
  },
  {
   "cell_type": "markdown",
   "metadata": {},
   "source": [
    "`numpy.array(object, dtype=None, *, copy=True, order='K', subok=False, ndmin=0, like=None)`\n",
    "- `objectarray_like` Массив, любой объект, предоставляющий интерфейс array, объект, чей метод __array__ возвращает массив, или любая (вложенная) последовательность. Если object является скалярным, возвращается 0-мерный массив, содержащий object.\n",
    "- `dtypedata-type, optional` Желаемый тип данных для массива. Если он не задан, NumPy попытается использовать dtype по умолчанию, который может представлять значения (при необходимости применяя правила продвижения).\n",
    "- `copybool, optional` Если значение true (по умолчанию), то объект копируется. В противном случае копия будет сделана только в том случае, если __array__ возвращает копию, если obj является вложенной последовательностью или если копия необходима для удовлетворения любых других требований (dtype, order и т.д.).\n",
    "- `order{‘K’, ‘A’, ‘C’, ‘F’}, optional` Укажите расположение массива в памяти. Если object не является массивом, вновь созданный массив будет в порядке C (основная строка), если не указано ‘F’, в этом случае он будет в порядке Fortran (основная колонка). Если object является массивом, выполняется следующее.\n",
    "- `subokbool, optional` Если True, то подклассы будут передаваться через, в противном случае возвращаемый массив будет принудительно являться массивом базового класса (по умолчанию).\n",
    "- `ndminint, optional` Указывает минимальное количество измерений, которое должен иметь результирующий массив. Единицы будут добавлены к фигуре по мере необходимости для выполнения этого требования.\n",
    "- `likearray_like, optional` Ссылочный объект, позволяющий создавать массивы, которые не являются массивами NumPy. Если массивоподобный объект, передаваемый как like, поддерживает протокол __array_function__, результат будет определен им. В этом случае это гарантирует создание объекта массива, совместимого с тем, который передается через этот аргумент.\n",
    "\n",
    "\n",
    "```python\n",
    "np.array(np.mat('1 2; 3 4'))\n",
    "array([[1, 2],\n",
    "       [3, 4]])\n",
    "```\n"
   ]
  },
  {
   "cell_type": "code",
   "execution_count": 2,
   "metadata": {},
   "outputs": [
    {
     "data": {
      "text/html": [
       "<div>\n",
       "<style scoped>\n",
       "    .dataframe tbody tr th:only-of-type {\n",
       "        vertical-align: middle;\n",
       "    }\n",
       "\n",
       "    .dataframe tbody tr th {\n",
       "        vertical-align: top;\n",
       "    }\n",
       "\n",
       "    .dataframe thead th {\n",
       "        text-align: right;\n",
       "    }\n",
       "</style>\n",
       "<table border=\"1\" class=\"dataframe\">\n",
       "  <thead>\n",
       "    <tr style=\"text-align: right;\">\n",
       "      <th></th>\n",
       "      <th>a</th>\n",
       "      <th>b</th>\n",
       "    </tr>\n",
       "  </thead>\n",
       "  <tbody>\n",
       "    <tr>\n",
       "      <th>0</th>\n",
       "      <td>10</td>\n",
       "      <td>11</td>\n",
       "    </tr>\n",
       "    <tr>\n",
       "      <th>1</th>\n",
       "      <td>12</td>\n",
       "      <td>23</td>\n",
       "    </tr>\n",
       "  </tbody>\n",
       "</table>\n",
       "</div>"
      ],
      "text/plain": [
       "    a   b\n",
       "0  10  11\n",
       "1  12  23"
      ]
     },
     "execution_count": 2,
     "metadata": {},
     "output_type": "execute_result"
    }
   ],
   "source": [
    "df = pd.DataFrame(np.array([[10,11],[12,23]]), columns=['a','b'])\n",
    "df.head()"
   ]
  },
  {
   "cell_type": "code",
   "execution_count": 3,
   "metadata": {},
   "outputs": [
    {
     "data": {
      "text/plain": [
       "2"
      ]
     },
     "execution_count": 3,
     "metadata": {},
     "output_type": "execute_result"
    }
   ],
   "source": [
    "len(df)  # длина по колонкам "
   ]
  },
  {
   "cell_type": "code",
   "execution_count": 4,
   "metadata": {},
   "outputs": [
    {
     "data": {
      "text/plain": [
       "(2, 2)"
      ]
     },
     "execution_count": 4,
     "metadata": {},
     "output_type": "execute_result"
    }
   ],
   "source": [
    "df.shape # роазмерность матрицы "
   ]
  },
  {
   "cell_type": "code",
   "execution_count": null,
   "metadata": {},
   "outputs": [],
   "source": [
    "df = pd.read_csv('https://raw.githubusercontent.com/SENATOROVAI/data2-pd/main/Data/sp500.csv')\n",
    "# df.head()\n",
    "# df.describe()"
   ]
  }
 ],
 "metadata": {
  "kernelspec": {
   "display_name": "base",
   "language": "python",
   "name": "python3"
  },
  "language_info": {
   "codemirror_mode": {
    "name": "ipython",
    "version": 3
   },
   "file_extension": ".py",
   "mimetype": "text/x-python",
   "name": "python",
   "nbconvert_exporter": "python",
   "pygments_lexer": "ipython3",
   "version": "3.11.5"
  }
 },
 "nbformat": 4,
 "nbformat_minor": 2
}
