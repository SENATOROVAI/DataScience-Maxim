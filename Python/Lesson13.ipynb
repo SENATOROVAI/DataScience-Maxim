{
 "cells": [
  {
   "cell_type": "code",
   "execution_count": null,
   "metadata": {},
   "outputs": [],
   "source": [
    "Configure Display Language\n",
    "ctrl+shift+p\n",
    "pip - пакетный менеджер, управляет зависмостями(пакеты/модули, удаляет, уст, загружаетт\n",
    "Пакет - набор модулей. модуль - файл с раширением.py\n"
   ]
  },
  {
   "cell_type": "code",
   "execution_count": 1,
   "metadata": {},
   "outputs": [
    {
     "name": "stdout",
     "output_type": "stream",
     "text": [
      "asttokens==2.4.1\n",
      "black==23.12.1\n",
      "click==8.1.7\n",
      "colorama==0.4.6\n",
      "comm==0.2.1\n",
      "debugpy==1.8.0\n",
      "decorator==5.1.1\n",
      "executing==2.0.1\n",
      "ipykernel==6.29.0\n",
      "ipython==8.20.0\n",
      "jedi==0.19.1\n",
      "jupyter_client==8.6.0\n",
      "jupyter_core==5.7.1\n",
      "matplotlib-inline==0.1.6\n",
      "mypy==1.8.0\n",
      "mypy-extensions==1.0.0\n",
      "nest-asyncio==1.6.0\n",
      "packaging==23.2\n",
      "parso==0.8.3\n",
      "pathspec==0.12.1\n",
      "platformdirs==4.1.0\n",
      "prompt-toolkit==3.0.43\n",
      "psutil==5.9.8\n",
      "pure-eval==0.2.2\n",
      "Pygments==2.17.2\n",
      "python-dateutil==2.8.2\n",
      "pywin32==306\n",
      "pyzmq==25.1.2\n",
      "six==1.16.0\n",
      "stack-data==0.6.3\n",
      "tornado==6.4\n",
      "traitlets==5.14.1\n",
      "typing_extensions==4.9.0\n",
      "wcwidth==0.2.13\n"
     ]
    }
   ],
   "source": [
    "!pip freeze # показывает зависмости\n"
   ]
  },
  {
   "cell_type": "markdown",
   "metadata": {},
   "source": []
  },
  {
   "cell_type": "code",
   "execution_count": 3,
   "metadata": {},
   "outputs": [],
   "source": [
    "!python -m venv venv #venv виртулаьное окружение с отдельным питоном и его зависимостями \n"
   ]
  },
  {
   "cell_type": "code",
   "execution_count": 5,
   "metadata": {},
   "outputs": [],
   "source": [
    "!pip freeze > requirements.txt # выгрузка зависимостей "
   ]
  },
  {
   "cell_type": "code",
   "execution_count": 6,
   "metadata": {},
   "outputs": [
    {
     "name": "stdout",
     "output_type": "stream",
     "text": [
      "Requirement already satisfied: asttokens==2.4.1 in c:\\users\\nout\\appdata\\roaming\\python\\python312\\site-packages (from -r requirements.txt (line 1)) (2.4.1)\n",
      "Requirement already satisfied: black==23.12.1 in c:\\users\\nout\\appdata\\local\\programs\\python\\python312\\lib\\site-packages (from -r requirements.txt (line 2)) (23.12.1)\n",
      "Requirement already satisfied: click==8.1.7 in c:\\users\\nout\\appdata\\local\\programs\\python\\python312\\lib\\site-packages (from -r requirements.txt (line 3)) (8.1.7)\n",
      "Requirement already satisfied: colorama==0.4.6 in c:\\users\\nout\\appdata\\local\\programs\\python\\python312\\lib\\site-packages (from -r requirements.txt (line 4)) (0.4.6)\n",
      "Requirement already satisfied: comm==0.2.1 in c:\\users\\nout\\appdata\\roaming\\python\\python312\\site-packages (from -r requirements.txt (line 5)) (0.2.1)\n",
      "Requirement already satisfied: debugpy==1.8.0 in c:\\users\\nout\\appdata\\roaming\\python\\python312\\site-packages (from -r requirements.txt (line 6)) (1.8.0)\n",
      "Requirement already satisfied: decorator==5.1.1 in c:\\users\\nout\\appdata\\roaming\\python\\python312\\site-packages (from -r requirements.txt (line 7)) (5.1.1)\n",
      "Requirement already satisfied: executing==2.0.1 in c:\\users\\nout\\appdata\\roaming\\python\\python312\\site-packages (from -r requirements.txt (line 8)) (2.0.1)\n",
      "Requirement already satisfied: ipykernel==6.29.0 in c:\\users\\nout\\appdata\\roaming\\python\\python312\\site-packages (from -r requirements.txt (line 9)) (6.29.0)\n",
      "Requirement already satisfied: ipython==8.20.0 in c:\\users\\nout\\appdata\\roaming\\python\\python312\\site-packages (from -r requirements.txt (line 10)) (8.20.0)\n",
      "Requirement already satisfied: jedi==0.19.1 in c:\\users\\nout\\appdata\\roaming\\python\\python312\\site-packages (from -r requirements.txt (line 11)) (0.19.1)\n",
      "Requirement already satisfied: jupyter_client==8.6.0 in c:\\users\\nout\\appdata\\roaming\\python\\python312\\site-packages (from -r requirements.txt (line 12)) (8.6.0)\n",
      "Requirement already satisfied: jupyter_core==5.7.1 in c:\\users\\nout\\appdata\\roaming\\python\\python312\\site-packages (from -r requirements.txt (line 13)) (5.7.1)\n",
      "Requirement already satisfied: matplotlib-inline==0.1.6 in c:\\users\\nout\\appdata\\roaming\\python\\python312\\site-packages (from -r requirements.txt (line 14)) (0.1.6)\n",
      "Requirement already satisfied: mypy==1.8.0 in c:\\users\\nout\\appdata\\local\\programs\\python\\python312\\lib\\site-packages (from -r requirements.txt (line 15)) (1.8.0)\n",
      "Requirement already satisfied: mypy-extensions==1.0.0 in c:\\users\\nout\\appdata\\local\\programs\\python\\python312\\lib\\site-packages (from -r requirements.txt (line 16)) (1.0.0)\n",
      "Requirement already satisfied: nest-asyncio==1.6.0 in c:\\users\\nout\\appdata\\roaming\\python\\python312\\site-packages (from -r requirements.txt (line 17)) (1.6.0)\n",
      "Requirement already satisfied: packaging==23.2 in c:\\users\\nout\\appdata\\local\\programs\\python\\python312\\lib\\site-packages (from -r requirements.txt (line 18)) (23.2)\n",
      "Requirement already satisfied: parso==0.8.3 in c:\\users\\nout\\appdata\\roaming\\python\\python312\\site-packages (from -r requirements.txt (line 19)) (0.8.3)\n",
      "Requirement already satisfied: pathspec==0.12.1 in c:\\users\\nout\\appdata\\local\\programs\\python\\python312\\lib\\site-packages (from -r requirements.txt (line 20)) (0.12.1)\n",
      "Requirement already satisfied: platformdirs==4.1.0 in c:\\users\\nout\\appdata\\local\\programs\\python\\python312\\lib\\site-packages (from -r requirements.txt (line 21)) (4.1.0)\n",
      "Requirement already satisfied: prompt-toolkit==3.0.43 in c:\\users\\nout\\appdata\\roaming\\python\\python312\\site-packages (from -r requirements.txt (line 22)) (3.0.43)\n",
      "Requirement already satisfied: psutil==5.9.8 in c:\\users\\nout\\appdata\\roaming\\python\\python312\\site-packages (from -r requirements.txt (line 23)) (5.9.8)\n",
      "Requirement already satisfied: pure-eval==0.2.2 in c:\\users\\nout\\appdata\\roaming\\python\\python312\\site-packages (from -r requirements.txt (line 24)) (0.2.2)\n",
      "Requirement already satisfied: Pygments==2.17.2 in c:\\users\\nout\\appdata\\roaming\\python\\python312\\site-packages (from -r requirements.txt (line 25)) (2.17.2)\n",
      "Requirement already satisfied: python-dateutil==2.8.2 in c:\\users\\nout\\appdata\\roaming\\python\\python312\\site-packages (from -r requirements.txt (line 26)) (2.8.2)\n",
      "Requirement already satisfied: pywin32==306 in c:\\users\\nout\\appdata\\roaming\\python\\python312\\site-packages (from -r requirements.txt (line 27)) (306)\n",
      "Requirement already satisfied: pyzmq==25.1.2 in c:\\users\\nout\\appdata\\roaming\\python\\python312\\site-packages (from -r requirements.txt (line 28)) (25.1.2)\n",
      "Requirement already satisfied: six==1.16.0 in c:\\users\\nout\\appdata\\roaming\\python\\python312\\site-packages (from -r requirements.txt (line 29)) (1.16.0)\n",
      "Requirement already satisfied: stack-data==0.6.3 in c:\\users\\nout\\appdata\\roaming\\python\\python312\\site-packages (from -r requirements.txt (line 30)) (0.6.3)\n",
      "Requirement already satisfied: tornado==6.4 in c:\\users\\nout\\appdata\\roaming\\python\\python312\\site-packages (from -r requirements.txt (line 31)) (6.4)\n",
      "Requirement already satisfied: traitlets==5.14.1 in c:\\users\\nout\\appdata\\roaming\\python\\python312\\site-packages (from -r requirements.txt (line 32)) (5.14.1)\n",
      "Requirement already satisfied: typing_extensions==4.9.0 in c:\\users\\nout\\appdata\\local\\programs\\python\\python312\\lib\\site-packages (from -r requirements.txt (line 33)) (4.9.0)\n",
      "Requirement already satisfied: wcwidth==0.2.13 in c:\\users\\nout\\appdata\\roaming\\python\\python312\\site-packages (from -r requirements.txt (line 34)) (0.2.13)\n"
     ]
    },
    {
     "name": "stderr",
     "output_type": "stream",
     "text": [
      "\n",
      "[notice] A new release of pip is available: 23.2.1 -> 23.3.2\n",
      "[notice] To update, run: python.exe -m pip install --upgrade pip\n"
     ]
    }
   ],
   "source": [
    "!pip install -r requirements.txt #  установка зависимостей "
   ]
  }
 ],
 "metadata": {
  "kernelspec": {
   "display_name": "Python 3",
   "language": "python",
   "name": "python3"
  },
  "language_info": {
   "codemirror_mode": {
    "name": "ipython",
    "version": 3
   },
   "file_extension": ".py",
   "mimetype": "text/x-python",
   "name": "python",
   "nbconvert_exporter": "python",
   "pygments_lexer": "ipython3",
   "version": "3.11.5"
  }
 },
 "nbformat": 4,
 "nbformat_minor": 2
}
