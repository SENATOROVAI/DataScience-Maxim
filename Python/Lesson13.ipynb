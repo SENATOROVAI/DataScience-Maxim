{
 "cells": [
  {
   "cell_type": "code",
   "execution_count": null,
   "metadata": {},
   "outputs": [],
   "source": [
    "Configure Display Language\n",
    "ctrl+shift+p\n",
    "pip - пакетный менеджер, управляет зависмостями(пакеты/модули, удаляет, уст, загружаетт\n",
    "Пакет - набор модулей. модуль - файл с раширением.py\n"
   ]
  },
  {
   "cell_type": "markdown",
   "metadata": {},
   "source": [
    "mypy - Проверка кода на ошибки в командной строке, для удобства нахождения папки (Удержание ctrl + первая буква файла)\n",
    "При зажатом ctrl при наведении на ошибку наводит курсор на строку с ней\n"
   ]
  },
  {
   "cell_type": "markdown",
   "metadata": {},
   "source": [
    "# Просмотр зависимостей в проекте \n",
    "начало с '!' - обращенние к терминалу \n"
   ]
  },
  {
   "cell_type": "code",
   "execution_count": null,
   "metadata": {},
   "outputs": [],
   "source": [
    "!pip freeze # показывает зависмости (Пакетный менеджер должен показать все пакеты), выбираем интропритатор python, свою версию питона. \n"
   ]
  },
  {
   "cell_type": "markdown",
   "metadata": {},
   "source": []
  },
  {
   "cell_type": "code",
   "execution_count": 3,
   "metadata": {},
   "outputs": [],
   "source": [
    "!python -m venv venv #venv виртулаьное окружение с отдельным питоном и его зависимостями \n"
   ]
  },
  {
   "cell_type": "code",
   "execution_count": 5,
   "metadata": {},
   "outputs": [],
   "source": [
    "!pip freeze > requirements.txt # выгрузка зависимостей "
   ]
  },
  {
   "cell_type": "code",
   "execution_count": null,
   "metadata": {},
   "outputs": [],
   "source": [
    "!pip install -r requirements.txt #  установка зависимостей "
   ]
  }
 ],
 "metadata": {
  "kernelspec": {
   "display_name": "Python 3",
   "language": "python",
   "name": "python3"
  },
  "language_info": {
   "codemirror_mode": {
    "name": "ipython",
    "version": 3
   },
   "file_extension": ".py",
   "mimetype": "text/x-python",
   "name": "python",
   "nbconvert_exporter": "python",
   "pygments_lexer": "ipython3",
   "version": "3.12.1"
  }
 },
 "nbformat": 4,
 "nbformat_minor": 2
}
