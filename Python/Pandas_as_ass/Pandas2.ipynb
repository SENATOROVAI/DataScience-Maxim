{
 "cells": [
  {
   "cell_type": "code",
   "execution_count": 70,
   "metadata": {},
   "outputs": [],
   "source": [
    "import pandas as pd\n",
    "import numpy as np"
   ]
  },
  {
   "cell_type": "code",
   "execution_count": 71,
   "metadata": {},
   "outputs": [
    {
     "data": {
      "text/html": [
       "<div>\n",
       "<style scoped>\n",
       "    .dataframe tbody tr th:only-of-type {\n",
       "        vertical-align: middle;\n",
       "    }\n",
       "\n",
       "    .dataframe tbody tr th {\n",
       "        vertical-align: top;\n",
       "    }\n",
       "\n",
       "    .dataframe thead th {\n",
       "        text-align: right;\n",
       "    }\n",
       "</style>\n",
       "<table border=\"1\" class=\"dataframe\">\n",
       "  <thead>\n",
       "    <tr style=\"text-align: right;\">\n",
       "      <th></th>\n",
       "      <th>0</th>\n",
       "    </tr>\n",
       "  </thead>\n",
       "  <tbody>\n",
       "    <tr>\n",
       "      <th>0</th>\n",
       "      <td>1</td>\n",
       "    </tr>\n",
       "    <tr>\n",
       "      <th>1</th>\n",
       "      <td>2</td>\n",
       "    </tr>\n",
       "    <tr>\n",
       "      <th>2</th>\n",
       "      <td>3</td>\n",
       "    </tr>\n",
       "    <tr>\n",
       "      <th>3</th>\n",
       "      <td>4</td>\n",
       "    </tr>\n",
       "    <tr>\n",
       "      <th>4</th>\n",
       "      <td>5</td>\n",
       "    </tr>\n",
       "    <tr>\n",
       "      <th>5</th>\n",
       "      <td>6</td>\n",
       "    </tr>\n",
       "  </tbody>\n",
       "</table>\n",
       "</div>"
      ],
      "text/plain": [
       "   0\n",
       "0  1\n",
       "1  2\n",
       "2  3\n",
       "3  4\n",
       "4  5\n",
       "5  6"
      ]
     },
     "execution_count": 71,
     "metadata": {},
     "output_type": "execute_result"
    }
   ],
   "source": [
    "df = pd.DataFrame(np.arange(1, 7))\n",
    "df"
   ]
  },
  {
   "cell_type": "code",
   "execution_count": 72,
   "metadata": {},
   "outputs": [
    {
     "data": {
      "text/html": [
       "<div>\n",
       "<style scoped>\n",
       "    .dataframe tbody tr th:only-of-type {\n",
       "        vertical-align: middle;\n",
       "    }\n",
       "\n",
       "    .dataframe tbody tr th {\n",
       "        vertical-align: top;\n",
       "    }\n",
       "\n",
       "    .dataframe thead th {\n",
       "        text-align: right;\n",
       "    }\n",
       "</style>\n",
       "<table border=\"1\" class=\"dataframe\">\n",
       "  <thead>\n",
       "    <tr style=\"text-align: right;\">\n",
       "      <th></th>\n",
       "      <th>0</th>\n",
       "      <th>1</th>\n",
       "    </tr>\n",
       "  </thead>\n",
       "  <tbody>\n",
       "    <tr>\n",
       "      <th>0</th>\n",
       "      <td>1</td>\n",
       "      <td>2</td>\n",
       "    </tr>\n",
       "    <tr>\n",
       "      <th>1</th>\n",
       "      <td>2</td>\n",
       "      <td>3</td>\n",
       "    </tr>\n",
       "  </tbody>\n",
       "</table>\n",
       "</div>"
      ],
      "text/plain": [
       "   0  1\n",
       "0  1  2\n",
       "1  2  3"
      ]
     },
     "execution_count": 72,
     "metadata": {},
     "output_type": "execute_result"
    }
   ],
   "source": [
    "df = pd.DataFrame([[1, 2], [2, 3]])\n",
    "df\n",
    "# __init__.py - Файл со всеми зависимостями, вызывается автоматически при ключивом слове import в модуле"
   ]
  },
  {
   "cell_type": "code",
   "execution_count": 77,
   "metadata": {},
   "outputs": [],
   "source": [
    "class df_(object):\n",
    "    \"\"\"\n",
    "    атрибуты - это переменные\n",
    "    методы - функции\n",
    "    \"\"\"\n",
    "\n",
    "    # name1 = 12\n",
    "    # columns1 = \"RangeIndex(start=0, stop=2, step=1)\" # наследуется всеми объектами\n",
    "\n",
    "    def __init__(\n",
    "        self, name=\"Maxim\", age=23\n",
    "    ) -> (\n",
    "        None\n",
    "    ):  # inint вызывается (автоматичеки) при создании объекта. дандер - магический метод, все эти методы вызываютя автоматически при наступлении опред соьыбтия\n",
    "        self.name1 = name\n",
    "        self.age1 = age\n",
    "\n",
    "    def columns(self, x: int) -> str:\n",
    "        return f\"RangeIndex(start={x}, stop=2, step=1)\"\n",
    "\n",
    "\n",
    "obj = df_(\"Maxim\", 30)  # создание экземпляра класса(создание объекта) class_name + ()\n",
    "obj2 = df_(\n",
    "    \"Senatorov\", 20\n",
    ")  # создание экземпляра класса(создание объекта) class_name + ()\n",
    "obj.columns(3)\n",
    "df_.test1 = 23\n",
    "obj.test = 1"
   ]
  },
  {
   "cell_type": "code",
   "execution_count": 19,
   "metadata": {},
   "outputs": [
    {
     "data": {
      "text/plain": [
       "'Maxim'"
      ]
     },
     "execution_count": 19,
     "metadata": {},
     "output_type": "execute_result"
    }
   ],
   "source": [
    "class func_:  # создание класса\n",
    "    name1 = \"Maxim\"  # создание атрибутов класса\n",
    "\n",
    "    def name(friend: str) -> str:  # создание мктода класса - функц\n",
    "        return f\"Maxim + {friend}\"  # добавили аргумент\n",
    "\n",
    "\n",
    "func_.name1  # вызов атрибута класса\n",
    "func_.name()  # вызов метода класса"
   ]
  },
  {
   "cell_type": "code",
   "execution_count": 24,
   "metadata": {},
   "outputs": [
    {
     "data": {
      "text/plain": [
       "'Maxim + 2'"
      ]
     },
     "execution_count": 24,
     "metadata": {},
     "output_type": "execute_result"
    }
   ],
   "source": [
    "class func_(object):  # создание класса, указываем явное наследование (от супер класса)\n",
    "    name1 = \"Maxim\"  # создание атрибутов класса, статически\n",
    "\n",
    "    def name(self, friend: str) -> str:  # создание мктода класса - функц\n",
    "        return f\"Maxim + {friend}\"  # добавили аргумент\n",
    "\n",
    "\n",
    "# func_.name('vas') # вызов метода класса с аргументом\n",
    "\n",
    "nov = (\n",
    "    func_()\n",
    ")  # создание объекта класса (экземпляра), объект наследовал все методы и свойства класса\n",
    "nov.name(\n",
    "    \"2\"\n",
    ")  # функц ожидает один позиц арг, неявно кладется туда еще один параметр self=nov, т.е. неявно уже в метод перед 2 аргумента, self +..., и это self нужно указать в методе, т.к. вызов его будет его и ожидать\n",
    "# почему в вызове он передается неявно: посколько создание объектов класса это необязательная функция\n",
    "# Создание классов для объединения нескольких функций, чтобы их как-то упорядочить\n",
    "# Один класс выполняет одну задачу"
   ]
  },
  {
   "cell_type": "markdown",
   "metadata": {},
   "source": [
    "<b>При создание объекта класса, создается метод, вызывается автоматически __init__<b>"
   ]
  },
  {
   "cell_type": "code",
   "execution_count": 1,
   "metadata": {},
   "outputs": [],
   "source": [
    "class nov:\n",
    "    # age =32 # Атрибут класса 'age' -имя атрибута\n",
    "    # При создании атрибута в классе, он автомат наслед всеми объектами этого класса\n",
    "    def __init__(\n",
    "        self, sl=\"Gpu\", age=23\n",
    "    ) -> (\n",
    "        None\n",
    "    ):  # 'Дандер' магический метод - все такие методы вызыв автомат при наступлении какого события. 'age' - имя параметра (в дан.сл пар. по умолч)\n",
    "        # init вызыв при создании объекта (автоматически), Также для прокидования в класс атрибутов\n",
    "        self.sl = sl\n",
    "        self.age = age  # создание денамичсекого атрибута, вместо self подст разный объект. Созданеие атрибуда не в классе, а в объекте класса\n",
    "\n",
    "\n",
    "txt = nov(\n",
    "    \"Nikita\", 32\n",
    ")  # Объект унаследовал все от класса, класс это инстркуция для объекта\n",
    "txt1 = nov()\n",
    "txt.sl, txt1.sl  # Т.е. объект унаследовал методы класса, с теми атрибутами которыми я в него передал\n",
    "# nov.age\n",
    "nov.data = 1  # Создание атрибута класса через ... <-, и слдеовательно каждый объект унаследовал этот атрибут"
   ]
  },
  {
   "cell_type": "code",
   "execution_count": null,
   "metadata": {},
   "outputs": [],
   "source": [
    "dir(nov)  # просмотр методов класса, происходит наследование неявное во всех класса"
   ]
  },
  {
   "cell_type": "code",
   "execution_count": null,
   "metadata": {},
   "outputs": [],
   "source": [
    "dir(df_)\n",
    "# df_.columns1, obj.columns1\n",
    "# obj.columns(2)\n",
    "# obj.name1, obj2.name1"
   ]
  },
  {
   "cell_type": "code",
   "execution_count": 4,
   "metadata": {},
   "outputs": [
    {
     "data": {
      "text/plain": [
       "5"
      ]
     },
     "execution_count": 4,
     "metadata": {},
     "output_type": "execute_result"
    }
   ],
   "source": [
    "class Solution:\n",
    "    def theMaximumAchievableX(num: int, t: int) -> int:\n",
    "        return num + 2 * t\n",
    "\n",
    "\n",
    "Solution.theMaximumAchievableX(1, 2)"
   ]
  }
 ],
 "metadata": {
  "kernelspec": {
   "display_name": "base",
   "language": "python",
   "name": "python3"
  },
  "language_info": {
   "codemirror_mode": {
    "name": "ipython",
    "version": 3
   },
   "file_extension": ".py",
   "mimetype": "text/x-python",
   "name": "python",
   "nbconvert_exporter": "python",
   "pygments_lexer": "ipython3",
   "version": "3.11.5"
  }
 },
 "nbformat": 4,
 "nbformat_minor": 2
}
