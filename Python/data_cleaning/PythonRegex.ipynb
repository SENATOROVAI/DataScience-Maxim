{
 "cells": [
  {
   "cell_type": "markdown",
   "metadata": {},
   "source": [
    "##  Introducing Python's Regex Module\n",
    "You can find the full corpus here. But we'll start by learning basic regex commands using a few emails. If you'd like, you can use our [test file](https://www.dataquest.io/wp-content/uploads/2020/01/test_emails.txt) as well, or you can try this with the full corpus.\n",
    "First, we'll prepare the data set by opening the test file, setting it to read-only, and reading it."
   ]
  },
  {
   "cell_type": "code",
   "execution_count": 78,
   "metadata": {},
   "outputs": [],
   "source": [
    "import pandas as pd\n",
    "import email\n",
    "import re\n",
    "fh = open(r\"test_emails.txt\").read()"
   ]
  },
  {
   "cell_type": "markdown",
   "metadata": {},
   "source": [
    "Notice that we precede the directory path with an r. This technique converts a string into a raw string, which helps to avoid conflicts caused by how some machines read characters, such as backslashes in directory paths on Windows.\n",
    "\n",
    "Now, suppose we want to find out who the emails are from. We could try raw Python on its own:"
   ]
  },
  {
   "cell_type": "code",
   "execution_count": 79,
   "metadata": {},
   "outputs": [
    {
     "name": "stdout",
     "output_type": "stream",
     "text": [
      "der.com>\n",
      "Message-Id: <200210311310.g9VDANt24674@bloodwork.mr.itd.UM>\n",
      "From: \"Mr. Be\n",
      "g_715@epatra.com>\n",
      "Message-Id: <200210312227.g9VMQvDj017948@bluewhale.cs.CU>\n",
      "From: \"PRINCE OBONG ELEME\" <obo\n"
     ]
    }
   ],
   "source": [
    "for line in fh.split(\"n\"):\n",
    "    if \"From:\" in line:  # if there is someone in the line, output it\n",
    "        print(line)"
   ]
  },
  {
   "cell_type": "markdown",
   "metadata": {},
   "source": [
    "But that's not giving us exactly what we want. If you take a look at our test file, we could figure out why and fix it, but instead, let's use Python's re module and do it with regular expressions!\n",
    "\n",
    "We'll start by importing Python's re module. Then, we'll use a function called re.findall() that returns a list of all instances of a pattern we define in the string we're looking at.\n",
    "\n",
    "Here's how it looks:"
   ]
  },
  {
   "cell_type": "code",
   "execution_count": 80,
   "metadata": {},
   "outputs": [
    {
     "name": "stdout",
     "output_type": "stream",
     "text": [
      "<class 'str'>\n",
      "From: \"Mr. Ben Suleman\" <bensul2004nng@spinfinder.com>\n",
      "<class 'str'>\n",
      "From: \"PRINCE OBONG ELEME\" <obong_715@epatra.com>\n"
     ]
    }
   ],
   "source": [
    "for line in re.findall(\"From:.*\", fh):\n",
    "    sp = line\n",
    "    print(type(sp))\n",
    "    print(line)"
   ]
  },
  {
   "cell_type": "markdown",
   "metadata": {},
   "source": [
    "This is essentially the same length as our raw Python, but that's because it's a very simple example. The more you're trying to do, the more effort Python regex is likely to save you.\n",
    "\n",
    "Before we move on, let's take a closer look at re.findall(). This function takes two arguments in the form of re.findall(pattern, string). Here, pattern represents the substring we want to find, and string represents the main string we want to find it in. The main string can consist of multiple lines. In this case, we're having it search through all of fh, the file with our selected emails.\n",
    "\n",
    "The .* is a shorthand for a string pattern. Regular expressions work by using these shorthand patterns to find specific patterns in text, so let's take a look at some other common examples:"
   ]
  },
  {
   "cell_type": "markdown",
   "metadata": {},
   "source": [
    "## Common Python Regex Patterns\n",
    "The pattern we used with re.findall() above contains a fully spelled-out out string, \"From:\". This is useful when we know precisely what we're looking for, right down to the actual letters and whether or not they're upper or lower case. If we don't know the exact format of the strings we want, we'd be lost. Fortunately, regex has basic patterns that account for this scenario. Let's look at the ones we use in this tutorial:\n",
    "\n",
    "- w matches alphanumeric characters, which means a-z, A-Z, and 0-9. It also matches the underscore, _, and the dash, -.\n",
    "- d matches digits, which means 0-9.\n",
    "- s matches whitespace characters, which include the tab, new line, carriage return, and space characters.\n",
    "- S matches non-whitespace characters.\n",
    "- . matches any character except the new line character n.\n",
    "\n",
    "\n",
    "With these regex patterns in hand, you'll quickly understand our code above as we go on to explain it."
   ]
  },
  {
   "cell_type": "markdown",
   "metadata": {},
   "source": [
    "### Working with Regex Patterns\n",
    "We can now explain the use of .* in the line re.findall(\"From:.*\", text) above. Let's look at . first:"
   ]
  },
  {
   "cell_type": "code",
   "execution_count": 81,
   "metadata": {},
   "outputs": [
    {
     "name": "stdout",
     "output_type": "stream",
     "text": [
      "From: \n",
      "From: \n"
     ]
    }
   ],
   "source": [
    "for line in re.findall(\"From:.\", fh):\n",
    "    print(line)"
   ]
  },
  {
   "cell_type": "markdown",
   "metadata": {},
   "source": [
    "By adding a . next to From:, we look for one additional character next to it. Because . looks for any character except n, it captures the space character, which we cannot see. We can try more dots to verify this."
   ]
  },
  {
   "cell_type": "code",
   "execution_count": 82,
   "metadata": {},
   "outputs": [
    {
     "name": "stdout",
     "output_type": "stream",
     "text": [
      "From: \"Mr. Ben S\n",
      "From: \"PRINCE OB\n"
     ]
    }
   ],
   "source": [
    "for line in re.findall(\"From:...........\", fh):\n",
    "    print(line)"
   ]
  },
  {
   "cell_type": "markdown",
   "metadata": {},
   "source": [
    "It looks like adding dots does acquire the rest of the line for us. But, it's tedious and we don't know how many dots to add. This is where the asterisk symbol, *, comes in.\n",
    "\n",
    "'*' matches zero or more instances of a pattern on its left. This means it looks for repeating patterns. When we look for repeating patterns, we say that our search is \"greedy.\" If we don't look for repeating patterns, we can call our search \"non-greedy\" or \"lazy.\"\n",
    "\n",
    "Let's construct a greedy search for . with *."
   ]
  },
  {
   "cell_type": "code",
   "execution_count": 83,
   "metadata": {},
   "outputs": [
    {
     "name": "stdout",
     "output_type": "stream",
     "text": [
      "From: \"Mr. Ben Suleman\" <bensul2004nng@spinfinder.com>\n",
      "From: \"PRINCE OBONG ELEME\" <obong_715@epatra.com>\n"
     ]
    }
   ],
   "source": [
    "for line in re.findall(\"From:.*\", fh):\n",
    "    print(line)"
   ]
  },
  {
   "cell_type": "markdown",
   "metadata": {},
   "source": [
    "Because * matches zero or more instances of the pattern indicated on its left, and . is on its left here, we are able to acquire all the characters in the From: field until the end of the line. This prints out the full line with beautifully succinct code.\n",
    "\n",
    "We might even go further and isolate only the name. Let's use re.findall() to return a list of lines containing the pattern \"From:.*\" as we've done before. We'll assign it to the variable match for neatness. Next, we'll iterate through the list. In each cycle, we'll execute re.findall again, matching the first quotation mark to pick out just the name:"
   ]
  },
  {
   "cell_type": "code",
   "execution_count": 84,
   "metadata": {},
   "outputs": [
    {
     "name": "stdout",
     "output_type": "stream",
     "text": [
      "['\"Mr. Ben Suleman\"']\n",
      "['\"PRINCE OBONG ELEME\"']\n"
     ]
    }
   ],
   "source": [
    "match = re.findall(\"From:.*\", fh)\n",
    "\n",
    "for line in match:\n",
    "    print(re.findall('\".*\"', line))"
   ]
  },
  {
   "cell_type": "markdown",
   "metadata": {},
   "source": [
    "Notice that we use a backslash next to the first quotation mark. The backslash is a special character used for escaping other special characters. For instance, when we want to use a quotation mark as a string literal instead of a special character, we escape it with a backslash like this: \\\". If we do not escape the pattern above with backslashes, it would become \"\".*\"\", which the Python interpreter would read as a period and an asterisk between two empty strings. It would produce an error and break the script. Hence, it's crucial that we escape the quotation marks here with backslashes.\n",
    "\n",
    "After the first quotation mark is matched, .* acquires all the characters in the line until the next quotation mark, also escaped in the pattern. This gets us just the name, within quotation marks. The name is also printed within square brackets because re.findall returns matches in a list.\n",
    "\n",
    "What if we want the email address instead?"
   ]
  },
  {
   "cell_type": "code",
   "execution_count": 85,
   "metadata": {},
   "outputs": [
    {
     "name": "stdout",
     "output_type": "stream",
     "text": [
      "['bensul2004nng@spinfinder.com>']\n",
      "['obong_715@epatra.com>']\n"
     ]
    }
   ],
   "source": [
    "match = re.findall(\"From:.*\", fh)\n",
    "\n",
    "for line in match:\n",
    "    print(re.findall(r\"\\w\\S*@.*\", line))"
   ]
  },
  {
   "cell_type": "markdown",
   "metadata": {},
   "source": [
    "Looks simple enough, doesn't it? Only the pattern is different. Let's walk through it.\n",
    "\n",
    "Here's how we match just the front part of the email address:"
   ]
  },
  {
   "cell_type": "code",
   "execution_count": 86,
   "metadata": {},
   "outputs": [
    {
     "name": "stdout",
     "output_type": "stream",
     "text": [
      "['bensul2004nng@']\n",
      "['obong_715@']\n"
     ]
    }
   ],
   "source": [
    "for line in match:\n",
    "    print(re.findall(r\"\\w\\S*@\", line))"
   ]
  },
  {
   "cell_type": "markdown",
   "metadata": {},
   "source": [
    "Emails always contain an @ symbol, so we start with it. The part of the email before the @ symbol might contain alphanumeric characters, which means w is required. However, because some emails contain a period or a dash, that's not enough. We add S to look for non-whitespace characters. But, w\\S will get only two characters. Add * to look for repetitions. The front part of the pattern thus looks like this: \\w\\S*@.\n",
    "\n",
    "Now for the pattern behind the '@' symbol:"
   ]
  },
  {
   "cell_type": "code",
   "execution_count": 87,
   "metadata": {},
   "outputs": [
    {
     "name": "stdout",
     "output_type": "stream",
     "text": [
      "['@spinfinder.com>']\n",
      "['@epatra.com>']\n"
     ]
    }
   ],
   "source": [
    "for line in match:\n",
    "    print(re.findall(\"@.*\", line))"
   ]
  },
  {
   "cell_type": "markdown",
   "metadata": {},
   "source": [
    "The domain name usually contains alphanumeric characters, periods, and a dash sometimes, so a . will do. To make it greedy, we extend the search with a *. This allows us to match any character till the end of the line.\n",
    "\n",
    "If we look at the line closely, we see that each email is encapsulated within angle brackets, < and >. Our pattern, .*, includes the closing bracket, >. Let's remedy it:"
   ]
  },
  {
   "cell_type": "code",
   "execution_count": 88,
   "metadata": {},
   "outputs": [
    {
     "name": "stdout",
     "output_type": "stream",
     "text": [
      "['@spinfinder.com']\n",
      "['@epatra.com']\n"
     ]
    }
   ],
   "source": [
    "for line in match:\n",
    "    print(re.findall(r\"@.*\\w\", line))"
   ]
  },
  {
   "cell_type": "markdown",
   "metadata": {},
   "source": [
    "Email addresses end with an alphanumeric character, so we cap the pattern with w. So, after the @ symbol we have .*\\w, which means that the pattern we want is a group of any type of characters ending with an alphanumeric character. This excludes >.\n",
    "\n",
    "Our full email address pattern thus looks like this: \\w\\S*@.*\\w.\n",
    "\n",
    "Phew! That was quite a bit to work through. Next, we'll run through some common re functions that will be useful when we start reorganizing our corpus."
   ]
  },
  {
   "cell_type": "markdown",
   "metadata": {},
   "source": [
    "## Common Python Regex Functions\n",
    "re.findall() is undeniably useful, but it's not the only built-in function that's available to us in re:\n",
    "\n",
    "- re.search()\n",
    "- re.split()\n",
    "- re.sub()\n",
    "Let's look at these one by one before using them to bring some order to our data set.\n",
    "\n",
    "### re.search()\n",
    "While re.findall() matches all instances of a pattern in a string and returns them in a list, re.search() matches the first instance of a pattern in a string, and returns it as a re match object."
   ]
  },
  {
   "cell_type": "code",
   "execution_count": 89,
   "metadata": {},
   "outputs": [
    {
     "name": "stdout",
     "output_type": "stream",
     "text": [
      "<class 're.Match'>\n",
      "<class 'str'>\n",
      "<re.Match object; span=(204, 258), match='From: \"Mr. Ben Suleman\" <bensul2004nng@spinfinder>\n",
      "From: \"Mr. Ben Suleman\" <bensul2004nng@spinfinder.com>\n"
     ]
    }
   ],
   "source": [
    "match = re.search(\"From:.*\", fh)\n",
    "print(type(match))\n",
    "print(type(match.group()))\n",
    "print(match)\n",
    "print(match.group())"
   ]
  },
  {
   "cell_type": "markdown",
   "metadata": {},
   "source": [
    "Like re.findall(), re.search() also takes two arguments. The first is the pattern to match, and the second is the string to find it in. Here, we've assigned the results to the match variable for neatness.\n",
    "\n",
    "Because re.search() returns a re match object, we can't display the name and email address by printing it directly. Instead, we have to apply the group() function to it first. We've printed both their types out in the code above. As we can see, group() converts the match object into a string.\n",
    "\n",
    "We can also see that printing match displays properties beyond the string itself, whereas printing match.group() displays only the string.\n",
    "\n",
    "### re.split()\n",
    "\n",
    "Suppose we need a quick way to get the domain name of the email addresses. We could do it with three regex operations, like so:\n"
   ]
  },
  {
   "cell_type": "code",
   "execution_count": 90,
   "metadata": {},
   "outputs": [
    {
     "name": "stdout",
     "output_type": "stream",
     "text": [
      "bensul2004nng, spinfinder.com\n",
      "obong_715, epatra.com\n"
     ]
    }
   ],
   "source": [
    "address = re.findall(\"From:.*\", fh)\n",
    "for item in address:\n",
    "    for line in re.findall(r\"\\w\\S*@.*\\w\", item):\n",
    "        username, domain_name = re.split(\"@\", line)\n",
    "        print(\"{}, {}\".format(username, domain_name))"
   ]
  },
  {
   "cell_type": "markdown",
   "metadata": {},
   "source": [
    "The first line is familiar. We return a list of strings, each containing the contents of the From: field, and assign it to a variable. Next, we iterate through the list to find the email addresses. At the same time, we iterate through the email addresses and use the re module's split() function to snip each address in half, with the @ symbol as the delimiter. Finally, we print it.\n",
    "\n",
    "### re.sub()\n",
    "\n",
    "Another handy re function is re.sub(). As the function name suggests, it substitutes parts of a string. An example:"
   ]
  },
  {
   "cell_type": "code",
   "execution_count": 91,
   "metadata": {},
   "outputs": [
    {
     "name": "stdout",
     "output_type": "stream",
     "text": [
      "From: \"Mr. Ben Suleman\" <bensul2004nng@spinfinder.com>\n",
      "Email: \"Mr. Ben Suleman\" <bensul2004nng@spinfinder.com>\n"
     ]
    }
   ],
   "source": [
    "sender = re.search(\"From:.*\", fh)\n",
    "address = sender.group()\n",
    "email = re.sub(\"From\", \"Email\", address)\n",
    "print(address)\n",
    "print(email)"
   ]
  },
  {
   "cell_type": "markdown",
   "metadata": {},
   "source": [
    "We've already seen the tasks on the first and second lines before. On the third line, we apply re.sub() on address, which is the full From: field in the email header.\n",
    "\n",
    "re.sub() takes three arguments. The first is the substring to substitute, the second is a string we want in its place, and the third is the main string itself.\n",
    "\n",
    "## Regex with Pandas\n",
    "\n",
    "Now we have the basics of Python regex in hand. But often for data tasks, we're not actually using raw Python, we're using the pandas library. Now let's take our regex skills to the next level by bringing them into a pandas workflow.\n",
    "\n",
    "### Sorting Emails with Python Regex and Pandas\n",
    "Our corpus is a single text file containing thousands of emails (though again, for this tutorial we're using a much smaller file with just two emails, since printing the results of our regex work on the full corpus would make this post far too long).\n",
    "\n",
    "We'll use regex and pandas to sort the parts of each email into appropriate categories so that the Corpus can be more easily read or analysed.\n",
    "\n",
    "We'll sort each email into the following categories:\n",
    "\n",
    "- sender_name\n",
    "- sender_address\n",
    "- recipient_address\n",
    "- recipient_name\n",
    "- date_sent\n",
    "- subject\n",
    "- email_body\n",
    "\n",
    "Each of these categories will become a column in our pandas dataframe (i.e., our table). This will make it easier for us work on and analyze each column individually.\n",
    "\n",
    "We'll keep working with our small sample, but it's worth reiterating that regular expressions allow us to write more concise code. Concise code reduces the number of operations our machines have to do, which speeds up our analytical process. Working with our small file of two emails, there's not much difference, but if you try processing the entire corpus with and without regex, you'll start to see the advantages!\n",
    "\n",
    "### Preparing the Script\n",
    "To start, let's import the libraries we'll need and get our file opened again.\n",
    "\n",
    "In addition to re and pandas, we'll import Python's email package as well, which will help with the body of the email. The body of the email is rather complicated to work with using regex alone. It might even require enough cleaning up to warrant its own tutorial. So, we'll use the well-developed email package to save some time and let us focus on learning regex."
   ]
  },
  {
   "cell_type": "code",
   "execution_count": 92,
   "metadata": {},
   "outputs": [],
   "source": [
    "emails = []\n",
    "\n",
    "fh = open(r\"test_emails.txt\").read()"
   ]
  },
  {
   "cell_type": "markdown",
   "metadata": {},
   "source": [
    "We've also created an empty list, emails, which will store dictionaries. Each dictionary will contain the details of each email.\n",
    "\n",
    "Now, let's begin applying regex!"
   ]
  },
  {
   "cell_type": "code",
   "execution_count": 93,
   "metadata": {},
   "outputs": [
    {
     "data": {
      "text/plain": [
       "['  Thu Oct 31 08:11:39 2002\\nReturn-Path: <bensul2004nng@spinfinder.com>\\nX-Sieve: cmu-sieve 2.0\\nReturn-Path: <bensul2004nng@spinfinder.com>\\nMessage-Id: <200210311310.g9VDANt24674@bloodwork.mr.itd.UM>\\nFrom: \"Mr. Ben Suleman\" <bensul2004nng@spinfinder.com>\\nDate: Thu, 31 Oct 2002 05:10:00\\nTo: R@M\\nSubject: URGENT ASSISTANCE /RELATIONSHIP (P)\\nMIME-Version: 1.0\\nContent-Type: text/plain;charset=\"iso-8859-1\"\\nContent-Transfer-Encoding: 7bit\\nStatus: O\\n\\nDear Friend,\\n\\nI am Mr. Ben Suleman a custom officer and work as Assistant controller of the Customs and Excise department Of the Federal Ministry of Internal Affairs stationed at the Murtala Mohammed International Airport, Ikeja, Lagos-Nigeria.\\n\\nAfter the sudden death of the former Head of state of Nigeria General Sanni Abacha on June 8th 1998 his aides and immediate members of his family were arrested while trying to escape from Nigeria in a Chartered jet to Saudi Arabia with 6 trunk boxes Marked \"Diplomatic Baggage\". Acting on a tip-off as they attempted to board the Air Craft,my officials carried out a thorough search on the air craft and discovered that the 6 trunk boxes contained foreign currencies amounting to US$197,570,000.00(One Hundred and  Ninety-Seven Million Five Hundred Seventy Thousand United States Dollars).\\n\\nI declared only (5) five boxes to the government and withheld one (1) in my custody containing the sum of (US$30,000,000.00) Thirty Million United States Dollars Only, which has been disguised to prevent their being discovered during transportation process.Due to several media reports on the late head of state about all the money him and his co-government officials stole from our government treasury amounting\\nto US$55 Billion Dollars (ref:ngrguardiannews.com) of July 2nd 1999. Even the London times of July 1998 reported that General Abacha has over US$3.Billion dollars in one account overseas. We decided to conceal this one (1)box till the situation is calm and quite on the issue. The box was thus deposited with a security company here in Nigeria and tagged as \"Precious Stones and Jewellry\" in other that its\\ncontent will not be discovered. Now that all is calm, we (myself and two of my colleagues in the operations team) are now ready to move this box out of the country through a diplomatic arrangement which is the safest means. \\n\\nHowever as government officials the Civil Service Code of Conduct does not allow us by law to operate any foreign account or own foreign investment and the amount of money that can be found in our account\\ncannot be more than our salary on the average, thus our handicapp and our need for your assistance to help collect and keep safely in your account this money.\\n\\nTherefore we want you to assist us in moving this money out of Nigeria. We shall definitely compensate you handsomely for the assistance. We can do this by instructing the Security Company here in Nigeria to\\nmove the consignment to their affiliate branch office outside Nigeria through diplomatic means and the consignment will be termed as Precious Stones and Jewelleries\" which you bought during your visit to Nigeria and is being transfered to your country from here for safe keeping. Then we can arrange to meet at the destination country to take the delivery of the consignment. You will thereafter open an account there and lodge the Money there and gradually instruct remittance to your Country. \\n\\nThis business is 100% risk free for you so please treat this matter with utmost confidentiality .If you indicate your interest to assist us please just e-mail me for more Explanation on how we plan to execute the transaction.\\n\\nExpecting your response urgently.\\n\\nBest regards,\\n\\nMr. Ben Suleman\\n\\n',\n",
       " '  Thu Oct 31 17:27:16 2002\\nReturn-Path: <obong_715@epatra.com>\\nX-Sieve: cmu-sieve 2.0\\nReturn-Path: <obong_715@epatra.com>\\nMessage-Id: <200210312227.g9VMQvDj017948@bluewhale.cs.CU>\\nFrom: \"PRINCE OBONG ELEME\" <obong_715@epatra.com>\\nReply-To: obong_715@epatra.com\\nTo: webmaster@aclweb.org\\nDate: Thu, 31 Oct 2002 22:17:55 +0100\\nSubject: GOOD DAY TO YOU\\nX-Mailer: Microsoft Outlook Express 5.00.2919.6900DM\\nMIME-Version: 1.0\\nContent-Type: text/plain; charset=\"us-ascii\"\\nContent-Transfer-Encoding: 8bit\\nX-MIME-Autoconverted: from quoted-printable to 8bit by sideshowmel.si.UM id g9VMRBW20642\\nStatus: RO\\n\\nFROM HIS ROYAL MAJESTY (HRM) CROWN RULER OF ELEME KINGDOM \\nCHIEF DANIEL ELEME, PHD, EZE 1 OF ELEME.E-MAIL \\nADDRESS:obong_715@epatra.com  \\n\\nATTENTION:PRESIDENT,CEO Sir/ Madam. \\n\\nThis letter might surprise you because we have met\\nneither in person nor by correspondence. But I believe\\nit is one day that you got to know somebody either in\\nphysical or through correspondence. \\n\\nI got your contact through discreet inquiry from the\\nchambers of commerce and industry of your country on\\nthe net, you and your organization were revealed as\\nbeing quite astute in private entrepreneurship, one\\nhas no doubt in your ability to handle a financialbusiness transaction. \\n\\nHowever, I am the first son of His Royal\\nmajesty,Obong.D. Eleme , and the traditional Ruler of\\nEleme Province in the oil producing area of River\\nState of Nigeria. I am making this contact to you in\\nrespect of US$60,000,000.00 (Sixty Million United\\nState Dollars), which I inherited, from my latefather. \\n\\nThis money was accumulated from royalties paid to my\\nfather as compensation by the oil firms located in our\\narea as a result of oil presence on our land, which\\nhamper agriculture, which is our major source oflivelihood. \\n\\nUnfortunately my father died from protracted\\ndiabetes.But before his death he called my attention\\nand informed me that he lodged some funds on a two\\nboxes with a security firm with an open beneficiary\\nstatus. The lodgment security code number was also\\nrevealed to me, he then advised me to look for a\\nreliable business partner abroad, that will assist me\\nin investing the money in a lucrative business as a\\nresult of economic instability in Nigeria. So this is\\nthe main reason why I am contacting you for us to move\\nthis money from the security firm to any Country of\\nyour choice for investment purpose. \\n\\nSo I will like you to be the ultimate beneficiary, so\\nthat the funds can be moved in your name and\\nparticulars to any Country of your choice where it\\nwill be claimed and invested. Hence my father have had\\nintimated the security firm personnel that the\\nbeneficiary of the box is his foreign partner whose\\nparticulars will be forwarded to the firm when due. \\n\\nBut I will guide you Accordingly. As soon as the funds\\nreach, I will then come over to meet you in person, so\\nthat we can discuss physically on investment\\npotentials. Based on this assistance my Family and I\\nhave unanimously decided to give you 30% of the total\\nmoney, 5% for Charity home, 10% for expenses, which\\nmay arise during this transaction, Fax and phone bills\\ninclusive. The balance of 55% you will invest andmanaged for my Family. \\n\\nI hereby guarantee you that this is not government\\nmoney, it is not drug money and it is not money from\\narms deal. Though you have to maintain high degree of\\nconfidentiality on this matter. I will give more\\ndetails about the proceedings of this transaction as\\nsoon as I receive your favorable reply. \\n\\nPlease reply to my Email Address:obong_715@epatra.com\\nI hope this will be the beginning of a prosperous\\nrelationship between my family and your family. \\n\\nNevertheless if you are for any reason not interested,\\nkindly inform me immediately so that I will look foranother contact. \\n\\nI am waiting for your quick response. \\n\\nYours faithfully, \\n\\nPrince Obong Abbot ']"
      ]
     },
     "execution_count": 93,
     "metadata": {},
     "output_type": "execute_result"
    }
   ],
   "source": [
    "contents = re.split(r\"From r\", fh)\n",
    "contents.pop(0)\n",
    "contents"
   ]
  },
  {
   "attachments": {
    "image.png": {
     "image/png": "[encoded data removed]"
    }
   },
   "cell_type": "markdown",
   "metadata": {},
   "source": [
    "Note: we cut off the printout above for the sake of brevity. If you print this on your own machine, it will display everything that's contained in contents rather than ending with ... like it does above.\n",
    "\n",
    "We use the re module's split function to split the entire chunk of text in fh into a list of separate emails, which we assign to the variable contents. This is important because we want to work on the emails one by one, by iterating through the list with a for loop. But, how do we know to split by the string \"From r\"?\n",
    "\n",
    "We know this because we looked into the file before we wrote the script. We didn't have to peruse the thousands of emails in there. Just the first few, to see what the structure of the data looks like. Whenever possible, it's good to get your eyes on the actual data before you start working with code, as you'll often discover useful features like this.\n",
    "\n",
    "![image.png](attachment:image.png)"
   ]
  },
  {
   "cell_type": "markdown",
   "metadata": {},
   "source": [
    "The green block is the first email. The blue block is the second email. As we can see, both emails start with \"From r\", highlighted with red boxes.\n",
    "\n",
    "One reason we use the Fraudulent Email Corpus in this tutorial is to show that when data is disorganized, unfamiliar, and comes without documentation, we can't rely solely on code to sort it out. It would require a pair of human eyes. As we've just shown, we had to look into the corpus itself to study its structure.\n",
    "\n",
    "Disorganized data like this may require a lot of cleaning up. For instance, even though we count 3,977 emails in this set using the full script we're about to construct for this tutorial, there are actually more. Some emails actually are not preceded by \"From r\", and so are not counted separately. (However, for the purposes of brevity, we'll proceed as if that issue has already been fixed and all emails are separated by \"From r\".)\n",
    "\n",
    "Notice also that we use contents.pop(0) to get rid of the first element in the list. That's because a \"From r\" string precedes the first email. When that string is split, it produces an empty string at index 0. The script we're about to write is designed for emails. If we try to use it on an empty string, it might throw errors. Getting rid of the empty string lets us keep these errors from breaking our script.\n",
    "\n",
    "### Getting Every Name and Address With a For Loop\n",
    "\n",
    "Next, we'll work with the emails in the contents list."
   ]
  },
  {
   "cell_type": "code",
   "execution_count": 94,
   "metadata": {},
   "outputs": [],
   "source": [
    "for item in contents:\n",
    "    emails_dict = {}"
   ]
  },
  {
   "cell_type": "markdown",
   "metadata": {},
   "source": [
    "In the code above, we use a for loop to iterate through contents so we can work with each email in turn. We create a dictionary, emails_dict, that will hold all the details of each email, such as the sender's address and name. In fact, these are the first items we find.\n",
    "\n",
    "This is a three-step process. It begins by finding the From: field."
   ]
  },
  {
   "cell_type": "code",
   "execution_count": 95,
   "metadata": {},
   "outputs": [],
   "source": [
    "for item in contents:\n",
    "    # First two lines again so that Jupyter runs the code.\n",
    "    emails_dict = {}\n",
    "\n",
    "    # Find sender's email address and name.\n",
    "\n",
    "    # Step 1: find the whole line beginning with \"From:\".\n",
    "    sender = re.search(r\"From:.*\", item)"
   ]
  },
  {
   "cell_type": "markdown",
   "metadata": {},
   "source": [
    "With Step 1, we find the entire From: field using the re.search() function. The . means any character except n, and * extends it to the end of the line. We then assign this to the variable sender.\n",
    "\n",
    "But, data isn't always straightforward. It can contain surprises. For instance, what if there's no From: field? The script would throw an error and break. We pre-empt errors from this scenario in Step 2."
   ]
  },
  {
   "cell_type": "code",
   "execution_count": 96,
   "metadata": {},
   "outputs": [],
   "source": [
    "for item in contents:\n",
    "    # First two lines again so that Jupyter runs the code.\n",
    "    emails_dict = {}\n",
    "\n",
    "    # Find sender's email address and name.\n",
    "\n",
    "    # Step 1: find the whole line beginning with \"From:\".\n",
    "    sender = re.search(r\"From:.*\", item)\n",
    "    # Step 2: find the email address and name.\n",
    "    if sender is not None:\n",
    "        s_email = re.search(r\"\\w\\S*@.*\\w\", sender.group())\n",
    "        s_name = re.search(r\":.*<\", sender.group())\n",
    "    else:\n",
    "        s_email = None\n",
    "        s_name = None"
   ]
  },
  {
   "cell_type": "markdown",
   "metadata": {},
   "source": [
    "To avoid errors resulting from missing From: fields, we use an if statement to check that sender isn't None. If it is, we assign s_email and s_name the value of None so that the script can move on instead of breaking unexpectedly.\n",
    "\n",
    "If you're working along with this tutorial in your own file, you've probably already realized that working with regular expressions gets messy. For instance, these if-else statements are the result of using trial and error on the corpus while writing it. Writing code is an iterative process. It's worth noting that even if this tutorial is making it seem straightforward, actual practice involves a lot more experimentation.\n",
    "\n",
    "In Step 2, we use a familiar regex pattern from before, \\w\\S*@.*\\w, which matches the email address.\n",
    "\n",
    "We'll use a different tactic for the name. Each name is bounded by the colon, :, of the substring \"From:\" on the left, and by the opening angle bracket, <, of the email address on the right. Hence, we use :.*< to find the name. We get rid of : and < from each result in a moment.\n",
    "\n",
    "Now, let's print out the results of our code to see how they look."
   ]
  },
  {
   "cell_type": "code",
   "execution_count": 97,
   "metadata": {},
   "outputs": [
    {
     "name": "stdout",
     "output_type": "stream",
     "text": [
      "sender type: <class 're.Match'>\n",
      "sender.group() type: <class 'str'>\n",
      "sender: <re.Match object; span=(180, 229), match='From: \"PRINCE OBONG ELEME\" <obong_715@epatra.com>>\n",
      "sender.group(): From: \"PRINCE OBONG ELEME\" <obong_715@epatra.com>\n",
      "n\n"
     ]
    }
   ],
   "source": [
    "print(\"sender type: \" + str(type(sender)))\n",
    "print(\"sender.group() type: \" + str(type(sender.group())))\n",
    "print(\"sender: \" + str(sender))\n",
    "print(\"sender.group(): \" + str(sender.group()))\n",
    "print(\"n\")"
   ]
  },
  {
   "cell_type": "markdown",
   "metadata": {},
   "source": [
    "Again, we have match objects. Every time we apply re.search() to strings, it produces match objects. We have to turn them into string objects.\n",
    "\n",
    "Before we do this, recall that if there is no From: field, sender would have the value of None, and so too would s_email and s_name. Hence, we have to check for this scenario again so that the script doesn't break unexpectedly. Let's see how to construct the code with s_email first."
   ]
  },
  {
   "cell_type": "code",
   "execution_count": 98,
   "metadata": {},
   "outputs": [],
   "source": [
    "for item in contents:\n",
    "    # First two lines again so that Jupyter runs the code.\n",
    "    emails_dict = {}\n",
    "\n",
    "    # Find sender's email address and name.\n",
    "\n",
    "    # Step 1: find the whole line beginning with \"From:\".\n",
    "    sender = re.search(r\"From:.*\", item)\n",
    "    # Step 2: find the email address and name.\n",
    "    if sender is not None:\n",
    "        s_email = re.search(r\"\\w\\S*@.*\\w\", sender.group())\n",
    "        s_name = re.search(r\":.*<\", sender.group())\n",
    "    else:\n",
    "        s_email = None\n",
    "        s_name = None\n",
    "# Step 3A: assign email address as string to a variable.\n",
    "if s_email is not None:\n",
    "    sender_email = s_email.group()\n",
    "else:\n",
    "    sender_email = None\n",
    "# Add email address to dictionary.\n",
    "emails_dict[\"sender_email\"] = sender_email"
   ]
  },
  {
   "cell_type": "markdown",
   "metadata": {},
   "source": [
    "In Step 3A, we use an if statement to check that s_email is not None, otherwise it would throw an error and break the script.\n",
    "\n",
    "Then, we simply convert the s_email match object into a string and assign it to the sender_email variable. We add this to the emails_dict dictionary, which will make it incredibly easy for us to turn the details into a pandas dataframe later on.\n",
    "\n",
    "We do almost exactly the same for s_name in Step 3B."
   ]
  },
  {
   "cell_type": "code",
   "execution_count": 99,
   "metadata": {},
   "outputs": [],
   "source": [
    "# Step 3B: remove unwanted substrings, assign to variable.\n",
    "if s_name is not None:\n",
    "    sender_name = re.sub(\"s*<\", \"\", re.sub(\":s*\", \"\", s_name.group()))\n",
    "else:\n",
    "    sender_name = None\n",
    "\n",
    "# Add sender's name to dictionary.\n",
    "emails_dict[\"sender_name\"] = sender_name"
   ]
  },
  {
   "cell_type": "markdown",
   "metadata": {},
   "source": [
    "Just as we did before, we first check that s_name isn't None in Step 3B.\n",
    "\n",
    "Then, we use the re module's re.sub() function twice before assigning the string to a variable. First, we remove the colon and any whitespace characters between it and the name. We do this by substituting :s* with an empty string \"\". Then, we remove whitespace characters and the angle bracket on the other side of the name, again substituting it with an empty string. Finally, after assigning the string to sender_name, we add it to the dictionary.\n",
    "\n",
    "Let's check out our results."
   ]
  },
  {
   "cell_type": "code",
   "execution_count": 100,
   "metadata": {},
   "outputs": [
    {
     "name": "stdout",
     "output_type": "stream",
     "text": [
      "obong_715@epatra.com\n",
      " \"PRINCE OBONG ELEME\" \n"
     ]
    }
   ],
   "source": [
    "print(sender_email)\n",
    "print(sender_name)"
   ]
  },
  {
   "cell_type": "markdown",
   "metadata": {},
   "source": [
    "Perfect. We've isolated the email address and the sender's name. We've also added them to the dictionary, which will come into play soon.\n",
    "\n",
    "Now that we've found the sender's email address and name, we do exactly the same set of steps to acquire the recipient's email address and name for the dictionary.\n",
    "\n",
    "First, we find the the To: field."
   ]
  },
  {
   "cell_type": "code",
   "execution_count": 101,
   "metadata": {},
   "outputs": [],
   "source": [
    "recipient = re.search(r\"To:.*\", item)"
   ]
  },
  {
   "cell_type": "markdown",
   "metadata": {},
   "source": [
    "Next, we pre-empt the scenario where recipient is None.\n",
    "\n"
   ]
  },
  {
   "cell_type": "code",
   "execution_count": 102,
   "metadata": {},
   "outputs": [],
   "source": [
    "if recipient is not None:\n",
    "    r_email = re.search(r\"wS*@.*w\", recipient.group())\n",
    "    r_name = re.search(r\":.*<\", recipient.group())\n",
    "else:\n",
    "    r_email = None\n",
    "    r_name = None"
   ]
  },
  {
   "cell_type": "markdown",
   "metadata": {},
   "source": [
    "If recipient isn't None, we use re.search() to find the match object containing the email address and the recipient's name. Otherwise, we pass r_email and r_name the value of None.\n",
    "\n",
    "Then, we turn the match objects into strings and add them to the dictionary."
   ]
  },
  {
   "cell_type": "code",
   "execution_count": 103,
   "metadata": {},
   "outputs": [],
   "source": [
    "if r_email is not None:\n",
    "    recipient_email = r_email.group()\n",
    "else:\n",
    "    recipient_email = None\n",
    "\n",
    "emails_dict[\"recipient_email\"] = recipient_email\n",
    "\n",
    "if r_name is not None:\n",
    "    recipient_name = re.sub(r\"\\s*<\", \"\", re.sub(r\":\\s*\", \"\", r_name.group()))\n",
    "else:\n",
    "    recipient_name = None\n",
    "\n",
    "emails_dict[\"recipient_name\"] = recipient_name"
   ]
  },
  {
   "cell_type": "markdown",
   "metadata": {},
   "source": [
    "Because the structure of the From: and To: fields are the same, we can use the same code for both. We need to tailor slightly different code for the other fields.\n",
    "\n",
    "### Getting the Date of the Email\n",
    "\n",
    "Now for the date the email was sent."
   ]
  },
  {
   "cell_type": "code",
   "execution_count": 104,
   "metadata": {},
   "outputs": [],
   "source": [
    "for item in contents:\n",
    "    # First two lines again so that Jupyter runs the code.\n",
    "    emails_dict = {}\n",
    "\n",
    "    date_field = re.search(r\"Date:.*\", item)"
   ]
  },
  {
   "cell_type": "markdown",
   "metadata": {},
   "source": [
    "We acquire the Date: field with the same code for the From: and To: fields.\n",
    "\n",
    "And, just as we do for those two fields, we check that the Date: field, assigned to the date_field variable, is not None."
   ]
  },
  {
   "cell_type": "code",
   "execution_count": 105,
   "metadata": {},
   "outputs": [
    {
     "name": "stdout",
     "output_type": "stream",
     "text": [
      "Date: Thu, 31 Oct 2002 22:17:55 +0100\n"
     ]
    }
   ],
   "source": [
    "if date_field is not None:\n",
    "    date = re.search(r\"\\d+\\s\\w+\\s\\d+\", date_field.group())\n",
    "else:\n",
    "    date = None\n",
    "\n",
    "print(date_field.group())"
   ]
  },
  {
   "cell_type": "markdown",
   "metadata": {},
   "source": [
    "We've printed out date_field.group() so that we can see the structure of the string more clearly. It includes the day, the date in DD MMM YYYY format, and the time. We want just the date. The code for the date is largely the same as for names and email addresses but simpler. Perhaps the only puzzler here is the regex pattern, \\d+\\s\\w+\\s\\d+.\n",
    "\n",
    "The date starts with a number. Hence, we use d to account for it. However, as the DD part of the date, it could be either one or two digits. Here is where + becomes important. In Python regex, + matches 1 or more instances of a pattern on its left. d+ would thus match the DD part of the date no matter if it is one or two digits.\n",
    "\n",
    "After that, there's a space. This is accounted for by s, which looks for whitespace characters. The month is made up of three alphabetical letters, hence w+. Then it hits another space, s. The year is made up of numbers, so we use d+ once more.\n",
    "\n",
    "The full pattern, \\d+\\s\\w+\\s\\d+, works because it is a precise pattern bounded on both sides by whitespace characters.\n",
    "\n",
    "Next, we do the same check for a value of None as before."
   ]
  },
  {
   "cell_type": "code",
   "execution_count": 109,
   "metadata": {},
   "outputs": [
    {
     "data": {
      "text/plain": [
       "{'date_sent': '31 Oct 2002'}"
      ]
     },
     "execution_count": 109,
     "metadata": {},
     "output_type": "execute_result"
    }
   ],
   "source": [
    "if date is not None:\n",
    "    date_sent = date.group()\n",
    "    # date_star = date_star_test.group()\n",
    "else:\n",
    "    date_sent = None\n",
    "\n",
    "emails_dict[\"date_sent\"] = date_sent"
   ]
  },
  {
   "cell_type": "markdown",
   "metadata": {},
   "source": [
    "If date is not None, we turn it from a match object into a string and assign it to the variable date_sent. We then insert it into the dictionary.\n",
    "\n",
    "Before we go on, we should note a crucial point. + and * seem similar but they can produce very different results. Let's use the date string here as an example."
   ]
  },
  {
   "cell_type": "code",
   "execution_count": null,
   "metadata": {},
   "outputs": [],
   "source": [
    "date = re.search(r\"\\d+\\s\\w+\\s\\d+\", date_field.group())\n",
    "\n",
    "# What happens when we use * instead?\n",
    "date_star_test = re.search(r\"\\d*\\s\\w*\\s\\d*\", date_field.group())\n",
    "\n",
    "date_sent = date.group()\n",
    "date_star = date_star_test.group()\n",
    "\n",
    "print(date_sent)\n",
    "print(date_star)"
   ]
  },
  {
   "cell_type": "markdown",
   "metadata": {},
   "source": [
    "If we use *, we'd be matching zero or more occurrences. + matches one or more occurrences. We've printed the results for both scenarios. It's a big difference. As you can see, + acquires the full date whereas * gets a space and the digits 31.\n",
    "\n",
    "Next up, the subject line of the email.\n",
    "\n",
    "### Getting the Email Subject\n",
    "\n",
    "As before, we use the same code and code structure to acquire the information we need."
   ]
  },
  {
   "cell_type": "code",
   "execution_count": 110,
   "metadata": {},
   "outputs": [],
   "source": [
    "for item in contents:\n",
    "    # First two lines again so that Jupyter runs the code.\n",
    "    emails_dict = {}\n",
    "\n",
    "    subject_field = re.search(r\"Subject: .*\", item)\n",
    "\n",
    "    if subject_field is not None:\n",
    "        subject = re.sub(r\"Subject: \", \"\", subject_field.group())\n",
    "    else:\n",
    "        subject = None\n",
    "\n",
    "    emails_dict[\"subject\"] = subject"
   ]
  },
  {
   "cell_type": "markdown",
   "metadata": {},
   "source": [
    "We're becoming more familiar with the use of Python regex now, aren't we? It's largely the same code as before, except that we substitute \"Subject: \" with an empty string to get only the subject itself.\n",
    "\n",
    "### Getting the Body of the Email\n",
    "\n",
    "The last item to insert into our dictionary is the body of the email"
   ]
  },
  {
   "cell_type": "code",
   "execution_count": 111,
   "metadata": {},
   "outputs": [],
   "source": [
    "full_email = email.message_from_string(item)\n",
    "body = full_email.get_payload()\n",
    "emails_dict[\"email_body\"] = body"
   ]
  },
  {
   "cell_type": "markdown",
   "metadata": {},
   "source": [
    "Separating the header from the body of an email is an awfully complicated task, especially when many of the headers are different in one way or another. Consistency is seldom found in raw unorganised data. Luckily for us, the work's already been done. Python's email package is highly adept at this task.\n",
    "\n",
    "Remember that we've already imported the package earlier. Now, we apply its message_from_string() function to item, to turn the full email into an email Message object. A Message object consists of a header and a payload, which correspond to the header and body of an email.\n",
    "\n",
    "Next, we apply its get_payload() function on the Message object. This function isolates the body of the email. We assign it to the variable body, which we then insert into our emails_dict dictionary under the key \"email_body\".\n",
    "\n",
    "**Why the Email Package and Not Regex for the Body**\n",
    "\n",
    "You may ask, why use the email Python package rather than regex? This is because there's no good way to do it with Python regex at the moment that doesn't require significant amounts of cleaning up. It would mean another sheet of code that probably deserves its own tutorial.\n",
    "\n",
    "It's worth checking out how we arrive at decisions like this one. However, we need to understand what square brackets, [ ], mean in regex before we can do that.\n",
    "\n",
    "[ ] match any character placed inside them. For instance, if we want to find \"a\", \"b\", or \"c\" in a string, we can use [abc] as the pattern. The patterns we discussed above apply as well. [\\w\\s] would find either alphanumeric or whitespace characters. The exception is ., which becomes a literal period within square brackets.\n",
    "\n",
    "Now, we can better understand how we made the decision to use the email package instead.\n",
    "\n",
    "A peek at the data set reveals that email headers stop at the strings \"Status: 0\" or \"Status: R0\", and end before the string \"From r\" of the next email. We could thus use Status:\\s*\\w*\\n*[\\s\\S]*From\\sr* to acquire only the email body. [\\s\\S]* works for large chunks of text, numbers, and punctuation because it searches for either whitespace or non-whitespace characters.\n",
    "\n",
    "Unfortunately, some emails have more than one \"Status:\" string and others don't contain \"From r\", which means that we would split the emails into more or less than the number of dictionaries in the emails list. They would not match with the other categories we already have. This will create problems when working with pandas. Hence, we decided to leverage the email package."
   ]
  },
  {
   "cell_type": "markdown",
   "metadata": {},
   "source": [
    "### Create the List of Dictionaries\n",
    "Finally, append the dictionary, emails_dict, to the emails list:"
   ]
  },
  {
   "cell_type": "code",
   "execution_count": 112,
   "metadata": {},
   "outputs": [],
   "source": [
    "emails.append(emails_dict)"
   ]
  },
  {
   "cell_type": "markdown",
   "metadata": {},
   "source": [
    "We might want to print the emails list at this point to see how it looks. This will be pretty anti-climactic if you've just been using our little sample file, but with the entire corpus you'll see the power of regular expressions!\n",
    "\n",
    "We could also run print(len(emails_dict)) to see how many dictionaries, and therefore emails, are in the list. As we mentioned before, the full corpus contains 3,977."
   ]
  },
  {
   "cell_type": "code",
   "execution_count": 114,
   "metadata": {},
   "outputs": [
    {
     "name": "stdout",
     "output_type": "stream",
     "text": [
      "Number of emails: 7\n",
      "n\n",
      "sender_email: bensul2004nng@spinfinder.com\n",
      "sender_name: \"Mr. Ben Suleman\"\n",
      "recipient_email: R@M\n",
      "recipient_name: None\n",
      "date_sent: 31 Oct 2002\n",
      "subject: URGENT ASSISTANCE /RELATIONSHIP (P)\n",
      "email_body: email body here\n"
     ]
    }
   ],
   "source": [
    "emails = []\n",
    "\n",
    "fh = open(r\"test_emails.txt\").read()\n",
    "\n",
    "contents = re.split(r\"From r\", fh)\n",
    "contents.pop(0)\n",
    "\n",
    "for item in contents:\n",
    "    emails_dict = {}\n",
    "\n",
    "    sender = re.search(r\"From:.*\", item)\n",
    "\n",
    "    if sender is not None:\n",
    "        s_email = re.search(r\"\\w\\S*@.*\\w\", sender.group())\n",
    "        s_name = re.search(r\":.*<\", sender.group())\n",
    "    else:\n",
    "        s_email = None\n",
    "        s_name = None\n",
    "\n",
    "    if s_email is not None:\n",
    "        sender_email = s_email.group()\n",
    "    else:\n",
    "        sender_email = None\n",
    "\n",
    "    emails_dict[\"sender_email\"] = sender_email\n",
    "\n",
    "    if s_name is not None:\n",
    "        sender_name = re.sub(r\"\\s*<\", \"\", re.sub(r\":\\s*\", \"\", s_name.group()))\n",
    "    else:\n",
    "        sender_name = None\n",
    "\n",
    "    emails_dict[\"sender_name\"] = sender_name\n",
    "\n",
    "    recipient = re.search(r\"To:.*\", item)\n",
    "\n",
    "    if recipient is not None:\n",
    "        r_email = re.search(r\"\\w\\S*@.*\\w\", recipient.group())\n",
    "        r_name = re.search(r\":.*<\", recipient.group())\n",
    "    else:\n",
    "        r_email = None\n",
    "        r_name = None\n",
    "\n",
    "    if r_email is not None:\n",
    "        recipient_email = r_email.group()\n",
    "    else:\n",
    "        recipient_email = None\n",
    "    emails_dict[\"recipient_email\"] = recipient_email\n",
    "\n",
    "    if r_name is not None:\n",
    "        recipient_name = re.sub(\"s*<\", \"\", re.sub(\":s*\", \"\", r_name.group()))\n",
    "    else:\n",
    "        recipient_name = None\n",
    "\n",
    "    emails_dict[\"recipient_name\"] = recipient_name\n",
    "\n",
    "    date_field = re.search(r\"Date:.*\", item)\n",
    "\n",
    "    if date_field is not None:\n",
    "        date = re.search(r\"\\d+\\s\\w+\\s\\d+\", date_field.group())\n",
    "    else:\n",
    "        date = None\n",
    "\n",
    "    if date is not None:\n",
    "        date_sent = date.group()\n",
    "    else:\n",
    "        date_sent = None\n",
    "\n",
    "    emails_dict[\"date_sent\"] = date_sent\n",
    "\n",
    "    subject_field = re.search(r\"Subject: .*\", item)\n",
    "\n",
    "    if subject_field is not None:\n",
    "        subject = re.sub(r\"Subject: \", \"\", subject_field.group())\n",
    "    else:\n",
    "        subject = None\n",
    "\n",
    "    emails_dict[\"subject\"] = subject\n",
    "\n",
    "    # \"item\" substituted with \"email content here\" so full email not\n",
    "    # displayed.\n",
    "\n",
    "    full_email = email.message_from_string(item)\n",
    "    body = full_email.get_payload()\n",
    "    emails_dict[\"email_body\"] = \"email body here\"\n",
    "\n",
    "    emails.append(emails_dict)\n",
    "# Print number of dictionaries, and hence, emails, in the list.\n",
    "print(\"Number of emails: \" + str(len(emails_dict)))\n",
    "\n",
    "print(\"n\")\n",
    "\n",
    "# Print first item in the emails list to see how it looks.\n",
    "for key, value in emails[0].items():\n",
    "    print(str(key) + \": \" + str(emails[0][key]))"
   ]
  },
  {
   "cell_type": "markdown",
   "metadata": {},
   "source": [
    "We've printed out the first item in the emails list, and it's clearly a dictionary with key and value pairs. Because we used a for loop, every dictionary has the same keys but different values.\n",
    "\n",
    "We've substituted item with \"email content here\" so that we don't print out the entire mass of the email and clog up our screens. If you're printing this at home using the actual data set, you'll see the entire email.\n",
    "\n",
    "## Manipulating Data with Pandas\n",
    "\n",
    "With dictionaries in a list, we've made it infinitely easy for the pandas library to do its job. Each key will become a column title, and each value becomes a row in that column.\n",
    "\n",
    "All we have to do is apply the following code:"
   ]
  },
  {
   "cell_type": "code",
   "execution_count": 115,
   "metadata": {},
   "outputs": [
    {
     "data": {
      "text/html": [
       "<div>\n",
       "<style scoped>\n",
       "    .dataframe tbody tr th:only-of-type {\n",
       "        vertical-align: middle;\n",
       "    }\n",
       "\n",
       "    .dataframe tbody tr th {\n",
       "        vertical-align: top;\n",
       "    }\n",
       "\n",
       "    .dataframe thead th {\n",
       "        text-align: right;\n",
       "    }\n",
       "</style>\n",
       "<table border=\"1\" class=\"dataframe\">\n",
       "  <thead>\n",
       "    <tr style=\"text-align: right;\">\n",
       "      <th></th>\n",
       "      <th>sender_email</th>\n",
       "      <th>sender_name</th>\n",
       "      <th>recipient_email</th>\n",
       "      <th>recipient_name</th>\n",
       "      <th>date_sent</th>\n",
       "      <th>subject</th>\n",
       "      <th>email_body</th>\n",
       "    </tr>\n",
       "  </thead>\n",
       "  <tbody>\n",
       "    <tr>\n",
       "      <th>0</th>\n",
       "      <td>bensul2004nng@spinfinder.com</td>\n",
       "      <td>\"Mr. Ben Suleman\"</td>\n",
       "      <td>R@M</td>\n",
       "      <td>None</td>\n",
       "      <td>31 Oct 2002</td>\n",
       "      <td>URGENT ASSISTANCE /RELATIONSHIP (P)</td>\n",
       "      <td>email body here</td>\n",
       "    </tr>\n",
       "    <tr>\n",
       "      <th>1</th>\n",
       "      <td>obong_715@epatra.com</td>\n",
       "      <td>\"PRINCE OBONG ELEME\"</td>\n",
       "      <td>obong_715@epatra.com</td>\n",
       "      <td>None</td>\n",
       "      <td>31 Oct 2002</td>\n",
       "      <td>GOOD DAY TO YOU</td>\n",
       "      <td>email body here</td>\n",
       "    </tr>\n",
       "  </tbody>\n",
       "</table>\n",
       "</div>"
      ],
      "text/plain": [
       "                   sender_email           sender_name       recipient_email  \\\n",
       "0  bensul2004nng@spinfinder.com     \"Mr. Ben Suleman\"                   R@M   \n",
       "1          obong_715@epatra.com  \"PRINCE OBONG ELEME\"  obong_715@epatra.com   \n",
       "\n",
       "  recipient_name    date_sent                              subject  \\\n",
       "0           None  31 Oct 2002  URGENT ASSISTANCE /RELATIONSHIP (P)   \n",
       "1           None  31 Oct 2002                      GOOD DAY TO YOU   \n",
       "\n",
       "        email_body  \n",
       "0  email body here  \n",
       "1  email body here  "
      ]
     },
     "execution_count": 115,
     "metadata": {},
     "output_type": "execute_result"
    }
   ],
   "source": [
    "# Module imported above, imported again as reminder.\n",
    "emails_df = pd.DataFrame(emails)\n",
    "emails_df"
   ]
  },
  {
   "cell_type": "markdown",
   "metadata": {},
   "source": [
    "With this single line, we turn the emails list of dictionaries into a dataframe using the pandas DataFrame() function. We assign it to a variable too.\n",
    "\n",
    "That's it. We now have a sophisticated pandas dataframe. This is essentially a neat and clean table containing all the information we've extracted from the emails.\n",
    "\n",
    "Let's look at the first few rows."
   ]
  },
  {
   "cell_type": "code",
   "execution_count": 116,
   "metadata": {},
   "outputs": [
    {
     "data": {
      "text/html": [
       "<div>\n",
       "<style scoped>\n",
       "    .dataframe tbody tr th:only-of-type {\n",
       "        vertical-align: middle;\n",
       "    }\n",
       "\n",
       "    .dataframe tbody tr th {\n",
       "        vertical-align: top;\n",
       "    }\n",
       "\n",
       "    .dataframe thead th {\n",
       "        text-align: right;\n",
       "    }\n",
       "</style>\n",
       "<table border=\"1\" class=\"dataframe\">\n",
       "  <thead>\n",
       "    <tr style=\"text-align: right;\">\n",
       "      <th></th>\n",
       "      <th>sender_email</th>\n",
       "      <th>sender_name</th>\n",
       "      <th>recipient_email</th>\n",
       "      <th>recipient_name</th>\n",
       "      <th>date_sent</th>\n",
       "      <th>subject</th>\n",
       "      <th>email_body</th>\n",
       "    </tr>\n",
       "  </thead>\n",
       "  <tbody>\n",
       "    <tr>\n",
       "      <th>0</th>\n",
       "      <td>bensul2004nng@spinfinder.com</td>\n",
       "      <td>\"Mr. Ben Suleman\"</td>\n",
       "      <td>R@M</td>\n",
       "      <td>None</td>\n",
       "      <td>31 Oct 2002</td>\n",
       "      <td>URGENT ASSISTANCE /RELATIONSHIP (P)</td>\n",
       "      <td>email body here</td>\n",
       "    </tr>\n",
       "    <tr>\n",
       "      <th>1</th>\n",
       "      <td>obong_715@epatra.com</td>\n",
       "      <td>\"PRINCE OBONG ELEME\"</td>\n",
       "      <td>obong_715@epatra.com</td>\n",
       "      <td>None</td>\n",
       "      <td>31 Oct 2002</td>\n",
       "      <td>GOOD DAY TO YOU</td>\n",
       "      <td>email body here</td>\n",
       "    </tr>\n",
       "  </tbody>\n",
       "</table>\n",
       "</div>"
      ],
      "text/plain": [
       "                   sender_email           sender_name       recipient_email  \\\n",
       "0  bensul2004nng@spinfinder.com     \"Mr. Ben Suleman\"                   R@M   \n",
       "1          obong_715@epatra.com  \"PRINCE OBONG ELEME\"  obong_715@epatra.com   \n",
       "\n",
       "  recipient_name    date_sent                              subject  \\\n",
       "0           None  31 Oct 2002  URGENT ASSISTANCE /RELATIONSHIP (P)   \n",
       "1           None  31 Oct 2002                      GOOD DAY TO YOU   \n",
       "\n",
       "        email_body  \n",
       "0  email body here  \n",
       "1  email body here  "
      ]
     },
     "execution_count": 116,
     "metadata": {},
     "output_type": "execute_result"
    }
   ],
   "source": [
    "pd.DataFrame.head(emails_df, n=3)"
   ]
  },
  {
   "cell_type": "markdown",
   "metadata": {},
   "source": [
    "The dataframe.head() function displays just the first few rows rather than the entire data set. It takes one argument. An optional argument allows us to specify how many rows we want displayed. Here, n=3 lets us view three rows.\n",
    "\n",
    "We can also find precisely what we want. For instance, we can find all the emails sent from a particular domain name. However, let's learn a new regex pattern to improve our precision in finding the items we want.\n",
    "\n",
    "The pipe symbol, |, looks for characters on either side of itself. For instance, a|b looks for either a or b.\n",
    "\n",
    "| might seem to do the same as [ ], but they really are different. Suppose we want to match either \"crab\", \"lobster\", or \"isopod\". Using crab|lobster|isopod would make more sense than [crablobsterisopod], wouldn't it? The former would look for each whole word, whereas the latter would look for every single letter.\n",
    "\n",
    "Now, let's use | to find all the emails sent from one or another domain name."
   ]
  },
  {
   "cell_type": "code",
   "execution_count": 117,
   "metadata": {},
   "outputs": [
    {
     "data": {
      "text/html": [
       "<div>\n",
       "<style scoped>\n",
       "    .dataframe tbody tr th:only-of-type {\n",
       "        vertical-align: middle;\n",
       "    }\n",
       "\n",
       "    .dataframe tbody tr th {\n",
       "        vertical-align: top;\n",
       "    }\n",
       "\n",
       "    .dataframe thead th {\n",
       "        text-align: right;\n",
       "    }\n",
       "</style>\n",
       "<table border=\"1\" class=\"dataframe\">\n",
       "  <thead>\n",
       "    <tr style=\"text-align: right;\">\n",
       "      <th></th>\n",
       "      <th>sender_email</th>\n",
       "      <th>sender_name</th>\n",
       "      <th>recipient_email</th>\n",
       "      <th>recipient_name</th>\n",
       "      <th>date_sent</th>\n",
       "      <th>subject</th>\n",
       "      <th>email_body</th>\n",
       "    </tr>\n",
       "  </thead>\n",
       "  <tbody>\n",
       "    <tr>\n",
       "      <th>0</th>\n",
       "      <td>bensul2004nng@spinfinder.com</td>\n",
       "      <td>\"Mr. Ben Suleman\"</td>\n",
       "      <td>R@M</td>\n",
       "      <td>None</td>\n",
       "      <td>31 Oct 2002</td>\n",
       "      <td>URGENT ASSISTANCE /RELATIONSHIP (P)</td>\n",
       "      <td>email body here</td>\n",
       "    </tr>\n",
       "    <tr>\n",
       "      <th>1</th>\n",
       "      <td>obong_715@epatra.com</td>\n",
       "      <td>\"PRINCE OBONG ELEME\"</td>\n",
       "      <td>obong_715@epatra.com</td>\n",
       "      <td>None</td>\n",
       "      <td>31 Oct 2002</td>\n",
       "      <td>GOOD DAY TO YOU</td>\n",
       "      <td>email body here</td>\n",
       "    </tr>\n",
       "  </tbody>\n",
       "</table>\n",
       "</div>"
      ],
      "text/plain": [
       "                   sender_email           sender_name       recipient_email  \\\n",
       "0  bensul2004nng@spinfinder.com     \"Mr. Ben Suleman\"                   R@M   \n",
       "1          obong_715@epatra.com  \"PRINCE OBONG ELEME\"  obong_715@epatra.com   \n",
       "\n",
       "  recipient_name    date_sent                              subject  \\\n",
       "0           None  31 Oct 2002  URGENT ASSISTANCE /RELATIONSHIP (P)   \n",
       "1           None  31 Oct 2002                      GOOD DAY TO YOU   \n",
       "\n",
       "        email_body  \n",
       "0  email body here  \n",
       "1  email body here  "
      ]
     },
     "execution_count": 117,
     "metadata": {},
     "output_type": "execute_result"
    }
   ],
   "source": [
    "emails_df[emails_df[\"sender_email\"].str.contains(\"epatra|spinfinder\")]"
   ]
  },
  {
   "cell_type": "markdown",
   "metadata": {},
   "source": [
    "We've used a rather lengthy line of code here. Let's start from the inside out.\n",
    "\n",
    "emails_df['sender_email'] selects the column labelled sender_email. Next, str.contains(epatra|spinfinder) returns True if the substring \"epatra\" or \"spinfinder\" is found in that column. Finally, the outer emails_df[] returns a view of the rows where the sender_email column contains the target substrings. Nifty!\n",
    "\n",
    "We can view emails from individual cells too. To do this, we go through four steps. In Step 1, we find the index of the row where the \"sender_email\" column contains the string \"@spinfinder\". Notice how we use regex to do this."
   ]
  },
  {
   "cell_type": "code",
   "execution_count": 118,
   "metadata": {},
   "outputs": [],
   "source": [
    "# Step 1: find the index where the \"sender_email\" column contains \"@spinfinder.com\".\n",
    "index = emails_df[emails_df[\"sender_email\"].str.contains(\n",
    "    r\"\\w\\S*@spinfinder.com\")].index.values"
   ]
  },
  {
   "cell_type": "markdown",
   "metadata": {},
   "source": [
    "In Step 2, we use the index to find the email address, which the loc[] method returns as a Series object with several different properties. We print it out below to see what it looks like."
   ]
  },
  {
   "cell_type": "code",
   "execution_count": 119,
   "metadata": {},
   "outputs": [
    {
     "name": "stdout",
     "output_type": "stream",
     "text": [
      "0    bensul2004nng@spinfinder.com\n",
      "Name: sender_email, dtype: object\n",
      "<class 'pandas.core.series.Series'>\n"
     ]
    }
   ],
   "source": [
    "# Step 2: use the index to find the value of the cell i the \"sender_email\" column.\n",
    "# The result is returned as pandas Series object\n",
    "address_Series = emails_df.loc[index][\"sender_email\"]\n",
    "print(address_Series)\n",
    "print(type(address_Series))"
   ]
  },
  {
   "cell_type": "markdown",
   "metadata": {},
   "source": [
    "In Step 3, we extract the email address from the Series object as we would items from a list. You can see that its type is now class."
   ]
  },
  {
   "cell_type": "code",
   "execution_count": 120,
   "metadata": {},
   "outputs": [
    {
     "name": "stdout",
     "output_type": "stream",
     "text": [
      "bensul2004nng@spinfinder.com\n",
      "<class 'str'>\n"
     ]
    }
   ],
   "source": [
    "# Step 3: extract the email address, which is at index 0 in the Series object.\n",
    "address_string = address_Series[0]\n",
    "print(address_string)\n",
    "print(type(address_string))"
   ]
  },
  {
   "cell_type": "markdown",
   "metadata": {},
   "source": [
    "Step 4 is where we extract the email body."
   ]
  },
  {
   "cell_type": "code",
   "execution_count": 121,
   "metadata": {},
   "outputs": [
    {
     "name": "stdout",
     "output_type": "stream",
     "text": [
      "['email body here']\n"
     ]
    }
   ],
   "source": [
    "# Step 4: find the value of the \"email_body\" column where the \"sender email\" column is address_string.\n",
    "print(emails_df[emails_df[\"sender_email\"] == address_string]\n",
    "      [\"email_body\"].values)"
   ]
  },
  {
   "cell_type": "markdown",
   "metadata": {},
   "source": [
    "In Step 4, emails_df['sender_email'] == \"bensul2004nng@spinfinder.com\" finds the row where the sender_email column contains the value \"bensul2004nng@spinfinder.com\". Next, ['email_body'].values finds the value of the email_body column in that same row. Finally, we print out the value.\n",
    "\n",
    "As you can see, we can work with regex in many ways, and it plays well with pandas, too! Don't be discouraged if your regex work includes a lot of trial and error, especially when you're just getting started!"
   ]
  }
 ],
 "metadata": {
  "kernelspec": {
   "display_name": "base",
   "language": "python",
   "name": "python3"
  },
  "language_info": {
   "codemirror_mode": {
    "name": "ipython",
    "version": 3
   },
   "file_extension": ".py",
   "mimetype": "text/x-python",
   "name": "python",
   "nbconvert_exporter": "python",
   "pygments_lexer": "ipython3",
   "version": "3.11.5"
  }
 },
 "nbformat": 4,
 "nbformat_minor": 2
}
