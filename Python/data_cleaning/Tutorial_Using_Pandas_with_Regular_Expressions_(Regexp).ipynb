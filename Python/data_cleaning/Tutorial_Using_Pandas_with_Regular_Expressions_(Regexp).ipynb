{
 "cells": [
  {
   "cell_type": "markdown",
   "metadata": {},
   "source": [
    "## 1. What is Regular Expression (Regex)?\n",
    "A regular expression, often abbreviated as regex, is a sequence of characters that defines a search pattern. It is used to match and manipulate strings based on patterns, allowing you to find, replace, or extract specific parts of text. Regex is a powerful tool used in various programming languages and tools for text processing tasks.\n",
    "## 2. Getting Started with Pandas and Regex\n",
    "Before we dive into using regex with Pandas, make sure you have both Pandas and Python installed on your system. You can install Pandas using the following command:"
   ]
  },
  {
   "cell_type": "code",
   "execution_count": 1,
   "metadata": {},
   "outputs": [],
   "source": [
    "# pip install pandas"
   ]
  },
  {
   "cell_type": "markdown",
   "metadata": {},
   "source": [
    "Once you have Pandas installed, you can import it into your Python script or Jupyter Notebook using the following:"
   ]
  },
  {
   "cell_type": "code",
   "execution_count": 2,
   "metadata": {},
   "outputs": [],
   "source": [
    "# import pandas as pd"
   ]
  },
  {
   "cell_type": "markdown",
   "metadata": {},
   "source": [
    "Now that we have Pandas ready, let’s start exploring how to use regex with Pandas.\n",
    "\n",
    "## 3. Using Regex with Pandas: Examples\n",
    "### Example 1: Extracting Information\n",
    "Let’s assume you have a dataset containing strings that include email addresses, and you want to extract all the email addresses from the dataset. Regex can be used to identify and extract these patterns. Here’s how you can achieve this using Pandas and regex:"
   ]
  },
  {
   "cell_type": "code",
   "execution_count": 3,
   "metadata": {},
   "outputs": [
    {
     "name": "stdout",
     "output_type": "stream",
     "text": [
      "                                                text        email_addresses\n",
      "0      Contact us at john@example.com for inquiries.     [john@example.com]\n",
      "1  Please email alice@example.com for more inform...    [alice@example.com]\n",
      "2  Reach out to support@example.com if you need a...  [support@example.com]\n"
     ]
    }
   ],
   "source": [
    "import re\n",
    "import pandas as pd\n",
    "\n",
    "\n",
    "# Sample dataset\n",
    "data = {\n",
    "    \"text\": [\n",
    "        \"Contact us at john@example.com for inquiries.\",\n",
    "        \"Please email alice@example.com for more information.\",\n",
    "        \"Reach out to support@example.com if you need assistance.\",\n",
    "    ]\n",
    "}\n",
    "\n",
    "df = pd.DataFrame(data)\n",
    "\n",
    "# Define the regex pattern for matching email addresses\n",
    "pattern = r\"[\\w\\.-]+@[\\w\\.-]+\"\n",
    "\n",
    "# Apply the regex pattern to extract email addresses\n",
    "df[\"email_addresses\"] = df[\"text\"].apply(lambda x: re.findall(pattern, x))\n",
    "\n",
    "print(df)"
   ]
  },
  {
   "cell_type": "markdown",
   "metadata": {},
   "source": [
    "In this example, the regex pattern r'[\\w\\.-]+@[\\w\\.-]+' matches the common structure of an email address. The re.findall() function is used to find all occurrences of this pattern within the text column of the DataFrame. The extracted email addresses are then stored in a new column called email_addresses.\n",
    "### Example 2: Data Cleaning and Transformation\n",
    "Suppose you have a dataset with a column containing messy strings that include various characters and symbols. You want to clean up these strings and extract relevant information using regex. Here’s an example of how you can achieve this using Pandas and regex:"
   ]
  },
  {
   "cell_type": "code",
   "execution_count": 4,
   "metadata": {},
   "outputs": [
    {
     "name": "stdout",
     "output_type": "stream",
     "text": [
      "              raw_text product_id\n",
      "0  Product ID: 123-XYZ    123-XYZ\n",
      "1  Product ID: 456-ABC    456-ABC\n",
      "2  Product ID: 789-PQR    789-PQR\n"
     ]
    }
   ],
   "source": [
    "# Sample dataset\n",
    "data = {\n",
    "    \"raw_text\": [\"Product ID: 123-XYZ\", \"Product ID: 456-ABC\", \"Product ID: 789-PQR\"]\n",
    "}\n",
    "\n",
    "df = pd.DataFrame(data)\n",
    "\n",
    "# Define the regex pattern for extracting product IDs\n",
    "pattern = r\"Product ID: (\\d+-\\w+)\"\n",
    "\n",
    "# Apply the regex pattern to extract product IDs\n",
    "df[\"product_id\"] = df[\"raw_text\"].apply(\n",
    "    lambda x: re.search(pattern, x).group(1) if re.search(pattern, x) else None\n",
    ")\n",
    "\n",
    "print(df)"
   ]
  },
  {
   "cell_type": "markdown",
   "metadata": {},
   "source": [
    "In this example, the regex pattern r'Product ID: (\\d+-\\w+)' captures the product IDs following the “Product ID: ” text. The parentheses in the pattern create a capture group, allowing us to extract the specific part of the pattern we’re interested in. The re.search() function is used to search for the pattern within the raw_text column, and .group(1) retrieves the captured product ID.\n",
    "\n",
    "## 4. Conclusion\n",
    "\n",
    "In this tutorial, we’ve explored how to use Pandas with regular expressions (regex) for text data manipulation tasks. We started by introducing the concept of regex and its importance in text processing. We then demonstrated how to get started with Pandas and regex, and provided two examples to showcase its practical application.\n",
    "\n",
    "Regular expressions offer a powerful way to manipulate and extract information from text data. When combined with Pandas, they become a valuable tool for data preprocessing, cleaning, and analysis. As you continue working with real-world datasets, you’ll likely encounter scenarios where regex can significantly simplify complex text manipulation tasks. By mastering the integration of Pandas with regex, you’ll be better equipped to handle various text-related challenges in your data analysis projects."
   ]
  }
 ],
 "metadata": {
  "kernelspec": {
   "display_name": "base",
   "language": "python",
   "name": "python3"
  },
  "language_info": {
   "codemirror_mode": {
    "name": "ipython",
    "version": 3
   },
   "file_extension": ".py",
   "mimetype": "text/x-python",
   "name": "python",
   "nbconvert_exporter": "python",
   "pygments_lexer": "ipython3",
   "version": "3.11.5"
  }
 },
 "nbformat": 4,
 "nbformat_minor": 2
}
