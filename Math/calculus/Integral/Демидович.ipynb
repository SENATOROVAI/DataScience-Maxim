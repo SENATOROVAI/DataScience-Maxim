{
 "cells": [
  {
   "cell_type": "code",
   "execution_count": 1,
   "metadata": {},
   "outputs": [],
   "source": [
    "import sympy as sym\n",
    "from sympy.abc import n\n"
   ]
  },
  {
   "cell_type": "markdown",
   "metadata": {},
   "source": [
    "With the help of **sympy.Integral()** method, we can create an unevaluated integral of a SymPy expression. It has the same syntax as **[integrate()](https://www.geeksforgeeks.org/python-sympy-integrate-method/)** method. To evaluate an unevaluated integral, use the **[doit()](https://www.geeksforgeeks.org/python-sympy-doit-method/)** method.\n",
    "\n",
    "**Parameters:**  \n",
    "**expression –** A SymPy expression whose unevaluated integral is found.  \n",
    "**reference variable –** Variable with respect to which integral is found.\n",
    "\n",
    "**Returns:** Returns an unevaluated integral of the given expression.\n"
   ]
  },
  {
   "attachments": {
    "image.png": {
     "image/png": "[encoded data removed]"
    }
   },
   "cell_type": "markdown",
   "metadata": {},
   "source": [
    "![image.png](attachment:image.png)"
   ]
  },
  {
   "cell_type": "markdown",
   "metadata": {},
   "source": [
    "$\\displaystyle \\int \\left(\\frac{3}{x} + \\frac{5}{x^{2}}\\right)\\, dx$"
   ]
  },
  {
   "cell_type": "code",
   "execution_count": 4,
   "metadata": {},
   "outputs": [
    {
     "data": {
      "text/latex": [
       "$\\displaystyle 3 \\log{\\left(x \\right)} - \\frac{5}{x}$"
      ],
      "text/plain": [
       "3*log(x) - 5/x"
      ]
     },
     "execution_count": 4,
     "metadata": {},
     "output_type": "execute_result"
    }
   ],
   "source": [
    "x = sym.symbols('x')\n",
    "f = (3/x) + (5/(x**2))\n",
    "integ = sym.integrate(f)\n",
    "integ"
   ]
  },
  {
   "cell_type": "code",
   "execution_count": 10,
   "metadata": {},
   "outputs": [
    {
     "data": {
      "text/latex": [
       "$\\displaystyle \\int \\left(\\frac{3}{x} + \\frac{5}{x^{2}}\\right)\\, dx$"
      ],
      "text/plain": [
       "Integral(3/x + 5/x**2, x)"
      ]
     },
     "execution_count": 10,
     "metadata": {},
     "output_type": "execute_result"
    }
   ],
   "source": [
    "y = sym.Integral(f,x)\n",
    "y"
   ]
  },
  {
   "cell_type": "code",
   "execution_count": 11,
   "metadata": {},
   "outputs": [
    {
     "data": {
      "text/latex": [
       "$\\displaystyle 3 \\log{\\left(x \\right)} - \\frac{5}{x}$"
      ],
      "text/plain": [
       "3*log(x) - 5/x"
      ]
     },
     "execution_count": 11,
     "metadata": {},
     "output_type": "execute_result"
    }
   ],
   "source": [
    "y.doit()"
   ]
  },
  {
   "attachments": {
    "image.png": {
     "image/png": "[encoded data removed]"
    }
   },
   "cell_type": "markdown",
   "metadata": {},
   "source": [
    "![image.png](attachment:image.png)"
   ]
  },
  {
   "cell_type": "code",
   "execution_count": 15,
   "metadata": {},
   "outputs": [
    {
     "data": {
      "text/latex": [
       "$\\displaystyle \\int \\frac{x_{1}^{3} + 5 x_{1}^{2} - 1}{x_{1}}\\, dx_{1}$"
      ],
      "text/plain": [
       "Integral((x1**3 + 5*x1**2 - 1)/x1, x1)"
      ]
     },
     "execution_count": 15,
     "metadata": {},
     "output_type": "execute_result"
    }
   ],
   "source": [
    "x1 = sym.symbols('x1')\n",
    "f1 = ((x1**3) + (5*(x1**2)) - 1) / x1\n",
    "y1 = sym.Integral(f1,x1)\n",
    "y1"
   ]
  },
  {
   "cell_type": "code",
   "execution_count": 16,
   "metadata": {},
   "outputs": [
    {
     "data": {
      "text/latex": [
       "$\\displaystyle \\frac{x_{1}^{3}}{3} + \\frac{5 x_{1}^{2}}{2} - \\log{\\left(x_{1} \\right)}$"
      ],
      "text/plain": [
       "x1**3/3 + 5*x1**2/2 - log(x1)"
      ]
     },
     "execution_count": 16,
     "metadata": {},
     "output_type": "execute_result"
    }
   ],
   "source": [
    "int1 = sym.integrate(f1)\n",
    "int1"
   ]
  },
  {
   "attachments": {
    "image.png": {
     "image/png": "[encoded data removed]"
    }
   },
   "cell_type": "markdown",
   "metadata": {},
   "source": [
    "![image.png](attachment:image.png)"
   ]
  },
  {
   "cell_type": "code",
   "execution_count": 21,
   "metadata": {},
   "outputs": [
    {
     "data": {
      "text/latex": [
       "$\\displaystyle \\int \\left(a + b x_{2}\\right)^{-0.5}\\, dx_{2}$"
      ],
      "text/plain": [
       "Integral((a + b*x2)**(-0.5), x2)"
      ]
     },
     "execution_count": 21,
     "metadata": {},
     "output_type": "execute_result"
    }
   ],
   "source": [
    "x2, a, b = sym.symbols('x2 a b')\n",
    "f2 = 1/((a+b*x2)**(1/2))\n",
    "y2 = sym.Integral(f1,x2)\n",
    "y2"
   ]
  },
  {
   "cell_type": "code",
   "execution_count": 22,
   "metadata": {},
   "outputs": [
    {
     "data": {
      "text/latex": [
       "$\\displaystyle \\frac{2.0 \\left(a + b x_{2}\\right)^{0.5}}{b}$"
      ],
      "text/plain": [
       "2.0*(a + b*x2)**0.5/b"
      ]
     },
     "execution_count": 22,
     "metadata": {},
     "output_type": "execute_result"
    }
   ],
   "source": [
    "y2.doit()"
   ]
  },
  {
   "attachments": {
    "image.png": {
     "image/png": "[encoded data removed]"
    }
   },
   "cell_type": "markdown",
   "metadata": {},
   "source": [
    "![image.png](attachment:image.png)"
   ]
  },
  {
   "cell_type": "code",
   "execution_count": 23,
   "metadata": {},
   "outputs": [
    {
     "data": {
      "text/latex": [
       "$\\displaystyle \\int \\left(3 x_{3}^{2} + 2 x_{3} + \\frac{1}{x_{3}}\\right)\\, dx_{3}$"
      ],
      "text/plain": [
       "Integral(3*x3**2 + 2*x3 + 1/x3, x3)"
      ]
     },
     "execution_count": 23,
     "metadata": {},
     "output_type": "execute_result"
    }
   ],
   "source": [
    "x3 = sym.symbols('x3')\n",
    "f3 = ((3*(x3**2)) + 2*x3 + (1/x3))\n",
    "y3 = sym.Integral(f3,x3)\n",
    "y3"
   ]
  },
  {
   "cell_type": "code",
   "execution_count": 24,
   "metadata": {},
   "outputs": [
    {
     "data": {
      "text/latex": [
       "$\\displaystyle x_{3}^{3} + x_{3}^{2} + \\log{\\left(x_{3} \\right)}$"
      ],
      "text/plain": [
       "x3**3 + x3**2 + log(x3)"
      ]
     },
     "execution_count": 24,
     "metadata": {},
     "output_type": "execute_result"
    }
   ],
   "source": [
    "y3.doit()"
   ]
  }
 ],
 "metadata": {
  "kernelspec": {
   "display_name": "base",
   "language": "python",
   "name": "python3"
  },
  "language_info": {
   "codemirror_mode": {
    "name": "ipython",
    "version": 3
   },
   "file_extension": ".py",
   "mimetype": "text/x-python",
   "name": "python",
   "nbconvert_exporter": "python",
   "pygments_lexer": "ipython3",
   "version": "3.11.5"
  }
 },
 "nbformat": 4,
 "nbformat_minor": 2
}
