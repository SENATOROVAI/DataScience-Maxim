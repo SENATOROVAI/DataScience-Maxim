{
 "cells": [
  {
   "cell_type": "markdown",
   "metadata": {},
   "source": [
    "# Import libraries"
   ]
  },
  {
   "cell_type": "code",
   "execution_count": 71,
   "metadata": {},
   "outputs": [],
   "source": [
    "import itertools\n",
    "from itertools import permutations, combinations, combinations_with_replacement\n"
   ]
  },
  {
   "cell_type": "code",
   "execution_count": 12,
   "metadata": {},
   "outputs": [],
   "source": [
    "# factorial function\n",
    "def fac(n):\n",
    "    if n==0:\n",
    "        return 1\n",
    "    return n*fac(n-1)\n"
   ]
  },
  {
   "cell_type": "markdown",
   "metadata": {},
   "source": [
    "# Problems"
   ]
  },
  {
   "cell_type": "markdown",
   "metadata": {},
   "source": [
    "## 1"
   ]
  },
  {
   "cell_type": "code",
   "execution_count": 3,
   "metadata": {},
   "outputs": [],
   "source": [
    "# how many ways can I rearrange the letters in a word\n",
    "wrd_1 = \"МАЙ\"\n",
    "wrd_2 = \"ИЮНЬ\"\n",
    "wrd_3 = \"ОСЕНЬ\"\n",
    "\n",
    "# Permutations(перестановки)\n",
    "# 1) 3! = 6\n",
    "# 2) 4! = 24\n",
    "# 3) 5! = 12\n"
   ]
  },
  {
   "cell_type": "code",
   "execution_count": 6,
   "metadata": {},
   "outputs": [
    {
     "name": "stdout",
     "output_type": "stream",
     "text": [
      "6\n",
      "24\n",
      "120\n"
     ]
    }
   ],
   "source": [
    "# Decision using def fac\n",
    "print(fac(len(wrd_1)))#\n",
    "print(fac(len(wrd_2)))#\n",
    "print(fac(len(wrd_3)))#\n"
   ]
  },
  {
   "cell_type": "code",
   "execution_count": 9,
   "metadata": {},
   "outputs": [
    {
     "data": {
      "text/plain": [
       "(6, 24, 120)"
      ]
     },
     "execution_count": 9,
     "metadata": {},
     "output_type": "execute_result"
    }
   ],
   "source": [
    "# Decision using itertools\n",
    "\n",
    "var_1 = permutations(wrd_1, r=None)\n",
    "var_2 = permutations(wrd_2, r=None)\n",
    "var_3 = permutations(wrd_3, r=None)\n",
    "len(list(var_1)), len(list(var_2)), len(list(var_3))\n"
   ]
  },
  {
   "cell_type": "markdown",
   "metadata": {},
   "source": [
    "## 2"
   ]
  },
  {
   "cell_type": "code",
   "execution_count": 39,
   "metadata": {},
   "outputs": [],
   "source": [
    "# how many ways can I rearrange letters in words\n",
    "# a)how many three-digit numbers can be made up of digits\n",
    "# lst_1 = [1, 2, 3, 4, 5]\n",
    "lst_1 = [0,1,2,3,4]\n",
    "# number of placements\n",
    "\n",
    "# b) how many three-digit numbers consisting of different digits can be composed from the digits\n",
    "lst_2 = [1, 2, 3, 4]"
   ]
  },
  {
   "cell_type": "code",
   "execution_count": 40,
   "metadata": {},
   "outputs": [
    {
     "name": "stdout",
     "output_type": "stream",
     "text": [
      "[(0, 1, 2), (0, 1, 3), (0, 1, 4), (0, 2, 1), (0, 2, 3), (0, 2, 4), (0, 3, 1), (0, 3, 2), (0, 3, 4), (0, 4, 1), (0, 4, 2), (0, 4, 3), (1, 0, 2), (1, 0, 3), (1, 0, 4), (1, 2, 0), (1, 2, 3), (1, 2, 4), (1, 3, 0), (1, 3, 2), (1, 3, 4), (1, 4, 0), (1, 4, 2), (1, 4, 3), (2, 0, 1), (2, 0, 3), (2, 0, 4), (2, 1, 0), (2, 1, 3), (2, 1, 4), (2, 3, 0), (2, 3, 1), (2, 3, 4), (2, 4, 0), (2, 4, 1), (2, 4, 3), (3, 0, 1), (3, 0, 2), (3, 0, 4), (3, 1, 0), (3, 1, 2), (3, 1, 4), (3, 2, 0), (3, 2, 1), (3, 2, 4), (3, 4, 0), (3, 4, 1), (3, 4, 2), (4, 0, 1), (4, 0, 2), (4, 0, 3), (4, 1, 0), (4, 1, 2), (4, 1, 3), (4, 2, 0), (4, 2, 1), (4, 2, 3), (4, 3, 0), (4, 3, 1), (4, 3, 2)]\n",
      "[(1, 2), (1, 3), (1, 4), (2, 3), (2, 4), (3, 4)]\n"
     ]
    }
   ],
   "source": [
    "digits3_1:list = list(permutations(lst_1, r = 3))\n",
    "digits3_2: list = list(combinations(lst_2, r = 2))\n",
    "print(digits3_1, digits3_2, sep = '\\n')"
   ]
  },
  {
   "cell_type": "code",
   "execution_count": 42,
   "metadata": {},
   "outputs": [
    {
     "name": "stdout",
     "output_type": "stream",
     "text": [
      "digits3_1 number of permutations of  - 60 \n",
      "digits3_2 number of combinations of  - 6 \n"
     ]
    }
   ],
   "source": [
    "print(f'digits3_1 number of permutations of  - {len(digits3_1)} ')\n",
    "print(f'digits3_2 number of combinations of  - {len(digits3_2)} ')\n"
   ]
  },
  {
   "cell_type": "markdown",
   "metadata": {},
   "source": [
    "## 3"
   ]
  },
  {
   "cell_type": "code",
   "execution_count": 45,
   "metadata": {},
   "outputs": [
    {
     "name": "stdout",
     "output_type": "stream",
     "text": [
      " Number of combinations 'abcd': 4\n",
      " Number of combinations 'abcd': 24\n"
     ]
    }
   ],
   "source": [
    "# Var1\n",
    "# Write down all possible combinations and all possible placements of 4 elements of a set of 3 elements.\n",
    "lst_3 = list(\"abcd\")\n",
    "string_comb = list(combinations(lst_3, 3))\n",
    "string_perm = list(permutations(lst_3, 3))\n",
    "print(f\" Number of combinations 'abcd': {len(string_comb)}\")\n",
    "print(f\" Number of combinations 'abcd': {len(string_perm)}\")\n"
   ]
  },
  {
   "cell_type": "code",
   "execution_count": 49,
   "metadata": {},
   "outputs": [
    {
     "data": {
      "text/plain": [
       "['a', 'b', 'c', 'd']"
      ]
     },
     "execution_count": 49,
     "metadata": {},
     "output_type": "execute_result"
    }
   ],
   "source": [
    "lst_3\n"
   ]
  },
  {
   "cell_type": "code",
   "execution_count": 62,
   "metadata": {},
   "outputs": [
    {
     "name": "stdout",
     "output_type": "stream",
     "text": [
      "[('a', 'b', 'c'), ('a', 'b', 'd'), ('a', 'c', 'd'), ('b', 'c', 'd')]\n",
      "4\n"
     ]
    }
   ],
   "source": [
    "# Var 2\n",
    "# combinations\n",
    "# C3_4 = 4!/(4-3)!*3! = (3!*4)/3! = 4\n",
    "lst_3 = [i for i in 'abcd'] # ['a', 'b', 'c', 'd']\n",
    "\n",
    "comb = list(combinations(lst_3, 3))\n",
    "count_comb = 0\n",
    "for i in lst_3:\n",
    "    count_comb += 1\n",
    "    \n",
    "print(comb)\n",
    "print(count_comb)\n"
   ]
  },
  {
   "cell_type": "code",
   "execution_count": 61,
   "metadata": {},
   "outputs": [
    {
     "name": "stdout",
     "output_type": "stream",
     "text": [
      "24\n"
     ]
    }
   ],
   "source": [
    "# A3_4 = 4!/(4-3)! = 4! = 4*3*2=24\n",
    "\n",
    "lst_3 = [i for i in 'abcd'] # ['a', 'b', 'c', 'd']\n",
    "\n",
    "perm = list(permutations(lst_3, 3))\n",
    "\n",
    "count_perm = 0\n",
    "for i in perm:\n",
    "    count_perm += 1\n",
    "# print(perm)\n",
    "print(count_perm)"
   ]
  },
  {
   "cell_type": "markdown",
   "metadata": {},
   "source": [
    "## 4"
   ]
  },
  {
   "cell_type": "code",
   "execution_count": 70,
   "metadata": {},
   "outputs": [
    {
     "name": "stdout",
     "output_type": "stream",
     "text": [
      " Number of combinationd to devide 3 eqaul awards among 10 competitors -  120\n",
      " Number of permutations to devide 3 different awards among 10 competitors -  720\n"
     ]
    }
   ],
   "source": [
    "# how many ways are there to distribute 3 awards among 10 competitors?\n",
    "competitors = list(range(1, 11)) # [1, 2, 3, 4, 5, 6, 7, 8, 9, 10]\n",
    "AWARDS = 3\n",
    "\n",
    "# if the awards are equal => comninations.C3_10 = 10!/(7!*3!) = (8*9*10)/6 = 120\n",
    "\n",
    "awards_comb = combinations(competitors, AWARDS)\n",
    "print(f' Number of combinationd to devide 3 eqaul awards among 10 competitors -  {len(list(awards_comb))}')\n",
    "\n",
    "# if the awards are different => permutatios.C3_10 = 10!/3! = 4*5*6*7*8*9*10 =\n",
    "\n",
    "awards_perm = permutations(competitors, AWARDS)\n",
    "print(f' Number of permutations to devide 3 different awards among 10 competitors -  {len(list(awards_perm))}')\n"
   ]
  },
  {
   "cell_type": "markdown",
   "metadata": {},
   "source": [
    "## 5"
   ]
  },
  {
   "cell_type": "code",
   "execution_count": null,
   "metadata": {},
   "outputs": [],
   "source": [
    "# a)how many ways are there to choose 3 flowers from a vase containing 6 roses and 5 carnations?\n",
    "count_flow = list(range(1, 12)) # 6 + 5\n",
    "var_6 = itertools.permutations(count_flow, 3)\n",
    "# b)how many ways are there to choose 1 rose and 2 carnations from this vase?\n",
    "m = itertools.permutations(list(range(1, 7)), 1)\n",
    "n = itertools.permutations(list(range(1, 6)), 2)\n",
    "len(list(var_6)), len(list(m)) + len(list(n))"
   ]
  },
  {
   "cell_type": "code",
   "execution_count": 73,
   "metadata": {},
   "outputs": [
    {
     "name": "stdout",
     "output_type": "stream",
     "text": [
      "4\n"
     ]
    }
   ],
   "source": [
    "#Combination with repeated elements\n",
    "# C3_2(rep) = C3_(3+2-1) = C3_4 = 4!/(4-1)!*3!=3!*4/3!=4\n",
    "\n",
    "combinations = list(combinations_with_replacement(['rose', 'carnation'], 3))\n",
    "\n",
    "print(len(combinations))\n",
    " "
   ]
  },
  {
   "cell_type": "code",
   "execution_count": null,
   "metadata": {},
   "outputs": [],
   "source": [
    "abc = (\"a\", \"b\", \"c\")\n",
    "\n",
    "print [(x, y, z) for x in abc for y in abc for z in abc]"
   ]
  }
 ],
 "metadata": {
  "kernelspec": {
   "display_name": "base",
   "language": "python",
   "name": "python3"
  },
  "language_info": {
   "codemirror_mode": {
    "name": "ipython",
    "version": 3
   },
   "file_extension": ".py",
   "mimetype": "text/x-python",
   "name": "python",
   "nbconvert_exporter": "python",
   "pygments_lexer": "ipython3",
   "version": "3.11.4"
  }
 },
 "nbformat": 4,
 "nbformat_minor": 2
}
