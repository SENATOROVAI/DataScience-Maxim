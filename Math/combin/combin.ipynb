{
 "cells": [
  {
   "cell_type": "code",
   "execution_count": 1,
   "metadata": {},
   "outputs": [],
   "source": [
    "import itertools"
   ]
  },
  {
   "cell_type": "code",
   "execution_count": 3,
   "metadata": {},
   "outputs": [],
   "source": [
    "# сколькими способами можно переставить буквы в слове\n",
    "\n",
    "wrd_1 = \"МАЙ\"\n",
    "wrd_2 = \"ИЮНЬ\"\n",
    "wrd_3 = \"ОСЕНЬ\"\n",
    "\n",
    "# Сначала классифицировать задачу, потом код на математике+питон\n",
    "# количества перестановок\n",
    "# 1) 3! = 6\n",
    "# 2) 4! = 24\n",
    "# 3) 5! = 120"
   ]
  },
  {
   "cell_type": "markdown",
   "metadata": {
    "vscode": {
     "languageId": "latex"
    }
   },
   "source": [
    "$3! = 6$\n",
    "\n",
    "$4! = 24$\n",
    "\n",
    "$5! = 120$\n"
   ]
  },
  {
   "cell_type": "markdown",
   "metadata": {},
   "source": [
    "`permutations()`\n",
    "\n",
    "Возвращает последовательные r перестановок элементов в итерируемом объекте. Если параметр r не указан или стоит в значении None, то по умолчанию r принимает длину итерируемого объекта и генерирует все возможные полноценные перестановки. Кортежи перестановок выдаются в лексикографическим порядке в соответствии с порядком итерации входных данных. Таким образом, если входные данные итерируемого объекта отсортированы, то комбинация кортежей будет выдаваться в отсортированном порядке.\n",
    "\n",
    "Элементы рассматриваются как уникальные в зависимости от их позиции, а не от их значения. Таким образом, если входные элементы уникальны, то в каждой перестановке не будет повторяющихся значений. \n",
    "\n",
    "`itertools.permutations(iterable,r=None)`"
   ]
  },
  {
   "cell_type": "code",
   "execution_count": 9,
   "metadata": {},
   "outputs": [
    {
     "data": {
      "text/plain": [
       "(6, 24, 120)"
      ]
     },
     "execution_count": 9,
     "metadata": {},
     "output_type": "execute_result"
    }
   ],
   "source": [
    "var_1 = itertools.permutations(wrd_1, r=None)\n",
    "var_2 = itertools.permutations(wrd_2, r=None)\n",
    "var_3 = itertools.permutations(wrd_3, r=None)\n",
    "len(list(var_1)), len(list(var_2)), len(list(var_3))"
   ]
  },
  {
   "cell_type": "code",
   "execution_count": 10,
   "metadata": {},
   "outputs": [],
   "source": [
    "# а)сколько трехзначных чисел можно составить из цифр\n",
    "lst_1 = [1, 2, 3, 4, 5]\n",
    "# количества размещений\n",
    "\n",
    "# б) сколько трехзначных чисел состоящих из различных цифр можно составить из цифр\n",
    "lst_2 = [1, 2, 3, 4, 5]"
   ]
  },
  {
   "cell_type": "markdown",
   "metadata": {},
   "source": [
    "`количества размещений`\n",
    "$A_5^3 = \\frac{5!}{(5-3)!} = 60 $\n",
    "\n",
    "`количества сочетаний`\n",
    "\n",
    "$C_5^3 = \\frac{5!}{(5-3)!*3!} = 10$\n",
    "\n",
    "`permutations()`\n",
    "\n",
    "Возвращает последовательные r перестановок элементов в итерируемом объекте. Если параметр r не указан или стоит в значении None, то по умолчанию r принимает длину итерируемого объекта и генерирует все возможные полноценные перестановки. Кортежи перестановок выдаются в лексикографическим порядке в соответствии с порядком итерации входных данных. Таким образом, если входные данные итерируемого объекта отсортированы, то комбинация кортежей будет выдаваться в отсортированном порядке.\n",
    "\n",
    "Элементы рассматриваются как уникальные в зависимости от их позиции, а не от их значения. Таким образом, если входные элементы уникальны, то в каждой перестановке не будет повторяющихся значений. \n",
    "\n",
    "`itertools.permutations(iterable,r=None)`"
   ]
  },
  {
   "cell_type": "code",
   "execution_count": 16,
   "metadata": {},
   "outputs": [
    {
     "data": {
      "text/plain": [
       "(60, 10)"
      ]
     },
     "execution_count": 16,
     "metadata": {},
     "output_type": "execute_result"
    }
   ],
   "source": [
    "vr_1 = itertools.permutations(lst_1, r=3)\n",
    "vr_2 = itertools.combinations(lst_2, r=3)\n",
    "len(list(vr_1)), len(list(vr_2))"
   ]
  },
  {
   "cell_type": "code",
   "execution_count": 26,
   "metadata": {},
   "outputs": [
    {
     "data": {
      "text/plain": [
       "(4, 24)"
      ]
     },
     "execution_count": 26,
     "metadata": {},
     "output_type": "execute_result"
    }
   ],
   "source": [
    "# Записать все возможные сочетания и все возможные размещения из 4 элементов множества по 3 элемента.\n",
    "lst_3 = list(\"abcd\")\n",
    "vr_3 = itertools.combinations(lst_3, 3)\n",
    "vr_4 = itertools.permutations(lst_3, 3)\n",
    "len(list(vr_3)), len(list(vr_4))"
   ]
  },
  {
   "cell_type": "markdown",
   "metadata": {},
   "source": [
    "`количества размещений`\n",
    "\n",
    "$A_4^3 = \\frac{4!}{(4-3)!} = 24 $\n",
    "\n",
    "`количества сочетаний`\n",
    "\n",
    "$C_4^3 = \\frac{4!}{(4-3)!*3!} = 4$"
   ]
  },
  {
   "cell_type": "code",
   "execution_count": 33,
   "metadata": {},
   "outputs": [
    {
     "data": {
      "text/plain": [
       "120"
      ]
     },
     "execution_count": 33,
     "metadata": {},
     "output_type": "execute_result"
    }
   ],
   "source": [
    "# сколько существует способов распределения 3 наград между 10 участниками соревнований?\n",
    "count = list(range(1, 11))\n",
    "var_5 = itertools.combinations(count, 3)\n",
    "len(list(var_5))"
   ]
  },
  {
   "cell_type": "code",
   "execution_count": 37,
   "metadata": {},
   "outputs": [
    {
     "data": {
      "text/plain": [
       "(990, 26)"
      ]
     },
     "execution_count": 37,
     "metadata": {},
     "output_type": "execute_result"
    }
   ],
   "source": [
    "# a)сколько существует способов выбрать 3 цветка из вазы, в которой стоят 6 роз и 5 гвоздик?\n",
    "count_flow = list(range(1, 12))  # 6 + 5\n",
    "var_6 = itertools.permutations(count_flow, 3)\n",
    "# б)сколько существует способов выбрать из этой вазы 1 розу и 2 гвоздики?\n",
    "m = itertools.permutations(list(range(1, 7)), 1)\n",
    "n = itertools.permutations(list(range(1, 6)), 2)\n",
    "len(list(var_6)), len(list(m)) + len(list(n))"
   ]
  }
 ],
 "metadata": {
  "kernelspec": {
   "display_name": "base",
   "language": "python",
   "name": "python3"
  },
  "language_info": {
   "codemirror_mode": {
    "name": "ipython",
    "version": 3
   },
   "file_extension": ".py",
   "mimetype": "text/x-python",
   "name": "python",
   "nbconvert_exporter": "python",
   "pygments_lexer": "ipython3",
   "version": "3.11.5"
  }
 },
 "nbformat": 4,
 "nbformat_minor": 2
}
