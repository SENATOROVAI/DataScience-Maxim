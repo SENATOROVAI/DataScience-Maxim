{
 "cells": [
  {
   "cell_type": "markdown",
   "metadata": {},
   "source": [
    "# Квадрат\n",
    "https://codeforces.com/problemset/problem/1921/A \n",
    "Есть множество способов решить эту задачу, самый простой способ такой. Найдем минимальную и максимальную координату x среди всех углов квадрата. Разность этих координат даст нам длину стороны квадрата d=xmax−xmin. После этого можно посчитать площадь квадрата как s=d2."
   ]
  },
  {
   "cell_type": "code",
   "execution_count": null,
   "metadata": {},
   "outputs": [],
   "source": [
    "for _ in range(int(input())):\n",
    "    l = [\n",
    "        list(map(int, input().split())) for i in range(4)\n",
    "    ]  # создание списка списковкординат x y\n",
    "    a = set()\n",
    "    b = set()\n",
    "    for i in l:  # перебор кардинат и добавление и в множество a и b\n",
    "        a.add(i[0])\n",
    "        b.add(i[1])\n",
    "    a = list(a)\n",
    "    b = list(b)\n",
    "    print(\n",
    "        abs(a[0] - a[1]) * abs(b[0] - b[1])\n",
    "    )  # вычисление по разности кординат a и b длину стороны а по ней площадь кв"
   ]
  },
  {
   "cell_type": "code",
   "execution_count": null,
   "metadata": {},
   "outputs": [],
   "source": [
    "t = int(input())\n",
    "for _ in range(t):\n",
    "    a = [\n",
    "        [int(x) for x in input().split()] for i in range(4)\n",
    "    ]  # создание списка списковкординат x y\n",
    "    x = [p[0] for p in a]\n",
    "    dx = max(x) - min(\n",
    "        x\n",
    "    )  # минимальную и максимальную координату x среди всех углов квадрата.\n",
    "    print(dx * dx)"
   ]
  },
  {
   "cell_type": "code",
   "execution_count": null,
   "metadata": {},
   "outputs": [],
   "source": [
    "for _ in range(int(input())):\n",
    "    a = []\n",
    "    a.append(list(map(int, input().split())))\n",
    "    a.append(list(map(int, input().split())))\n",
    "    a.append(list(map(int, input().split())))\n",
    "    a.append(list(map(int, input().split())))\n",
    "    min_x = 1001\n",
    "    max_x = -1001\n",
    "    min_y = 1001\n",
    "    max_y = -1001\n",
    "    for i in a:\n",
    "        min_x = min(min_x, i[0])\n",
    "        max_x = max(max_x, i[0])\n",
    "        min_y = min(min_y, i[1])\n",
    "        max_y = max(max_y, i[1])\n",
    "    print((abs(max_x - min_x)) * (abs(max_y - min_y)))"
   ]
  },
  {
   "cell_type": "markdown",
   "metadata": {},
   "source": [
    "#  Обмен и удаление\n",
    "https://codeforces.com/contest/1913/problem/B"
   ]
  },
  {
   "cell_type": "code",
   "execution_count": null,
   "metadata": {},
   "outputs": [],
   "source": [
    "for _ in range(int(input())):\n",
    "    s = input()\n",
    "    cnt = [0, 0]\n",
    "    for i in range(len(s)): # подсчет 0 и 1 \n",
    "        cnt[int(s[i])] += 1\n",
    "    for i in range(len(s) + 1):\n",
    "        if i == len(s) or cnt[1 - int(s[i])] == 0:\n",
    "            print(len(s) - i)\n",
    "            break\n",
    "        cnt[1 - int(s[i])] -= 1"
   ]
  }
 ],
 "metadata": {
  "language_info": {
   "name": "python"
  }
 },
 "nbformat": 4,
 "nbformat_minor": 2
}
