{
 "cells": [
  {
   "cell_type": "markdown",
   "metadata": {},
   "source": [
    "# Квадрат\n",
    "https://codeforces.com/problemset/problem/1921/A \n",
    "Есть множество способов решить эту задачу, самый простой способ такой. Найдем минимальную и максимальную координату x среди всех углов квадрата. Разность этих координат даст нам длину стороны квадрата d=xmax−xmin. После этого можно посчитать площадь квадрата как s=d2."
   ]
  },
  {
   "cell_type": "code",
   "execution_count": null,
   "metadata": {},
   "outputs": [],
   "source": [
    "for _ in range(int(input())):\n",
    "    l = [\n",
    "        list(map(int, input().split())) for i in range(4)\n",
    "    ]  # создание списка списковкординат x y\n",
    "    a = set()\n",
    "    b = set()\n",
    "    for i in l:  # перебор кардинат и добавление и в множество a и b\n",
    "        a.add(i[0])\n",
    "        b.add(i[1])\n",
    "    a = list(a)\n",
    "    b = list(b)\n",
    "    print(\n",
    "        abs(a[0] - a[1]) * abs(b[0] - b[1])\n",
    "    )  # вычисление по разности кординат a и b длину стороны а по ней площадь кв"
   ]
  },
  {
   "cell_type": "code",
   "execution_count": null,
   "metadata": {},
   "outputs": [],
   "source": [
    "t = int(input())\n",
    "for _ in range(t):\n",
    "    a = [\n",
    "        [int(x) for x in input().split()] for i in range(4)\n",
    "    ]  # создание списка списковкординат x y\n",
    "    x = [p[0] for p in a]\n",
    "    dx = max(x) - min(\n",
    "        x\n",
    "    )  # минимальную и максимальную координату x среди всех углов квадрата.\n",
    "    print(dx * dx)"
   ]
  },
  {
   "cell_type": "code",
   "execution_count": null,
   "metadata": {},
   "outputs": [],
   "source": [
    "for _ in range(int(input())):\n",
    "    a = []\n",
    "    a.append(list(map(int, input().split())))\n",
    "    a.append(list(map(int, input().split())))\n",
    "    a.append(list(map(int, input().split())))\n",
    "    a.append(list(map(int, input().split())))\n",
    "    min_x = 1001\n",
    "    max_x = -1001\n",
    "    min_y = 1001\n",
    "    max_y = -1001\n",
    "    for i in a:\n",
    "        min_x = min(min_x, i[0])\n",
    "        max_x = max(max_x, i[0])\n",
    "        min_y = min(min_y, i[1])\n",
    "        max_y = max(max_y, i[1])\n",
    "    print((abs(max_x - min_x)) * (abs(max_y - min_y)))"
   ]
  },
  {
   "cell_type": "markdown",
   "metadata": {},
   "source": [
    "#  Обмен и удаление\n",
    "https://codeforces.com/contest/1913/problem/B"
   ]
  },
  {
   "cell_type": "code",
   "execution_count": null,
   "metadata": {},
   "outputs": [],
   "source": [
    "for _ in range(int(input())):\n",
    "    s = input()\n",
    "    cnt = [0, 0]\n",
    "    for i in range(len(s)):  # подсчет 0 и 1\n",
    "        cnt[int(s[i])] += 1\n",
    "    for i in range(len(s) + 1):\n",
    "        if i == len(s) or cnt[1 - int(s[i])] == 0:\n",
    "            print(len(s) - i)\n",
    "            break\n",
    "        cnt[1 - int(s[i])] -= 1"
   ]
  },
  {
   "cell_type": "markdown",
   "metadata": {},
   "source": [
    "# Выполнение условий\n",
    "https://codeforces.com/problemset/problem/1920/A"
   ]
  },
  {
   "cell_type": "code",
   "execution_count": null,
   "metadata": {},
   "outputs": [],
   "source": [
    "for _ in range(int(input())):\n",
    "    n = int(input())\n",
    "    mx = 10**10\n",
    "    mn = 0\n",
    "    s = set()\n",
    "    for _ in range(n):  # ограничения с условиями\n",
    "        a, k = list(map(int, input().split()))  # какое усл и его огр\n",
    "        if a == 1:\n",
    "            mn = max(mn, k)  # находим верхний предел\n",
    "        elif a == 2:\n",
    "            mx = min(mx, k)  # нижний\n",
    "        else:\n",
    "            s.add(k)  # 3 условие\n",
    "    cnt = 0\n",
    "\n",
    "    for i in s:\n",
    "        if mn <= i <= mx:  # проверка 3 на вхождение 1 и 2\n",
    "            cnt += 1\n",
    "\n",
    "    print(max(0, mx - mn + 1 - cnt))  # вычисление количества"
   ]
  },
  {
   "cell_type": "code",
   "execution_count": null,
   "metadata": {},
   "outputs": [],
   "source": [
    "import bisect\n",
    "\n",
    "for _ in range(int(input())):\n",
    "    n = int(input())\n",
    "    g = []\n",
    "    l = []\n",
    "    e = []\n",
    "    for i in range(n):  # ограничения с условиями\n",
    "        a = list(map(int, input().split()))\n",
    "        if a[0] == 1:\n",
    "            g.append(a[1])\n",
    "        elif a[0] == 2:\n",
    "            l.append(a[1])\n",
    "        else:\n",
    "            e.append(a[1])\n",
    "    n1 = max(g)\n",
    "    n2 = min(l)\n",
    "    if n1 > n2:\n",
    "        print(0)  # если макс эл меньше мин, то не под какие усл не попадает\n",
    "    else:\n",
    "        ans = n2 - n1 + 1\n",
    "        if len(e) > 0:\n",
    "            e.sort()\n",
    "            k1 = bisect.bisect_left(\n",
    "                e, n1\n",
    "            )  # находим индекс эл куда нужно вставит до в диапозон эл с 3 усл\n",
    "            k2 = bisect.bisect_right(\n",
    "                e, n2\n",
    "            )  # находим индекс эл куда нужно вставит после в диапозон эл с 3 усл\n",
    "            ans -= k2 - k1\n",
    "        print(ans)"
   ]
  },
  {
   "cell_type": "markdown",
   "metadata": {},
   "source": [
    "# Слишком длинные слова\n",
    "https://codeforces.com/problemset/problem/71/A"
   ]
  },
  {
   "cell_type": "code",
   "execution_count": null,
   "metadata": {},
   "outputs": [],
   "source": [
    "for i in range(int(input())):\n",
    "    w = input()\n",
    "    print(\n",
    "        w if len(w) < 11 else w[0] + str(len(w) - 2) + w[-1]\n",
    "    )  # Проверяем на длину, если привышает, то складываем 1 и посл буквы с длиной - эти 2 буквы"
   ]
  },
  {
   "cell_type": "code",
   "execution_count": null,
   "metadata": {},
   "outputs": [],
   "source": [
    "quantity = int(input())\n",
    "i = 0\n",
    "word_list = []\n",
    "while i < quantity:\n",
    "    word_list.append(input())\n",
    "    i += 1\n",
    "\n",
    "\n",
    "def create_abbrev(list_of_words):  # создаем функц для выводы сокращения\n",
    "    for any_word in list_of_words:\n",
    "        if len(any_word) > 10:\n",
    "            abb = any_word[0] + str((len(any_word) - 2)) + any_word[len(any_word) - 1]\n",
    "            print(abb)\n",
    "        else:\n",
    "            print(any_word)"
   ]
  },
  {
   "cell_type": "code",
   "execution_count": null,
   "metadata": {},
   "outputs": [],
   "source": [
    "length = int(input())\n",
    "wordList = []\n",
    "for i in range(length):\n",
    "    wordList.append(str(input()))\n",
    "\n",
    "for word in wordList:\n",
    "    if len(word) > 10:\n",
    "        print(f\"{word[0]}{len(word) - 2}{word[-1]}\")\n",
    "    else:\n",
    "        print(word)"
   ]
  },
  {
   "cell_type": "markdown",
   "metadata": {},
   "source": [
    "# Команда\n",
    "https://codeforces.com/problemset/problem/231/A"
   ]
  },
  {
   "cell_type": "code",
   "execution_count": null,
   "metadata": {},
   "outputs": [],
   "source": [
    "cnt = 0\n",
    "for _ in range(int(input())):  # считываем количество итераций\n",
    "    cnt += (\n",
    "        input().count(\"1\") >= 2\n",
    "    )  # подсчет едениц в строке если их 2 или более то в счетчик добавляем что эту здачу буду решать\n",
    "print(f\"{cnt}\")"
   ]
  },
  {
   "cell_type": "code",
   "execution_count": null,
   "metadata": {},
   "outputs": [],
   "source": [
    "def main():\n",
    "    num_programs = int(input())  # количество зад\n",
    "\n",
    "    solvable_programs = 0\n",
    "\n",
    "    for _ in range(num_programs):\n",
    "        tally = 0  # счетчик вхождений 1 в списке\n",
    "\n",
    "        friend_answers = list(\n",
    "            map(int, input().split())\n",
    "        )  # создание из ответов списка чисел\n",
    "\n",
    "        for i in range(len(friend_answers)):  # пробегаемся по длине списка\n",
    "            if friend_answers[i] == 1:  # если 1 добавля +1\n",
    "                tally += 1\n",
    "\n",
    "        if (\n",
    "            tally > len(friend_answers) // 2\n",
    "        ):  # если > 1 счет то доюавля +1 к реш задачам\n",
    "            solvable_programs += 1\n",
    "\n",
    "    print(solvable_programs)"
   ]
  },
  {
   "cell_type": "code",
   "execution_count": null,
   "metadata": {},
   "outputs": [],
   "source": [
    "answer = 0\n",
    "problems = int(input())\n",
    "for i in range(problems):\n",
    "    sure = input()  # \"1 0 1\"\n",
    "    ones = sure.count(\"1\")\n",
    "    if ones >= 2:\n",
    "        answer = answer + 1\n",
    "\n",
    "print(answer)"
   ]
  },
  {
   "cell_type": "markdown",
   "metadata": {},
   "source": [
    "# Следующий раунд\n",
    "https://codeforces.com/problemset/problem/158/A"
   ]
  },
  {
   "cell_type": "code",
   "execution_count": null,
   "metadata": {},
   "outputs": [],
   "source": [
    "n_k = [int(k) for k in input().split()]\n",
    "contestants = [int(k) for k in input().split()]\n",
    "num = contestants[n_k[1] - 1]\n",
    "i = 0\n",
    "for j in range(n_k[0]):\n",
    "    if contestants[j] >= num and contestants[j] != 0:\n",
    "        i += 1\n",
    "print(i)"
   ]
  },
  {
   "cell_type": "markdown",
   "metadata": {},
   "source": [
    "# Bit++\n",
    "https://codeforces.com/problemset/problem/282/A"
   ]
  },
  {
   "cell_type": "code",
   "execution_count": null,
   "metadata": {},
   "outputs": [],
   "source": [
    "x = 0\n",
    "for _ in range(int(input())):\n",
    "    x = x + 1 if \"+\" in input() else x - 1  # если есть + приб , если - то убавл\n",
    "print(x)"
   ]
  },
  {
   "cell_type": "code",
   "execution_count": null,
   "metadata": {},
   "outputs": [],
   "source": [
    "x = 0\n",
    "for i in range(int(input())):\n",
    "    s = input()\n",
    "    x += s.count(\"++\")  # приб количество ++\n",
    "    x -= s.count(\"--\")  # приб количество --\n",
    "print(x)"
   ]
  },
  {
   "cell_type": "markdown",
   "metadata": {},
   "source": [
    "# Укладка доминошками\n",
    "https://codeforces.com/problemset/problem/50/A"
   ]
  },
  {
   "cell_type": "code",
   "execution_count": null,
   "metadata": {},
   "outputs": [],
   "source": [
    "print(\n",
    "    eval(input().replace(\" \", \"*\")) // 2\n",
    ")  # выводим вычисление выражение умнажения двух цифр меняя пробел на *, и сразу делем без остатка на 2"
   ]
  },
  {
   "cell_type": "code",
   "execution_count": null,
   "metadata": {},
   "outputs": [],
   "source": [
    "from collections import defaultdict\n",
    "\n",
    "\n",
    "def pug_func(s: str) -> int:  # создаем функцию\n",
    "\n",
    "    m, n = s.split(\" \")  # разделяе мперемнные\n",
    "    m = int(m)\n",
    "    n = int(n)\n",
    "\n",
    "    if (m * n) % 2 == 0:  # если чет\n",
    "        return (m * n) // 2\n",
    "    else:\n",
    "        return ((m * n) - 1) // 2"
   ]
  },
  {
   "cell_type": "code",
   "execution_count": null,
   "metadata": {},
   "outputs": [],
   "source": [
    "m, n = map(int, input().split())\n",
    "if m % 2 != 0 and n % 2 != 0:\n",
    "    print((m * n - 1) // 2)\n",
    "else:\n",
    "    print(m * n // 2)"
   ]
  },
  {
   "cell_type": "markdown",
   "metadata": {},
   "source": [
    "# Красивая матрица\n",
    "https://codeforces.com/problemset/problem/263/A"
   ]
  },
  {
   "cell_type": "code",
   "execution_count": null,
   "metadata": {},
   "outputs": [],
   "source": [
    "sp = [input().split() for i in range(5)]  # считываем матрицу\n",
    "x = 1  # нач корд\n",
    "y = 1\n",
    "for i in range(len(sp)):  # ищем 1\n",
    "    if \"1\" in sp[i]:  # как нашли прибавл корд 1\n",
    "        y += i\n",
    "        x += sp[i].index(\"1\")\n",
    "        break\n",
    "\n",
    "dx = abs(3 - x)  # наход кол-ва шагов по иксу\n",
    "dy = abs(3 - y)  # по y\n",
    "print(dx + dy)  # сумма шагов"
   ]
  },
  {
   "cell_type": "code",
   "execution_count": null,
   "metadata": {},
   "outputs": [],
   "source": [
    "l = [2, 1, 0, 1, 2]  # список из количества шагов в завис на какой стр наход 1\n",
    "for i in l:\n",
    "    s = input()\n",
    "    if \"1\" in s:\n",
    "        print(\n",
    "            i + l[s.find(\"1\") // 2]\n",
    "        )  # находя 1, т.е. прибавл к количеству шагов по строке, количество шагов по стлбц"
   ]
  },
  {
   "cell_type": "code",
   "execution_count": null,
   "metadata": {},
   "outputs": [],
   "source": [
    "row_count = 0\n",
    "\n",
    "for i in range(5):\n",
    "    line = list(map(int, input().split()))\n",
    "    if 1 in line:\n",
    "        print(abs(2 - row_count) + abs(2 - line.index(1)))\n",
    "        break\n",
    "    row_count += 1"
   ]
  },
  {
   "cell_type": "markdown",
   "metadata": {},
   "source": [
    "# Математика спешит на помощь\n",
    "https://codeforces.com/problemset/problem/339/A"
   ]
  },
  {
   "cell_type": "code",
   "execution_count": null,
   "metadata": {},
   "outputs": [],
   "source": [
    "print(\n",
    "    *sorted(input().split(\"+\")), sep=\"+\"\n",
    ")  # сортируем список разд +, распк его через * разделяя все +"
   ]
  },
  {
   "cell_type": "code",
   "execution_count": null,
   "metadata": {},
   "outputs": [],
   "source": [
    "print(\"+\".join(sorted(input()[::2])))  # созд стр из списка разд +, отср стр с шагом 2"
   ]
  },
  {
   "cell_type": "code",
   "execution_count": null,
   "metadata": {},
   "outputs": [],
   "source": [
    "s = input()\n",
    "l = []\n",
    "u = []\n",
    "if \"+\" in s:\n",
    "    s = s.replace(\"+\", \" \")\n",
    "    for ele in s.split():\n",
    "        ele = int(ele)\n",
    "        l.append(ele)\n",
    "    l.sort()\n",
    "    f = f\"{l}\"\n",
    "    f = f.replace(\"[\", \"\")\n",
    "    f = f.replace(\"]\", \"\")\n",
    "    f = f.replace(\",\", \"\")\n",
    "    f = f.replace(\" \", \"+\")\n",
    "    print(f)\n",
    "else:\n",
    "    u.append(s)\n",
    "    print(*u)"
   ]
  },
  {
   "cell_type": "markdown",
   "metadata": {},
   "source": [
    "#  Капитализация слова\n",
    "https://codeforces.com/problemset/problem/281/A"
   ]
  },
  {
   "cell_type": "code",
   "execution_count": null,
   "metadata": {},
   "outputs": [],
   "source": [
    "b = input()\n",
    "print(b.replace(b[0], b[0].upper(), 1))  # делаем большой первую букву"
   ]
  },
  {
   "cell_type": "code",
   "execution_count": null,
   "metadata": {},
   "outputs": [],
   "source": [
    "a = input()\n",
    "print(a[0].upper() + a[1:])  # сложить 2 часи из увелич 1 букв и остальных"
   ]
  },
  {
   "cell_type": "code",
   "execution_count": null,
   "metadata": {},
   "outputs": [],
   "source": [
    "a = input(\"\")\n",
    "\n",
    "small_alph = [\n",
    "    \"a\",\n",
    "    \"b\",\n",
    "    \"c\",\n",
    "    \"d\",\n",
    "    \"e\",\n",
    "    \"f\",\n",
    "    \"g\",\n",
    "    \"h\",\n",
    "    \"i\",\n",
    "    \"j\",\n",
    "    \"k\",\n",
    "    \"l\",\n",
    "    \"m\",\n",
    "    \"n\",\n",
    "    \"o\",\n",
    "    \"p\",\n",
    "    \"q\",\n",
    "    \"r\",\n",
    "    \"s\",\n",
    "    \"t\",\n",
    "    \"u\",\n",
    "    \"v\",\n",
    "    \"w\",\n",
    "    \"x\",\n",
    "    \"y\",\n",
    "    \"z\",\n",
    "]  # сп мал букв\n",
    "large_alph = [\n",
    "    \"A\",\n",
    "    \"B\",\n",
    "    \"C\",\n",
    "    \"D\",\n",
    "    \"E\",\n",
    "    \"F\",\n",
    "    \"G\",\n",
    "    \"H\",\n",
    "    \"I\",\n",
    "    \"J\",\n",
    "    \"K\",\n",
    "    \"L\",\n",
    "    \"M\",\n",
    "    \"N\",\n",
    "    \"O\",\n",
    "    \"P\",\n",
    "    \"Q\",\n",
    "    \"R\",\n",
    "    \"S\",\n",
    "    \"T\",\n",
    "    \"U\",\n",
    "    \"V\",\n",
    "    \"W\",\n",
    "    \"X\",\n",
    "    \"Y\",\n",
    "    \"Z\",\n",
    "]  # чп больш\n",
    "\n",
    "num = None\n",
    "check = False\n",
    "for i in range(0, len(small_alph)):  # пробег по мал алф\n",
    "    if small_alph[i] == a[0]:  # есл есть совпадание с первой буквой в слове\n",
    "        num = large_alph[i]  # в пер добавл ее аналог из сп больш букв\n",
    "        check = True  # изм флаг на тру\n",
    "        break\n",
    "\n",
    "if check == True:  # есл флаг поменялся\n",
    "    result = num + a[1 : len(a)]  # выводим найден больш букву + остальн часть сл\n",
    "    print(result)\n",
    "else:\n",
    "    print(a)  # а если такой буквы и не было то просто выводим изначальное слово"
   ]
  },
  {
   "cell_type": "markdown",
   "metadata": {},
   "source": [
    "# Девушка или Юноша"
   ]
  },
  {
   "cell_type": "code",
   "execution_count": null,
   "metadata": {},
   "outputs": [],
   "source": [
    "print(\n",
    "    (\"IGNORE HIM!\", \"CHAT WITH HER!\")[len(set(input())) % 2 == 0]\n",
    ")  # провер на четность дли множества"
   ]
  },
  {
   "cell_type": "code",
   "execution_count": null,
   "metadata": {},
   "outputs": [],
   "source": [
    "print(\"IGNORE HIM!\" if len(set(input())) % 2 else \"CHAT WITH HER!\")  # через условие"
   ]
  },
  {
   "cell_type": "code",
   "execution_count": null,
   "metadata": {},
   "outputs": [],
   "source": [
    "n = str(input())\n",
    "str = \"\"\n",
    "cnt = 0\n",
    "for i in n:\n",
    "    if i not in str:  # проверка на одинак буквы если нет\n",
    "        str += i  # добавл ее к пуст строке\n",
    "        cnt += 1  # счет таких букв увеоич на 1\n",
    "if cnt % 2 == 0:\n",
    "    print(\"CHAT WITH HER!\")\n",
    "else:\n",
    "    print(\"IGNORE HIM!\")"
   ]
  },
  {
   "cell_type": "markdown",
   "metadata": {},
   "source": [
    "# Камни на столе\n",
    "https://codeforces.com/problemset/problem/266/A"
   ]
  },
  {
   "cell_type": "code",
   "execution_count": null,
   "metadata": {},
   "outputs": [],
   "source": [
    "n = int(input())\n",
    "sl = list(input())  # из сл список отд букв\n",
    "c = []  # счет одинак б рядомстоящ\n",
    "for i in range(0, len(sl) - 1):  # по списку до последней б, для избеж ошиб\n",
    "    if sl[i] == sl[i + 1]:  # если буква ранва сл б, то\n",
    "        c.append(sl[i])  # добававл ее в сч\n",
    "        sl[i] = \"\"  # замен эту букву на пуст стр\n",
    "print(len(c))  # вывод дл повт б"
   ]
  },
  {
   "cell_type": "code",
   "execution_count": null,
   "metadata": {},
   "outputs": [],
   "source": [
    "a = b = 0  # а - счет одинак\n",
    "input()\n",
    "for i in input():  # пробег по слову\n",
    "    a += b == i\n",
    "    b = i  # добавл к а 1 или 0 в завис равн ли b букве i, делаем b = i\n",
    "print(a)"
   ]
  },
  {
   "cell_type": "code",
   "execution_count": null,
   "metadata": {},
   "outputs": [],
   "source": [
    "n = int(input())\n",
    "s = input() + \" \"  # добавл к концу стр пуст стр чтобы не было ошибке по последн индексу\n",
    "\n",
    "cnt = 0  # счет\n",
    "for i in range(n):\n",
    "    if s[i] == s[i + 1]:  # если б равна сл букве\n",
    "        cnt += 1  # + 1 в счеттч\n",
    "print(f\"{cnt}\")"
   ]
  },
  {
   "cell_type": "markdown",
   "metadata": {},
   "source": [
    "# Мишка и старший брат\n",
    "https://codeforces.com/problemset/problem/791/A"
   ]
  },
  {
   "cell_type": "code",
   "execution_count": null,
   "metadata": {},
   "outputs": [],
   "source": [
    "a, b = map(int, input().split())  # делаем из сп из двух стр два числа\n",
    "c = 0  # счет лет\n",
    "while a <= b:  # пока а м б\n",
    "    a *= 3  # утр а\n",
    "    b *= 2  # удв б\n",
    "    c += 1  # увелич на 1 кол-во лет\n",
    "print(c)"
   ]
  },
  {
   "cell_type": "code",
   "execution_count": null,
   "metadata": {},
   "outputs": [],
   "source": [
    "a, b = [int(i) for i in input().split()]\n",
    "cnt = 0\n",
    "while True:\n",
    "    if a > b:\n",
    "        print(cnt)\n",
    "        break\n",
    "\n",
    "    a *= 3\n",
    "    b *= 2\n",
    "    cnt += 1"
   ]
  },
  {
   "cell_type": "markdown",
   "metadata": {},
   "source": [
    "#"
   ]
  },
  {
   "cell_type": "code",
   "execution_count": null,
   "metadata": {},
   "outputs": [],
   "source": [
    "sp = [\"a\", \"o\", \"y\", \"e\", \"u\", \"i\"]\n",
    "sl = list(filter(lambda x: x not in sp, list(input().lower())))\n",
    "print(\".\", end=\"\")\n",
    "print(*sl, sep=\".\")"
   ]
  },
  {
   "cell_type": "markdown",
   "metadata": {},
   "source": [
    "# Слоник\n",
    "https://codeforces.com/problemset/problem/617/A"
   ]
  },
  {
   "cell_type": "code",
   "execution_count": null,
   "metadata": {},
   "outputs": [],
   "source": [
    "n = int(input())\n",
    "c = 0  # счетч шагов\n",
    "for i in range(5, 0, -1):  # убавл из длин сначал самы больш шаг\n",
    "    while n - i >= 0:  # происходит ваычитание пока оно не уходит в минус\n",
    "        n -= i\n",
    "        c += 1\n",
    "print(c)"
   ]
  },
  {
   "cell_type": "code",
   "execution_count": null,
   "metadata": {},
   "outputs": [],
   "source": [
    "print(\n",
    "    (int(input()) + 4) // 5\n",
    ")  # прибавл 4 к длин тем сам увелич ее до числа кот точно бы делил на 5 с ост 1 будь оно = 1, дел нацел на 5 пор макс длин шага"
   ]
  },
  {
   "cell_type": "code",
   "execution_count": null,
   "metadata": {},
   "outputs": [],
   "source": [
    "x = int(input())\n",
    "print((x // 5) + 1) if x % 5 != 0 else print(x // 5)"
   ]
  },
  {
   "cell_type": "markdown",
   "metadata": {},
   "source": [
    "#  Солдат и бананы\n",
    "https://codeforces.com/problemset/problem/546/A"
   ]
  },
  {
   "cell_type": "code",
   "execution_count": null,
   "metadata": {},
   "outputs": [],
   "source": [
    "k, n, w = map(int, input().split())\n",
    "c = 0\n",
    "for i in range(1, w + 1):  # проход по индексам банан\n",
    "    c += i * k  # умн инд на стоим 1 банан\n",
    "if c <= n:  # если стоим всех меньш имеющ денег\n",
    "    st = 0  # ничего занимать не нужно\n",
    "else:\n",
    "    st = c - n  # иначе надо занять разность\n",
    "\n",
    "print(st)"
   ]
  },
  {
   "cell_type": "markdown",
   "metadata": {},
   "source": [
    "# Слово\n",
    "https://codeforces.com/problemset/problem/59/A"
   ]
  },
  {
   "cell_type": "code",
   "execution_count": null,
   "metadata": {},
   "outputs": [],
   "source": [
    "sl = input()\n",
    "b = 0  # счет больш\n",
    "m = 0  # счет мал\n",
    "for i in sl:\n",
    "    if i.islower():\n",
    "        m += 1\n",
    "    else:\n",
    "        b += 1\n",
    "if b > m:\n",
    "    sl = sl.upper()\n",
    "elif b < m:\n",
    "    sl = sl.lower()\n",
    "else:\n",
    "    sl = sl.lower()\n",
    "print(sl)"
   ]
  },
  {
   "cell_type": "code",
   "execution_count": null,
   "metadata": {},
   "outputs": [],
   "source": [
    "st = str(input())\n",
    "(\n",
    "    print(st.upper())\n",
    "    if len([i for i in st if i.isupper()]) * 2 > len(st)\n",
    "    else print(st.lower())\n",
    ")  # если количсевто больш букв больш чем половина количества букв в слове"
   ]
  },
  {
   "cell_type": "code",
   "execution_count": null,
   "metadata": {},
   "outputs": [],
   "source": [
    "s = input()\n",
    "s = list(s)\n",
    "thg = 0  # счет больш\n",
    "hoa = 0  # счет мал\n",
    "for i in range(len(s)):\n",
    "    if s[i].islower():\n",
    "        thg += 1\n",
    "    if s[i].isupper():\n",
    "        hoa += 1\n",
    "if thg >= hoa:\n",
    "    for i in range(len(s)):\n",
    "        if s[i].isupper():\n",
    "            s[i] = s[i].lower()  # замена по отдел кажд б на больш если она мал\n",
    "if thg < hoa:\n",
    "    for i in range(len(s)):\n",
    "        if s[i].islower():\n",
    "            s[i] = s[i].upper()\n",
    "\n",
    "print(\"\".join(s))"
   ]
  },
  {
   "cell_type": "markdown",
   "metadata": {},
   "source": [
    "# Неправильное вычитание\n",
    "https://codeforces.com/problemset/problem/977/A"
   ]
  },
  {
   "cell_type": "code",
   "execution_count": null,
   "metadata": {},
   "outputs": [],
   "source": [
    "k, n = map(int, input().split())\n",
    "for i in range(n):  # колич итерац сколько раз нужно произвести вычет\n",
    "    if k % 10 != 0:  # если полсед цифра не 0\n",
    "        k -= 1  # вычет\n",
    "    else:\n",
    "        k //= 10  # иначе убираем эту цифру\n",
    "print(k)"
   ]
  },
  {
   "cell_type": "code",
   "execution_count": null,
   "metadata": {},
   "outputs": [],
   "source": [
    "n, k = map(int, input().split())\n",
    "for i in [0] * k:\n",
    "    n = [n // 10, n - 1][\n",
    "        n % 10 > 0\n",
    "    ]  # списк из действи либо убрать цифр, либо вычесть, зависит от того есть ли в конц числ 0\n",
    "print(n)"
   ]
  },
  {
   "cell_type": "code",
   "execution_count": null,
   "metadata": {},
   "outputs": [],
   "source": [
    "a, b = [int(i) for i in input().split()]\n",
    "for i in range(b):\n",
    "    if a % 10 == 0:\n",
    "        a /= 10\n",
    "    else:\n",
    "        a -= 1\n",
    "print(int(a))"
   ]
  },
  {
   "cell_type": "markdown",
   "metadata": {},
   "source": [
    "# Почти счастливое число\n",
    "https://codeforces.com/problemset/problem/110/A"
   ]
  },
  {
   "cell_type": "code",
   "execution_count": null,
   "metadata": {},
   "outputs": [],
   "source": [
    "n = input()\n",
    "print(\n",
    "    (\"NO\", \"YES\")[n.count(\"4\") + n.count(\"7\") == 4 or n.count(\"4\") + n.count(\"7\") == 7]\n",
    ")  # подсчит кол хорош чисел"
   ]
  },
  {
   "cell_type": "code",
   "execution_count": null,
   "metadata": {},
   "outputs": [],
   "source": [
    "print(\n",
    "    \"NYOE S\"[sum(i in \"47\" for i in input()) in (4, 7) :: 2]\n",
    ")  # пробег по стр если кажд ц есть в стр 47 то склад 1 если не то 0. Потом если сумма есть в кортеже 4 и 7 то выводим да нет из превед строки с шагом 2 чтобы получалось да или нет"
   ]
  },
  {
   "cell_type": "code",
   "execution_count": null,
   "metadata": {},
   "outputs": [],
   "source": [
    "n, cnt = input(), 0\n",
    "for i in n:\n",
    "    if i == \"7\" or i == \"4\":\n",
    "        cnt += 1\n",
    "if cnt == 7 or cnt == 4:\n",
    "    print(\"YES\")\n",
    "else:\n",
    "    print(\"NO\")а"
   ]
  },
  {
   "cell_type": "markdown",
   "metadata": {},
   "source": [
    "# Антон и Даник\n",
    "https://codeforces.com/problemset/problem/734/A"
   ]
  },
  {
   "cell_type": "code",
   "execution_count": null,
   "metadata": {},
   "outputs": [],
   "source": [
    "n = input()\n",
    "sl = input()\n",
    "ca = sl.count(\"A\")  # cчет А\n",
    "cb = sl.count(\"D\")  # Счет Д\n",
    "if ca != cb:\n",
    "    print((\"Anton\", \"Danik\")[cb > ca])\n",
    "else:\n",
    "    print(\"Friendship\")"
   ]
  },
  {
   "cell_type": "markdown",
   "metadata": {},
   "source": [
    "# Футбол\n",
    "https://codeforces.com/problemset/problem/96/A"
   ]
  },
  {
   "cell_type": "code",
   "execution_count": null,
   "metadata": {},
   "outputs": [],
   "source": [
    "sl = input()\n",
    "fl = False  # флаг\n",
    "c = 1  # счет одинак цифр\n",
    "for i in range(len(sl) - 1):\n",
    "    if sl[i] == sl[i + 1]:  # если две рядомстоящ =\n",
    "        c += 1\n",
    "    else:  # если одинак числ прерываютс\n",
    "        c = 1\n",
    "    if c == 7:  # если счет дошел до 7\n",
    "        fl = True\n",
    "        break\n",
    "print((\"NO\", \"YES\")[fl])"
   ]
  },
  {
   "cell_type": "code",
   "execution_count": null,
   "metadata": {},
   "outputs": [],
   "source": [
    "s = input()\n",
    "print(\n",
    "    [\"NO\", \"YES\"][7 * \"1\" in s or 7 * \"0\" in s]\n",
    ")  # если строк из 7 1 или 0 есть в строке то да или нет"
   ]
  },
  {
   "cell_type": "code",
   "execution_count": null,
   "metadata": {},
   "outputs": [],
   "source": [
    "n = input()\n",
    "if \"0000000\" in n:\n",
    "    print(\"YES\")\n",
    "elif \"1111111\" in n:\n",
    "    print(\"YES\")\n",
    "else:\n",
    "    print(\"NO\")"
   ]
  },
  {
   "cell_type": "markdown",
   "metadata": {},
   "source": [
    "#  Близнецы\n",
    "https://codeforces.com/problemset/problem/160/A"
   ]
  },
  {
   "cell_type": "code",
   "execution_count": null,
   "metadata": {},
   "outputs": [],
   "source": [
    "n = input()\n",
    "sp = list(map(int, input().split()))\n",
    "sp = sorted(\n",
    "    sp, reverse=True\n",
    ")  # сорт строку от больш, т.к при склад наибольш чиссел получится наименьше их количество\n",
    "c = 0\n",
    "for i in range(len(sp)):  # пробеш по смиску чисео\n",
    "    if sum(sp[:i]) <= sum(\n",
    "        sp[i:]\n",
    "    ):  # если сумма до меньше сумме после этого числа то прибавл +1 к количесветву\n",
    "        c += 1\n",
    "    else:  # если нет то прекрашаем, т.к. нашли нужное количество\n",
    "        break\n",
    "print(c)"
   ]
  },
  {
   "cell_type": "code",
   "execution_count": null,
   "metadata": {},
   "outputs": [],
   "source": [
    "input()\n",
    "a = sorted(map(int, input().split()))\n",
    "s = c = 0\n",
    "while s <= sum(a):\n",
    "    s += a.pop()\n",
    "    c += 1  # пока сум меньш сум ост числе в списке добавл к с это число и удаляем его и прибавл к количеств с +1\n",
    "print(c)"
   ]
  },
  {
   "cell_type": "code",
   "execution_count": null,
   "metadata": {},
   "outputs": [],
   "source": [
    "n = int(input())\n",
    "a = [int(x) for x in input().split()]\n",
    "\n",
    "a = sorted(a, reverse=True)\n",
    "\n",
    "sumn = sum(a)\n",
    "c = 0\n",
    "s = 0\n",
    "for i in a:\n",
    "    if s > sumn / 2:\n",
    "        break\n",
    "    else:\n",
    "        s += i\n",
    "        c += 1\n",
    "print(c)"
   ]
  },
  {
   "cell_type": "markdown",
   "metadata": {},
   "source": [
    "# Чет и нечет\n",
    "https://codeforces.com/problemset/problem/318/A"
   ]
  },
  {
   "cell_type": "code",
   "execution_count": null,
   "metadata": {},
   "outputs": [],
   "source": [
    "from math import ceil\n",
    "\n",
    "n, k = map(int, input().split())\n",
    "if (\n",
    "    n % 2 == 0\n",
    "):  # проверяем на четность длину масива чисел т.к. от этого щавист сколько в нем четных и нечет\n",
    "    if (\n",
    "        k < (n // 2) + 1\n",
    "    ):  # если индекс числак от нужно найти наход в первой половинне множ, то оно будет нечтн\n",
    "        c = k + (k - 1)  # и будет равняться индексу + предыдущ индексу\n",
    "    else:  # если индекс во втророй половине\n",
    "        v = k - (\n",
    "            n // 2\n",
    "        )  # находим индекс четных как бы начиная с 1 вычитая из нужного индекс половину длины массива, то есть длину нечетных\n",
    "        c = v + (v - 1) + 1  # и тогда нужное число будет найдено также как и первое\n",
    "else:  # аналогтчно с нечетной длиной\n",
    "    dl = ceil(n / 2)\n",
    "    if k < dl + 1:\n",
    "        c = k + (k - 1)\n",
    "    else:\n",
    "        v = k - dl\n",
    "        c = v + (v - 1) + 1\n",
    "print(c)"
   ]
  },
  {
   "cell_type": "code",
   "execution_count": null,
   "metadata": {},
   "outputs": [],
   "source": [
    "n, k = map(int, input().split())\n",
    "t = (n + 1) // 2\n",
    "print(\n",
    "    2 * k - [1, 2 * t][k > t]\n",
    ")  # провер где наход индекс, слева или мправа от половины и от этого находим само число"
   ]
  },
  {
   "cell_type": "code",
   "execution_count": null,
   "metadata": {},
   "outputs": [],
   "source": [
    "inputFromUser = list(map(int, input().split()))\n",
    "maxNumber = inputFromUser[0]\n",
    "n = inputFromUser[1]\n",
    "number = 0\n",
    "if maxNumber % 2 == 0:\n",
    "    if n <= maxNumber // 2:\n",
    "        number = 2 * n - 1\n",
    "    else:\n",
    "        number = 2 * n - maxNumber\n",
    "else:\n",
    "    if n <= (maxNumber - (maxNumber // 2)):\n",
    "        number = 2 * n - 1\n",
    "    else:\n",
    "        number = 2 * n - maxNumber - 1\n",
    "print(number)"
   ]
  },
  {
   "cell_type": "markdown",
   "metadata": {},
   "source": [
    "# HQ9+\n",
    "https://codeforces.com/problemset/problem/133/A"
   ]
  },
  {
   "cell_type": "code",
   "execution_count": null,
   "metadata": {},
   "outputs": [],
   "source": [
    "pr = \"HQ9\"\n",
    "sl = input()\n",
    "fl = False\n",
    "for i in pr:  # проход по буквам прогр\n",
    "    if i in sl:  # если хоть одна есть в введен сл\n",
    "        fl = True  # меняев флаг и ост\n",
    "        break\n",
    "print((\"NO\", \"YES\")[fl])"
   ]
  },
  {
   "cell_type": "code",
   "execution_count": null,
   "metadata": {},
   "outputs": [],
   "source": [
    "print(\n",
    "    set(\"HQ9\") & set(input()) and \"YES\" or \"NO\"\n",
    ")  # проверка на то что есть ли одинак эл в двух множ"
   ]
  },
  {
   "cell_type": "code",
   "execution_count": null,
   "metadata": {},
   "outputs": [],
   "source": [
    "a = [\"H\", \"Q\", \"9\"]\n",
    "s, flag = input(), True\n",
    "for i in a:а\n",
    "    if i in s:\n",
    "        flag = False\n",
    "if not flag:\n",
    "    print(\"YES\")\n",
    "else:\n",
    "    print(\"NO\")"
   ]
  },
  {
   "cell_type": "markdown",
   "metadata": {},
   "source": [
    "# Переключение гравитации\n",
    "https://codeforces.com/problemset/problem/405/A"
   ]
  },
  {
   "cell_type": "code",
   "execution_count": null,
   "metadata": {},
   "outputs": [],
   "source": [
    "n = input()\n",
    "print(*sorted(input().split(), key=int))  # сортируем кубики по значен"
   ]
  },
  {
   "cell_type": "markdown",
   "metadata": {},
   "source": [
    "# Кефа и первые шаги\n",
    "https://codeforces.com/problemset/problem/580/A"
   ]
  },
  {
   "cell_type": "code",
   "execution_count": null,
   "metadata": {},
   "outputs": [],
   "source": [
    "n = input()\n",
    "sp = list(map(int, input().split()))\n",
    "sp1 = []  # спис длин непр уыелич цифр\n",
    "c = 1  # посчет длин\n",
    "for i in range(1, len(sp)):\n",
    "    if sp[i] >= sp[i - 1]:  # если числ больш и р предыдущ\n",
    "        c += 1  # прибавл 1 к длин\n",
    "    else:  # если не так\n",
    "        sp1.append(c)  # добавл эту длину в спис всех таких длин\n",
    "        c = 1  # и \"обнул\" cчет\n",
    "sp1.append(c)  # все равно добавл в спис ллину\n",
    "print(max(sp1))  # наход максимальн длину"
   ]
  },
  {
   "cell_type": "code",
   "execution_count": null,
   "metadata": {},
   "outputs": [],
   "source": [
    "input()\n",
    "c = m = s = 0\n",
    "for i in map(int, input().split()):\n",
    "    c = [c + 1, 1][i < s]\n",
    "    m = max(m, c)\n",
    "    s = i\n",
    "print(m)"
   ]
  },
  {
   "cell_type": "markdown",
   "metadata": {},
   "source": [
    "# Дабстеп\n",
    "https://codeforces.com/problemset/problem/208/A"
   ]
  },
  {
   "cell_type": "code",
   "execution_count": null,
   "metadata": {},
   "outputs": [],
   "source": [
    "print(*input().split(\"WUB\"))  # раздел сплитом и сразу раскрываем спис"
   ]
  },
  {
   "cell_type": "markdown",
   "metadata": {},
   "source": [
    "# Илья и банковский счет\n",
    "https://codeforces.com/problemset/problem/313/A"
   ]
  },
  {
   "cell_type": "code",
   "execution_count": null,
   "metadata": {},
   "outputs": [],
   "source": [
    "n = int(input())\n",
    "sp = []\n",
    "sp.append(n)\n",
    "# срезами находим нужнае число с удлаен цифр\n",
    "sp.append(int(str(n)[:-1]))\n",
    "sp.append(int(str(n)[:-2] + str(n)[-1]))\n",
    "print(max(sp))"
   ]
  },
  {
   "cell_type": "code",
   "execution_count": null,
   "metadata": {},
   "outputs": [],
   "source": [
    "n = int(input())\n",
    "print(\n",
    "    max(n, int(n / 10), int(n / 100) * 10 - (-n) % 10)\n",
    ")  # деля 100 убер 2 послед цифры, и добавл к ней умн на 10 остаток от начальн делен на 10"
   ]
  },
  {
   "cell_type": "code",
   "execution_count": null,
   "metadata": {},
   "outputs": [],
   "source": [
    "n = input()\n",
    "mx = max(int(n), int(n[:-1]))\n",
    "print(max(mx, int(n[:-2] + n[-1:])))  # срезами"
   ]
  },
  {
   "cell_type": "markdown",
   "metadata": {},
   "source": [
    "# B. Распродажа\n",
    "https://codeforces.com/problemset/problem/34/B"
   ]
  },
  {
   "cell_type": "code",
   "execution_count": null,
   "metadata": {},
   "outputs": [],
   "source": [
    "n, m = map(int, input().split())\n",
    "sp = list(map(int, input().split()))\n",
    "sp = sorted(sp)\n",
    "mx = sp[0]  # делаем макс зар из мин числа\n",
    "for i in range(m):\n",
    "    mx = min(mx, sum(sp[:i]))  # наход минимальн по срезам\n",
    "print(abs(mx))"
   ]
  },
  {
   "cell_type": "code",
   "execution_count": null,
   "metadata": {},
   "outputs": [],
   "source": [
    "n, m = map(int, input().split(\" \"))\n",
    "a = [int(i) for i in input().split(\" \")]\n",
    "a.sort()\n",
    "ans = 0\n",
    "for i in range(m):  # цикл по кол-ву макс тел\n",
    "    if ans + a[i] < ans:  # если к мин прибавл отриц  и оно будет меньш\n",
    "        ans += a[i]  # то так и делаем\n",
    "    else:\n",
    "        break\n",
    "print(ans * -1)"
   ]
  },
  {
   "cell_type": "code",
   "execution_count": null,
   "metadata": {},
   "outputs": [],
   "source": [
    "n, m = map(int, input().split())\n",
    "l = [*map(int, input().split())]\n",
    "l.sort()\n",
    "s = 0\n",
    "i = 0\n",
    "while i < m and i < n and l[i] < 0:\n",
    "    s += l[i]\n",
    "    i += 1\n",
    "print(s * (-1))"
   ]
  },
  {
   "cell_type": "markdown",
   "metadata": {},
   "source": [
    "# B. Умножай на 2, дели на 6\n",
    "https://codeforces.com/problemset/problem/1374/B"
   ]
  },
  {
   "cell_type": "code",
   "execution_count": null,
   "metadata": {},
   "outputs": [],
   "source": [
    "for i in range(int(input())):\n",
    "    n = int(input())\n",
    "    c = 0  # счет шаг\n",
    "    while n != 1:\n",
    "        if n % 3 != 0:  # если числ не дел на, знач оно никогда не подел на 6 без ост\n",
    "            print(-1)\n",
    "            break\n",
    "        elif n % 6 != 0:  # если не дел на 6 без ост но на 3\n",
    "            n *= 2  # умн его на 2\n",
    "            c += 1\n",
    "        else:  # если дел 6\n",
    "            n //= 6  # делим\n",
    "            c += 1\n",
    "    else:\n",
    "        print(c)"
   ]
  },
  {
   "cell_type": "code",
   "execution_count": null,
   "metadata": {},
   "outputs": [],
   "source": [
    "t = int(input())\n",
    "ns = []\n",
    "for _ in range(t):\n",
    "    ns.append(int(input()))\n",
    "\n",
    "\n",
    "def func(n):\n",
    "    san = 0\n",
    "    er = 0\n",
    "    while n % 2 == 0:\n",
    "        er += 1\n",
    "        n = n // 2\n",
    "    while n % 3 == 0:\n",
    "        san += 1\n",
    "        n = n // 3\n",
    "    if n != 1:\n",
    "        return -1\n",
    "    if er > san:\n",
    "        return -1\n",
    "    else:\n",
    "        return san + (san - er)\n",
    "\n",
    "\n",
    "for n in ns:\n",
    "    print(func(n))"
   ]
  },
  {
   "cell_type": "code",
   "execution_count": null,
   "metadata": {},
   "outputs": [],
   "source": [
    "t = int(input())\n",
    "while t:\n",
    "    n = int(input())\n",
    "    x = 10000000000000\n",
    "    count = 0\n",
    "    if n == 1:\n",
    "        print(\"0\")\n",
    "    else:\n",
    "        f = 0\n",
    "        while n != 1 and n <= x:\n",
    "            if n % 6 == 0:\n",
    "                count += 1\n",
    "                n = n // 6\n",
    "                f = 1\n",
    "                # print(\" n/6 = \",n)\n",
    "            else:\n",
    "                n = n * 2\n",
    "                count += 1\n",
    "                f = 0\n",
    "                # print(\" nX2 = \",n)\n",
    "        if f == 1:\n",
    "            print(count)\n",
    "        else:\n",
    "            print(\"-1\")\n",
    "    t = t - 1"
   ]
  },
  {
   "cell_type": "markdown",
   "metadata": {},
   "source": [
    "# A. Вася и носки\n",
    "https://codeforces.com/problemset/problem/460/A"
   ]
  },
  {
   "cell_type": "code",
   "execution_count": null,
   "metadata": {},
   "outputs": [],
   "source": [
    "n, m = map(int, input().split())\n",
    "i = 0\n",
    "while n != 0:  # пока носки не закончились\n",
    "    n -= 1  # вычит из них 1\n",
    "    i += 1  # прибавл к дню 1\n",
    "    if i % m == 0:  # ели это день покупки\n",
    "        n += 1  # прибавл к кол носк 1\n",
    "print(i)"
   ]
  },
  {
   "cell_type": "code",
   "execution_count": null,
   "metadata": {},
   "outputs": [],
   "source": [
    "a, b = map(int, input().split())\n",
    "print(\n",
    "    (a - 1) // (b - 1) + a\n",
    ")  # к колич носк прибавл количество дней сколько раз они будут прибавл"
   ]
  },
  {
   "cell_type": "code",
   "execution_count": null,
   "metadata": {},
   "outputs": [],
   "source": [
    "n, m = map(int, input().split())\n",
    "for i in range(1, n + 1):\n",
    "    d = m * i\n",
    "    n = n + 1\n",
    "    if d >= n:\n",
    "        print(n - 1)\n",
    "        break"
   ]
  },
  {
   "cell_type": "markdown",
   "metadata": {},
   "source": [
    "# A. Клавиатура\n",
    "https://codeforces.com/problemset/problem/474/A"
   ]
  },
  {
   "cell_type": "code",
   "execution_count": null,
   "metadata": {},
   "outputs": [],
   "source": [
    "n = {\"R\": -1, \"L\": 1}[\n",
    "    input()\n",
    "]  # если сдвг вправо, то до нач поряд нужн свд на -1, если налево то на +1\n",
    "st = input()\n",
    "sp = list(\"qwertyuiopasdfghjkl;zxcvbnm,./\")\n",
    "nv = \"\"\n",
    "for i in range(len(st)):\n",
    "    nv += sp[sp.index(st[i]) + n]\n",
    "print(nv)"
   ]
  },
  {
   "cell_type": "code",
   "execution_count": null,
   "metadata": {},
   "outputs": [],
   "source": [
    "s = input()\n",
    "a = \"qwertyuiopasdfghjkl;zxcvbnm,./\"\n",
    "for l in input():\n",
    "    print(a[a.index(l) + [1, -1][s == \"R\"]], end=\"\")"
   ]
  },
  {
   "cell_type": "markdown",
   "metadata": {},
   "source": [
    "# B. Ваня и фонари\n",
    "https://codeforces.com/problemset/problem/492/B"
   ]
  },
  {
   "cell_type": "code",
   "execution_count": null,
   "metadata": {},
   "outputs": [],
   "source": [
    "sl = input()\n",
    "if len(sl) > 1:\n",
    "    if (\n",
    "        sl[0].islower() and sl[1:].isupper()\n",
    "    ) or sl.isupper():  # если слово не одна буква проверка на усл задачи\n",
    "        print(sl.swapcase())\n",
    "    else:\n",
    "        print(sl)\n",
    "else:\n",
    "    if sl[0].islower() or sl.isupper():  # если 1 буква, то другая проверка\n",
    "        print(sl.swapcase())\n",
    "    else:\n",
    "        (print(sl))"
   ]
  },
  {
   "cell_type": "code",
   "execution_count": null,
   "metadata": {},
   "outputs": [],
   "source": [
    "n = input()\n",
    "print(\n",
    "    [n, n.swapcase()][n[1:].upper() == n[1:]]\n",
    ")  # меняет регистр если все кроме 1 букы и так в верхн регситре"
   ]
  },
  {
   "cell_type": "code",
   "execution_count": null,
   "metadata": {},
   "outputs": [],
   "source": [
    "if t.isupper() == True:\n",
    "    print(t.lower())\n",
    "else:\n",
    "    if t[0].islower() == True and t[1::].isupper() == True:\n",
    "        print(t[0].upper() + t[1::].lower())\n",
    "    elif len(t) == 1:\n",
    "        print(t.upper())\n",
    "    else:\n",
    "        print(t)"
   ]
  },
  {
   "cell_type": "markdown",
   "metadata": {},
   "source": [
    "# B. Построить строку\n",
    "https://codeforces.com/problemset/problem/1335/B"
   ]
  },
  {
   "cell_type": "code",
   "execution_count": 1,
   "metadata": {},
   "outputs": [
    {
     "ename": "ValueError",
     "evalue": "not enough values to unpack (expected 3, got 1)",
     "output_type": "error",
     "traceback": [
      "\u001b[1;31m---------------------------------------------------------------------------\u001b[0m",
      "\u001b[1;31mValueError\u001b[0m                                Traceback (most recent call last)",
      "Cell \u001b[1;32mIn[1], line 2\u001b[0m\n\u001b[0;32m      1\u001b[0m \u001b[38;5;28;01mfor\u001b[39;00m _ \u001b[38;5;129;01min\u001b[39;00m \u001b[38;5;28mrange\u001b[39m(\u001b[38;5;28mint\u001b[39m(\u001b[38;5;28minput\u001b[39m())):\n\u001b[1;32m----> 2\u001b[0m     n, a, b \u001b[38;5;241m=\u001b[39m \u001b[38;5;28mmap\u001b[39m(\u001b[38;5;28mint\u001b[39m, \u001b[38;5;28minput\u001b[39m()\u001b[38;5;241m.\u001b[39msplit())\n\u001b[0;32m      3\u001b[0m     c \u001b[38;5;241m=\u001b[39m \u001b[38;5;241m97\u001b[39m  \u001b[38;5;66;03m# код буквы а, с нее начинаем\u001b[39;00m\n\u001b[0;32m      4\u001b[0m     \u001b[38;5;28;01mfor\u001b[39;00m i \u001b[38;5;129;01min\u001b[39;00m \u001b[38;5;28mrange\u001b[39m(n):  \u001b[38;5;66;03m# пробегаемся по всей длине\u001b[39;00m\n",
      "\u001b[1;31mValueError\u001b[0m: not enough values to unpack (expected 3, got 1)"
     ]
    }
   ],
   "source": [
    "for _ in range(int(input())):\n",
    "    n, a, b = map(int, input().split())\n",
    "    c = 97  # код буквы а, с нее начинаем\n",
    "    for i in range(n):  # пробегаемся по всей длине\n",
    "        print(\n",
    "            chr(c + i % b), end=\"\"\n",
    "        )  # принтуем букву с кодом числа индекса ост от дел на нужное кол различн букв в подсроке\n",
    "    print()"
   ]
  }
 ],
 "metadata": {
  "kernelspec": {
   "display_name": "base",
   "language": "python",
   "name": "python3"
  },
  "language_info": {
   "codemirror_mode": {
    "name": "ipython",
    "version": 3
   },
   "file_extension": ".py",
   "mimetype": "text/x-python",
   "name": "python",
   "nbconvert_exporter": "python",
   "pygments_lexer": "ipython3",
   "version": "3.11.5"
  }
 },
 "nbformat": 4,
 "nbformat_minor": 2
}
