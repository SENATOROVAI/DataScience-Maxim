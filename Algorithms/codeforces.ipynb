{
 "cells": [
  {
   "cell_type": "markdown",
   "metadata": {},
   "source": [
    "# Квадрат\n",
    "https://codeforces.com/problemset/problem/1921/A \n",
    "Есть множество способов решить эту задачу, самый простой способ такой. Найдем минимальную и максимальную координату x среди всех углов квадрата. Разность этих координат даст нам длину стороны квадрата d=xmax−xmin. После этого можно посчитать площадь квадрата как s=d2."
   ]
  },
  {
   "cell_type": "code",
   "execution_count": null,
   "metadata": {},
   "outputs": [],
   "source": [
    "for _ in range(int(input())):\n",
    "    l = [\n",
    "        list(map(int, input().split())) for i in range(4)\n",
    "    ]  # создание списка списковкординат x y\n",
    "    a = set()\n",
    "    b = set()\n",
    "    for i in l:  # перебор кардинат и добавление и в множество a и b\n",
    "        a.add(i[0])\n",
    "        b.add(i[1])\n",
    "    a = list(a)\n",
    "    b = list(b)\n",
    "    print(\n",
    "        abs(a[0] - a[1]) * abs(b[0] - b[1])\n",
    "    )  # вычисление по разности кординат a и b длину стороны а по ней площадь кв"
   ]
  },
  {
   "cell_type": "code",
   "execution_count": null,
   "metadata": {},
   "outputs": [],
   "source": [
    "t = int(input())\n",
    "for _ in range(t):\n",
    "    a = [\n",
    "        [int(x) for x in input().split()] for i in range(4)\n",
    "    ]  # создание списка списковкординат x y\n",
    "    x = [p[0] for p in a]\n",
    "    dx = max(x) - min(\n",
    "        x\n",
    "    )  # минимальную и максимальную координату x среди всех углов квадрата.\n",
    "    print(dx * dx)"
   ]
  },
  {
   "cell_type": "code",
   "execution_count": null,
   "metadata": {},
   "outputs": [],
   "source": [
    "for _ in range(int(input())):\n",
    "    a = []\n",
    "    a.append(list(map(int, input().split())))\n",
    "    a.append(list(map(int, input().split())))\n",
    "    a.append(list(map(int, input().split())))\n",
    "    a.append(list(map(int, input().split())))\n",
    "    min_x = 1001\n",
    "    max_x = -1001\n",
    "    min_y = 1001\n",
    "    max_y = -1001\n",
    "    for i in a:\n",
    "        min_x = min(min_x, i[0])\n",
    "        max_x = max(max_x, i[0])\n",
    "        min_y = min(min_y, i[1])\n",
    "        max_y = max(max_y, i[1])\n",
    "    print((abs(max_x - min_x)) * (abs(max_y - min_y)))"
   ]
  },
  {
   "cell_type": "markdown",
   "metadata": {},
   "source": [
    "#  Обмен и удаление\n",
    "https://codeforces.com/contest/1913/problem/B"
   ]
  },
  {
   "cell_type": "code",
   "execution_count": null,
   "metadata": {},
   "outputs": [],
   "source": [
    "for _ in range(int(input())):\n",
    "    s = input()\n",
    "    cnt = [0, 0]\n",
    "    for i in range(len(s)): # подсчет 0 и 1 \n",
    "        cnt[int(s[i])] += 1\n",
    "    for i in range(len(s) + 1):\n",
    "        if i == len(s) or cnt[1 - int(s[i])] == 0:\n",
    "            print(len(s) - i)\n",
    "            break\n",
    "        cnt[1 - int(s[i])] -= 1"
   ]
  },
  {
   "cell_type": "markdown",
   "metadata": {},
   "source": [
    "# Выполнение условий\n",
    "https://codeforces.com/problemset/problem/1920/A"
   ]
  },
  {
   "cell_type": "code",
   "execution_count": null,
   "metadata": {},
   "outputs": [],
   "source": [
    "for _ in range(int(input())):\n",
    "    n = int(input())\n",
    "    mx = 10**10\n",
    "    mn = 0\n",
    "    s = set()\n",
    "    for _ in range(n):  # ограничения с условиями\n",
    "        a, k = list(map(int, input().split()))  # какое усл и его огр\n",
    "        if a == 1:\n",
    "            mn = max(mn, k)  # находим верхний предел\n",
    "        elif a == 2:\n",
    "            mx = min(mx, k)  # нижний\n",
    "        else:\n",
    "            s.add(k)  # 3 условие\n",
    "    cnt = 0\n",
    "\n",
    "    for i in s:\n",
    "        if mn <= i <= mx:  # проверка 3 на вхождение 1 и 2\n",
    "            cnt += 1\n",
    "\n",
    "    print(max(0, mx - mn + 1 - cnt))  # вычисление количества"
   ]
  },
  {
   "cell_type": "code",
   "execution_count": null,
   "metadata": {},
   "outputs": [],
   "source": [
    "import bisect\n",
    "\n",
    "for _ in range(int(input())):\n",
    "    n = int(input())\n",
    "    g = []\n",
    "    l = []\n",
    "    e = []\n",
    "    for i in range(n):  # ограничения с условиями\n",
    "        a = list(map(int, input().split()))\n",
    "        if a[0] == 1:\n",
    "            g.append(a[1])\n",
    "        elif a[0] == 2:\n",
    "            l.append(a[1])\n",
    "        else:\n",
    "            e.append(a[1])\n",
    "    n1 = max(g)\n",
    "    n2 = min(l)\n",
    "    if n1 > n2:\n",
    "        print(0)  # если макс эл меньше мин, то не под какие усл не попадает\n",
    "    else:\n",
    "        ans = n2 - n1 + 1\n",
    "        if len(e) > 0:\n",
    "            e.sort()\n",
    "            k1 = bisect.bisect_left(\n",
    "                e, n1\n",
    "            )  # находим индекс эл куда нужно вставит до в диапозон эл с 3 усл\n",
    "            k2 = bisect.bisect_right(\n",
    "                e, n2\n",
    "            )  # находим индекс эл куда нужно вставит после в диапозон эл с 3 усл\n",
    "            ans -= k2 - k1\n",
    "        print(ans)"
   ]
  },
  {
   "cell_type": "markdown",
   "metadata": {},
   "source": [
    "# Слишком длинные слова\n",
    "https://codeforces.com/problemset/problem/71/A"
   ]
  },
  {
   "cell_type": "code",
   "execution_count": null,
   "metadata": {},
   "outputs": [],
   "source": [
    "for i in range(int(input())):\n",
    "\tw = input()\n",
    "\tprint(w if len(w) < 11 else w[0]+str(len(w)-2)+w[-1]) # Проверяем на длину, если привышает, то складываем 1 и посл буквы с длиной - эти 2 буквы"
   ]
  },
  {
   "cell_type": "code",
   "execution_count": null,
   "metadata": {},
   "outputs": [],
   "source": [
    "quantity = int(input())\n",
    "i = 0\n",
    "word_list = []\n",
    "while i < quantity:\n",
    "    word_list.append(input())\n",
    "    i += 1\n",
    "def create_abbrev(list_of_words): # создаем функц для выводы сокращения\n",
    "    for any_word in list_of_words:\n",
    "        if len(any_word) > 10:\n",
    "            abb = any_word[0] + str((len(any_word) - 2)) + any_word[len(any_word)-1]\n",
    "            print(abb)\n",
    "        else:\n",
    "            print(any_word)"
   ]
  },
  {
   "cell_type": "code",
   "execution_count": null,
   "metadata": {},
   "outputs": [],
   "source": [
    "length = int(input())\n",
    "wordList = []\n",
    "for i in range(length):\n",
    "    wordList.append(str(input()))\n",
    " \n",
    "for word in wordList:\n",
    "    if len(word) > 10: print(f\"{word[0]}{len(word) - 2}{word[-1]}\")\n",
    "    else: print(word)"
   ]
  },
  {
   "cell_type": "markdown",
   "metadata": {},
   "source": [
    "# Команда\n",
    "https://codeforces.com/problemset/problem/231/A"
   ]
  },
  {
   "cell_type": "code",
   "execution_count": null,
   "metadata": {},
   "outputs": [],
   "source": [
    "cnt = 0\n",
    "for _ in range(int(input())): # считываем количество итераций \n",
    "    cnt += input().count('1') >= 2 # подсчет едениц в строке если их 2 или более то в счетчик добавляем что эту здачу буду решать\n",
    "print(f\"{cnt}\")\n"
   ]
  },
  {
   "cell_type": "code",
   "execution_count": null,
   "metadata": {},
   "outputs": [],
   "source": [
    "def main():\n",
    "    num_programs = int(input()) # количество зад\n",
    " \n",
    "    solvable_programs = 0\n",
    " \n",
    "    for _ in range(num_programs):\n",
    "        tally = 0 # счетчик вхождений 1 в списке\n",
    " \n",
    "        friend_answers = list(map(int, input().split())) # создание из ответов списка чисел\n",
    " \n",
    "        for i in range(len(friend_answers)): # пробегаемся по длине списка\n",
    "            if friend_answers[i] == 1: # если 1 добавля +1\n",
    "                tally += 1\n",
    " \n",
    "        if (tally > len(friend_answers) // 2): # если > 1 счет то доюавля +1 к реш задачам \n",
    "            solvable_programs += 1\n",
    " \n",
    "    print(solvable_programs)"
   ]
  },
  {
   "cell_type": "code",
   "execution_count": null,
   "metadata": {},
   "outputs": [],
   "source": [
    "answer = 0\n",
    "problems = int(input())\n",
    "for i in range(problems):\n",
    "  sure = input() # \"1 0 1\"\n",
    "  ones = sure.count(\"1\")\n",
    "  if ones >= 2:\n",
    "    answer = answer + 1 \n",
    " \n",
    "print(answer) "
   ]
  },
  {
   "cell_type": "markdown",
   "metadata": {},
   "source": [
    "# Следующий раунд\n",
    "https://codeforces.com/problemset/problem/158/A"
   ]
  },
  {
   "cell_type": "code",
   "execution_count": null,
   "metadata": {},
   "outputs": [],
   "source": [
    "n_k = [int(k) for k in input().split()]\n",
    "contestants = [int(k) for k in input().split()]\n",
    "num = contestants[n_k[1]-1]\n",
    "i=0\n",
    "for j in range(n_k[0]):\n",
    "    if contestants[j]>=num and contestants[j]!= 0:\n",
    "        i+= 1\n",
    "print(i)"
   ]
  },
  {
   "cell_type": "markdown",
   "metadata": {},
   "source": [
    "# Bit++\n",
    "https://codeforces.com/problemset/problem/282/A"
   ]
  },
  {
   "cell_type": "code",
   "execution_count": null,
   "metadata": {},
   "outputs": [],
   "source": [
    "x=0\n",
    "for _ in range(int(input())):\n",
    "    x = x+1 if '+' in input() else x - 1 # если есть + приб , если - то убавл\n",
    "print(x)"
   ]
  },
  {
   "cell_type": "code",
   "execution_count": null,
   "metadata": {},
   "outputs": [],
   "source": [
    "x = 0\n",
    "for i in range(int(input())):\n",
    "    s = input()\n",
    "    x += s.count('++') # приб количество ++\n",
    "    x -= s.count('--') # приб количество --\n",
    "print(x)"
   ]
  },
  {
   "cell_type": "markdown",
   "metadata": {},
   "source": [
    "# Укладка доминошками\n",
    "https://codeforces.com/problemset/problem/50/A"
   ]
  },
  {
   "cell_type": "code",
   "execution_count": null,
   "metadata": {},
   "outputs": [],
   "source": [
    "print(eval(input().replace(' ','*'))//2) # выводим вычисление выражение умнажения двух цифр меняя пробел на *, и сразу делем без остатка на 2"
   ]
  },
  {
   "cell_type": "code",
   "execution_count": null,
   "metadata": {},
   "outputs": [],
   "source": [
    "from collections import defaultdict\n",
    " \n",
    "def pug_func(s: str) -> int: # создаем функцию\n",
    " \n",
    "    m, n = s.split(\" \") # разделяе мперемнные\n",
    "    m = int(m)\n",
    "    n = int(n)\n",
    " \n",
    "    if (m * n) % 2 == 0: # если чет\n",
    "        return (m * n) // 2 \n",
    "    else:\n",
    "        return ((m * n) - 1) // 2"
   ]
  },
  {
   "cell_type": "code",
   "execution_count": null,
   "metadata": {},
   "outputs": [],
   "source": [
    "m, n = map(int, input().split())\n",
    "if m % 2 != 0 and n % 2 != 0:\n",
    "    print((m * n - 1) // 2)\n",
    "else:\n",
    "    print(m * n // 2)"
   ]
  },
  {
   "cell_type": "markdown",
   "metadata": {},
   "source": [
    "# Красивая матрица\n",
    "https://codeforces.com/problemset/problem/263/A"
   ]
  },
  {
   "cell_type": "code",
   "execution_count": null,
   "metadata": {},
   "outputs": [],
   "source": [
    "sp = [input().split() for i in range(5)] # считываем матрицу\n",
    "x = 1 # нач корд \n",
    "y = 1\n",
    "for i in range(len(sp)): # ищем 1\n",
    "    if '1' in sp[i]: # как нашли прибавл корд 1\n",
    "        y += i\n",
    "        x += sp[i].index('1')\n",
    "        break\n",
    "    \n",
    "dx = abs(3 - x) # наход кол-ва шагов по иксу\n",
    "dy = abs(3 - y) # по y \n",
    "print(dx + dy) # сумма шагов"
   ]
  },
  {
   "cell_type": "code",
   "execution_count": null,
   "metadata": {},
   "outputs": [],
   "source": [
    "l=[2,1,0,1,2] # список из количества шагов в завис на какой стр наход 1\n",
    "for i in l:\n",
    " s=input()\n",
    " if\"1\"in s:print(i+l[s.find(\"1\")//2]) # находя 1, т.е. прибавл к количеству шагов по строке, количество шагов по стлбц"
   ]
  },
  {
   "cell_type": "code",
   "execution_count": null,
   "metadata": {},
   "outputs": [],
   "source": [
    "row_count = 0\n",
    " \n",
    "for i in range(5):\n",
    "    line = list(map(int, input().split()))\n",
    "    if 1 in line:\n",
    "        print(abs(2 - row_count) + abs(2 - line.index(1)))\n",
    "        break\n",
    "    row_count += 1"
   ]
  }
 ],
 "metadata": {
  "language_info": {
   "name": "python"
  }
 },
 "nbformat": 4,
 "nbformat_minor": 2
}
