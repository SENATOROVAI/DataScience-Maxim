{
 "cells": [
  {
   "cell_type": "markdown",
   "metadata": {},
   "source": [
    "# Число палиндрома\n",
    "https://leetcode.com/problems/palindrome-number/description/"
   ]
  },
  {
   "cell_type": "code",
   "execution_count": null,
   "metadata": {},
   "outputs": [],
   "source": [
    "class Solution:\n",
    "    def isPalindrome(self, x: int) -> bool:\n",
    "        sp = str(x)[::-1]\n",
    "        if str(x) == sp:\n",
    "            return True\n",
    "        else:\n",
    "            return False"
   ]
  },
  {
   "cell_type": "code",
   "execution_count": null,
   "metadata": {},
   "outputs": [],
   "source": [
    "class Solution:\n",
    "    def uniqueOccurrences(self, arr: list[int]) -> bool:\n",
    "        arr.sort() # сортировка массива \n",
    "        v = []\n",
    "\n",
    "        i = 0\n",
    "        while i < len(arr):\n",
    "            cnt = 1\n",
    "\n",
    "            # Пройдем по отсортированному массиву, подсчитывая вхождения каждого элемента\n",
    "            while i + 1 < len(arr) and arr[i] == arr[i + 1]:\n",
    "                cnt += 1\n",
    "                i += 1\n",
    "\n",
    "            v.append(cnt)\n",
    "            i += 1\n",
    "\n",
    "        v.sort()\n",
    "\n",
    "        for i in range(1, len(v)):\n",
    "            if v[i] == v[i - 1]:\n",
    "                return False\n",
    "\n",
    "        return True"
   ]
  },
  {
   "cell_type": "code",
   "execution_count": null,
   "metadata": {},
   "outputs": [],
   "source": [
    "class Solution:\n",
    "    def uniqueOccurrences(self, arr: list[int]) -> bool:\n",
    "        freq = {}\n",
    "        for x in arr:\n",
    "            freq[x] = freq.get(x, 0) + 1 # создаем ключи из  цифр с подсчетом количества вхождения этих цифр\n",
    "\n",
    "        return len(freq) == len(set(freq.values())) # сравниваем длину ключей с длиной множества значений ключей "
   ]
  }
 ],
 "metadata": {
  "language_info": {
   "name": "python"
  }
 },
 "nbformat": 4,
 "nbformat_minor": 2
}
