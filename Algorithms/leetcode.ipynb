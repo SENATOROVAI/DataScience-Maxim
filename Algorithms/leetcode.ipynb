{
 "cells": [
  {
   "cell_type": "markdown",
   "metadata": {},
   "source": [
    "# Число палиндрома\n",
    "https://leetcode.com/problems/palindrome-number/description/"
   ]
  },
  {
   "cell_type": "markdown",
   "metadata": {},
   "source": []
  },
  {
   "cell_type": "code",
   "execution_count": null,
   "metadata": {},
   "outputs": [],
   "source": [
    "class Solution:\n",
    "    def isPalindrome(self, x: int) -> bool:\n",
    "        sp = str(x)[::-1]\n",
    "        if str(x) == sp:\n",
    "            return True\n",
    "        else:\n",
    "            return False"
   ]
  },
  {
   "cell_type": "code",
   "execution_count": null,
   "metadata": {},
   "outputs": [],
   "source": [
    "class Solution:\n",
    "    def uniqueOccurrences(self, arr: list[int]) -> bool:\n",
    "        arr.sort() # сортировка массива \n",
    "        v = []\n",
    "\n",
    "        i = 0\n",
    "        while i < len(arr):\n",
    "            cnt = 1\n",
    "\n",
    "            # Пройдем по отсортированному массиву, подсчитывая вхождения каждого элемента\n",
    "            while i + 1 < len(arr) and arr[i] == arr[i + 1]:\n",
    "                cnt += 1\n",
    "                i += 1\n",
    "\n",
    "            v.append(cnt)\n",
    "            i += 1\n",
    "\n",
    "        v.sort()\n",
    "\n",
    "        for i in range(1, len(v)):\n",
    "            if v[i] == v[i - 1]:\n",
    "                return False\n",
    "\n",
    "        return True"
   ]
  },
  {
   "cell_type": "code",
   "execution_count": null,
   "metadata": {},
   "outputs": [],
   "source": [
    "class Solution:\n",
    "    def uniqueOccurrences(self, arr: list[int]) -> bool:\n",
    "        freq = {}\n",
    "        for x in arr:\n",
    "            freq[x] = freq.get(x, 0) + 1 # создаем ключи из  цифр с подсчетом количества вхождения этих цифр\n",
    "\n",
    "        return len(freq) == len(set(freq.values())) # сравниваем длину ключей с длиной множества значений ключей "
   ]
  },
  {
   "cell_type": "markdown",
   "metadata": {},
   "source": [
    "# Сумма двух\n",
    "https://leetcode.com/problems/two-sum/"
   ]
  },
  {
   "cell_type": "code",
   "execution_count": null,
   "metadata": {},
   "outputs": [],
   "source": [
    "sp = [3, 2, 4]\n",
    "tar = 6\n",
    "s = 0\n",
    "for i in range(len(sp)):\n",
    "    sp1 = sp.copy()\n",
    "    sp1.pop(i)\n",
    "    for j in range(len(sp1)):\n",
    "        if sp[i] + sp1[j] == tar:\n",
    "            print([i, sp.index(sp1[j])])\n",
    "            s += 1\n",
    "            break\n",
    "    if s == 1:\n",
    "        break"
   ]
  },
  {
   "cell_type": "code",
   "execution_count": null,
   "metadata": {},
   "outputs": [],
   "source": [
    "class Solution:\n",
    "    def twoSum(self, nums: List[int], target: int) -> List[int]:\n",
    "        numMap = {}\n",
    "        n = len(nums)\n",
    "\n",
    "        # создаем словарь, где ключи это цифры , а значение индекс цифр в списке\n",
    "        for i in range(n):\n",
    "            numMap[nums[i]] = i\n",
    "\n",
    "        # нахождение пар цифр\n",
    "        for i in range(n):\n",
    "            complement = (\n",
    "                target - nums[i]\n",
    "            )  # создаем число которое бы получилось при вычитании из нашего iтого числа списка, тем самым проверяем нахожждение такого в словаре\n",
    "            if complement in numMap and numMap[complement] != i:\n",
    "                return [i, numMap[complement]]\n",
    "\n",
    "        return []  # No solution found"
   ]
  },
  {
   "cell_type": "code",
   "execution_count": null,
   "metadata": {},
   "outputs": [],
   "source": [
    "class Solution(object):\n",
    "    def twoSum(self, nums, target):\n",
    "        ans = []\n",
    "        \n",
    "        for i in range(len(nums)):\n",
    "            for j in range(i + 1, len(nums)):\n",
    "                if nums[i] + nums[j] == target:\n",
    "                    ans.append(i)\n",
    "                    ans.append(j)\n",
    "                    break\n",
    "        \n",
    "        return ans"
   ]
  },
  {
   "cell_type": "markdown",
   "metadata": {},
   "source": [
    "# Перевод с латинского на целое число\n",
    "https://leetcode.com/problems/roman-to-integer/description/"
   ]
  },
  {
   "cell_type": "code",
   "execution_count": null,
   "metadata": {},
   "outputs": [],
   "source": [
    "class Solution:\n",
    "    def romanToInt(self, s: str) -> int:\n",
    "    \n",
    "        # создание ключей с обозначением римских цифр\n",
    "        rti = {'I':1,'V':5,'X':10,'L':50,'C':100,'D':500,'M':1000}\n",
    "\n",
    "        # сумма\n",
    "        ans=0\n",
    "\n",
    "        # перебор до последнего римского значения\n",
    "        for i in range(len(s)-1):\n",
    "            if rti[s[i]] < rti[s[i+1]]:\n",
    "                ans = ans - rti[s[i]]\n",
    "            else:   \n",
    "                ans = ans + rti[s[i]]\n",
    "\n",
    "        # добавление к сумм последнего значения \n",
    "        return ans+rti[s[-1]]"
   ]
  },
  {
   "cell_type": "code",
   "execution_count": null,
   "metadata": {},
   "outputs": [],
   "source": [
    "class Solution:\n",
    "    def romanToInt(self, s: str) -> int:\n",
    "        translations = {\n",
    "            \"I\": 1,\n",
    "            \"V\": 5,\n",
    "            \"X\": 10,\n",
    "            \"L\": 50,\n",
    "            \"C\": 100,\n",
    "            \"D\": 500,\n",
    "            \"M\": 1000\n",
    "        }\n",
    "        number = 0\n",
    "        s = s.replace(\"IV\", \"IIII\").replace(\"IX\", \"VIIII\") # раскрытие римских значений для преобразования их в более простые \n",
    "        s = s.replace(\"XL\", \"XXXX\").replace(\"XC\", \"LXXXX\")\n",
    "        s = s.replace(\"CD\", \"CCCC\").replace(\"CM\", \"DCCCC\")\n",
    "        for char in s:\n",
    "            number += translations[char]\n",
    "        return number"
   ]
  },
  {
   "cell_type": "code",
   "execution_count": null,
   "metadata": {},
   "outputs": [],
   "source": [
    "class Solution:\n",
    "    def romanToInt(self, s: str) -> int: # такое же что и предвдущие, но с более раскрытыми римскими комбинациями \n",
    "        cache = {\n",
    "            \"I\": 1,\n",
    "            \"V\": 5,\n",
    "            \"X\": 10,\n",
    "            \"L\": 50,\n",
    "            \"C\": 100,\n",
    "            \"D\": 500,\n",
    "            \"M\": 1000,\n",
    "            'IV': 4,\n",
    "            'IX': 9,\n",
    "            'XL': 40,\n",
    "            'XC': 90,\n",
    "            'CD': 400,\n",
    "            'CM': 900\n",
    "        }\n",
    "        ans = 0\n",
    "        cur = ''\n",
    "\n",
    "        for token in s:\n",
    "            cur += token\n",
    "\n",
    "            if cur not in cache:\n",
    "                ans += cache[cur[:-1]]\n",
    "                cur = token\n",
    "\n",
    "        if cur in cache:\n",
    "            ans += cache[cur]\n",
    "\n",
    "        return ans"
   ]
  },
  {
   "cell_type": "markdown",
   "metadata": {},
   "source": [
    "# Самая длинная подстрока без повторяющихся символов\n",
    "https://leetcode.com/problems/longest-substring-without-repeating-characters/description/"
   ]
  },
  {
   "cell_type": "code",
   "execution_count": null,
   "metadata": {},
   "outputs": [],
   "source": [
    "class Solution:\n",
    "    def lengthOfLongestSubstring(self, s: str) -> int:\n",
    "        n = len(s)\n",
    "        maxLength = 0\n",
    "        charSet = set()\n",
    "        left = 0\n",
    "        \n",
    "        for right in range(n): # пробегаемся по списку добавляя значения в множество\n",
    "            if s[right] not in charSet:\n",
    "                charSet.add(s[right])\n",
    "                maxLength = max(maxLength, right - left + 1) # подсчет длины подстроки\n",
    "            else:\n",
    "                while s[right] in charSet: # если есть такое зн в множ\n",
    "                    charSet.remove(s[left]) # удаляя символы из набора до тех пор, пока повторяющийся символ больше не исчезнет\n",
    "                    left += 1\n",
    "                charSet.add(s[right])\n",
    "        \n",
    "        return maxLength"
   ]
  },
  {
   "cell_type": "code",
   "execution_count": null,
   "metadata": {},
   "outputs": [],
   "source": [
    "class Solution:\n",
    "    def lengthOfLongestSubstring(self, s: str) -> int:\n",
    "        n = len(s)\n",
    "        maxLength = 0\n",
    "        charMap = {}\n",
    "        left = 0\n",
    "        \n",
    "        for right in range(n):\n",
    "            if s[right] not in charMap or charMap[s[right]] < left: # Если текущего символа нет в словаре \n",
    "                charMap[s[right]] = right # создаем ключ и присваиваем ему значение индекса\n",
    "                maxLength = max(maxLength, right - left + 1) \n",
    "            else: # если символ \"ключ\" повтор \n",
    "                left = charMap[s[right]] + 1 # перемещение границы на 1\n",
    "                charMap[s[right]] = right\n",
    "        \n",
    "        return maxLength"
   ]
  },
  {
   "cell_type": "code",
   "execution_count": 1,
   "metadata": {},
   "outputs": [],
   "source": [
    "class Solution:\n",
    "    def lengthOfLongestSubstring(self, s: str) -> int:\n",
    "        n = len(s)\n",
    "        maxLength = 0\n",
    "        charIndex = [-1] * 128\n",
    "        left = 0\n",
    "\n",
    "        for right in range(n):  # пробегаем по строке\n",
    "            if (\n",
    "                charIndex[ord(s[right])] >= left\n",
    "            ):  # сравнение индекса полусен перевод в цифр значение строгового из строки\n",
    "                left = charIndex[ord(s[right])] + 1\n",
    "            charIndex[\n",
    "                ord(s[right])\n",
    "            ] = right  # мы перемещаем left указатель на следующую позицию после последнего появления символа\n",
    "            maxLength = max(\n",
    "                maxLength, right - left + 1\n",
    "            )  # На каждом шаге мы обновляем maxLength, вычисляя длину текущей подстроки\n",
    "\n",
    "        return maxLength\n",
    "\n",
    "    print(lengthOfLongestSubstring(\"asdfdsarfdsa\"))"
   ]
  },
  {
   "cell_type": "markdown",
   "metadata": {},
   "source": [
    "# Обратное целое число\n",
    "https://leetcode.com/problems/reverse-integer/description/"
   ]
  },
  {
   "cell_type": "code",
   "execution_count": null,
   "metadata": {},
   "outputs": [],
   "source": [
    "class Solution:\n",
    "    def reverse(self, x: int) -> int:\n",
    "        k = 0  # перевернутое число\n",
    "        if \"-\" in str(x):  # если оно отр\n",
    "            ch = str(x)[\n",
    "                str(x).find(\"-\") + 1 :\n",
    "            ]  # делаем строку и переворачиваем ее от зн -\n",
    "            k += int(ch[::-1]) * -1  # вставл в получившееся\n",
    "        else:\n",
    "            k += int(str(x)[::-1])\n",
    "        if -(2**31) <= k <= (2**31) - 1:  # проверяем условие\n",
    "            return k\n",
    "        else:\n",
    "            return 0"
   ]
  },
  {
   "cell_type": "code",
   "execution_count": null,
   "metadata": {},
   "outputs": [],
   "source": [
    "class Solution:\n",
    "    def reverse(self, x: int) -> int:\n",
    "        rev = int(str(abs(x))[::-1])  # переварачиваем модуль\n",
    "        return (-rev if x < 0 else rev) if rev.bit_length() < 32 else 0"
   ]
  },
  {
   "cell_type": "code",
   "execution_count": null,
   "metadata": {},
   "outputs": [],
   "source": [
    "class Solution:\n",
    "    def reverse(self, x: int) -> int:\n",
    "        if x >= 0:\n",
    "            res = int(str(x)[::-1])\n",
    "        else:\n",
    "            res = int(\"-\" + str(abs(x))[::-1])\n",
    "        return res if -(2**31) <= res <= 2**31 - 1 else 0"
   ]
  },
  {
   "cell_type": "markdown",
   "metadata": {},
   "source": [
    "# Самый длинный общий префикс\n",
    "https://leetcode.com/problems/longest-common-prefix/description/"
   ]
  },
  {
   "cell_type": "code",
   "execution_count": null,
   "metadata": {},
   "outputs": [],
   "source": [
    "class Solution:\n",
    "    def longestCommonPrefix(self, v: List[str]) -> str:\n",
    "        ans = \"\"  # пустая строка для префикса\n",
    "        v = sorted(v)  # сортировка для нахождения общего\n",
    "        first = v[0]\n",
    "        last = v[-1]\n",
    "        for i in range(\n",
    "            min(len(first), len(last))\n",
    "        ):  # Перебирайте символы первой и последней строки в отсортированном списке, останавливаясь на длине более короткой строки.\n",
    "            if first[i] != last[i]: # Если текущий символ первой строки не равен текущему символу последней строки, верните общий префикс, найденный на данный момент\n",
    "                return ans\n",
    "            ans += first[i] # В противном случае добавьте текущий символ к строке ans\n",
    "        return ans"
   ]
  },
  {
   "cell_type": "code",
   "execution_count": null,
   "metadata": {},
   "outputs": [],
   "source": [
    "class Solution:\n",
    "    def longestCommonPrefix(self, strs: List[str]) -> str:\n",
    "        \n",
    "        pre = strs[0] # считаем что префикс изначально  первый элемент списка\n",
    "        \n",
    "        for i in strs: # проходимся по всему списку\n",
    "            while not i.startswith(pre): # проверяемя пока данное словов списка не нначинается с нашего прифифкса\n",
    "                pre = pre[:-1] # удаляем последний элемент у предполагемого преф\n",
    "        \n",
    "        return pre     "
   ]
  },
  {
   "cell_type": "code",
   "execution_count": null,
   "metadata": {},
   "outputs": [],
   "source": [
    "class Solution:\n",
    "    def longestCommonPrefix(self, strs: List[str]) -> str:\n",
    "        first, last = min(strs), max(strs)\n",
    "        prefix = ''\n",
    "        for ind in range(min(len(first), len(last))):\n",
    "            if first[ind] != last[ind]:\n",
    "                break\n",
    "            prefix += first[ind]\n",
    "\n",
    "        return prefix"
   ]
  },
  {
   "cell_type": "markdown",
   "metadata": {},
   "source": [
    "# 3Sum\n",
    "https://leetcode.com/problems/3sum/description/\n"
   ]
  },
  {
   "cell_type": "code",
   "execution_count": null,
   "metadata": {},
   "outputs": [],
   "source": [
    "class Solution:\n",
    "    def threeSum(self, nums: List[int]) -> List[List[int]]:\n",
    "        nums.sort() # сортируем числа для понимания того чтобы справа были большие \n",
    "        answer = []\n",
    "        for i in range(len(nums) - 2): # Проходимся по списку до предпоследнего числа \n",
    "            if nums[i] > 0:\n",
    "                break\n",
    "            if i > 0 and nums[i] == nums[i-1]: # если рядом числа = пропускаем\n",
    "                continue\n",
    "            l = i + 1 # определяем первое число после i\n",
    "            r = len(nums) - 1 # самое крайнее\n",
    "            while l < r: # т.к. спис острт то левое должн быть мен пр и пока так\n",
    "                total = nums[i] + nums[l] + nums[r] # вычисл сумму 3 наших чисел под эт инд\n",
    "                if total < 0: # если она - то \n",
    "                    l += 1 # лев инд сдвиг на +1 т.к. увелич наименьш число\n",
    "                elif total > 0: # если больш 0\n",
    "                    r -= 1 # то сдвтг прав инд вл т.к. уменьш наибольш\n",
    "                else: # если = 0\n",
    "                    triplet = [nums[i], nums[l], nums[r]] # получаем эту сумму\n",
    "                    answer.append(triplet) # добавл к ответу\n",
    "                    while l < r and nums[l] == triplet[1]: # Проверяет l инд на повторение пока он равен зн в отв пер лв инд вправо\n",
    "                        l += 1\n",
    "                    while l < r and nums[r] == triplet[2]:\n",
    "                        r -= 1\n",
    "        return answer"
   ]
  }
 ],
 "metadata": {
  "kernelspec": {
   "display_name": "Python 3",
   "language": "python",
   "name": "python3"
  },
  "language_info": {
   "codemirror_mode": {
    "name": "ipython",
    "version": 3
   },
   "file_extension": ".py",
   "mimetype": "text/x-python",
   "name": "python",
   "nbconvert_exporter": "python",
   "pygments_lexer": "ipython3",
   "version": "3.11.7"
  }
 },
 "nbformat": 4,
 "nbformat_minor": 2
}
