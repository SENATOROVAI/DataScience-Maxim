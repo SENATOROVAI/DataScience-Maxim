{
 "cells": [
  {
   "cell_type": "markdown",
   "metadata": {},
   "source": [
    "# Число палиндрома\n",
    "https://leetcode.com/problems/palindrome-number/description/"
   ]
  },
  {
   "cell_type": "markdown",
   "metadata": {},
   "source": []
  },
  {
   "cell_type": "code",
   "execution_count": null,
   "metadata": {},
   "outputs": [],
   "source": [
    "class Solution:\n",
    "    def isPalindrome(self, x: int) -> bool:\n",
    "        sp = str(x)[::-1]\n",
    "        if str(x) == sp:\n",
    "            return True\n",
    "        else:\n",
    "            return False"
   ]
  },
  {
   "cell_type": "code",
   "execution_count": null,
   "metadata": {},
   "outputs": [],
   "source": [
    "class Solution:\n",
    "    def uniqueOccurrences(self, arr: list[int]) -> bool:\n",
    "        arr.sort() # сортировка массива \n",
    "        v = []\n",
    "\n",
    "        i = 0\n",
    "        while i < len(arr):\n",
    "            cnt = 1\n",
    "\n",
    "            # Пройдем по отсортированному массиву, подсчитывая вхождения каждого элемента\n",
    "            while i + 1 < len(arr) and arr[i] == arr[i + 1]:\n",
    "                cnt += 1\n",
    "                i += 1\n",
    "\n",
    "            v.append(cnt)\n",
    "            i += 1\n",
    "\n",
    "        v.sort()\n",
    "\n",
    "        for i in range(1, len(v)):\n",
    "            if v[i] == v[i - 1]:\n",
    "                return False\n",
    "\n",
    "        return True"
   ]
  },
  {
   "cell_type": "code",
   "execution_count": null,
   "metadata": {},
   "outputs": [],
   "source": [
    "class Solution:\n",
    "    def uniqueOccurrences(self, arr: list[int]) -> bool:\n",
    "        freq = {}\n",
    "        for x in arr:\n",
    "            freq[x] = freq.get(x, 0) + 1 # создаем ключи из  цифр с подсчетом количества вхождения этих цифр\n",
    "\n",
    "        return len(freq) == len(set(freq.values())) # сравниваем длину ключей с длиной множества значений ключей "
   ]
  },
  {
   "cell_type": "markdown",
   "metadata": {},
   "source": [
    "# Сумма двух\n",
    "https://leetcode.com/problems/two-sum/"
   ]
  },
  {
   "cell_type": "code",
   "execution_count": null,
   "metadata": {},
   "outputs": [],
   "source": [
    "sp = [3, 2, 4]\n",
    "tar = 6\n",
    "s = 0\n",
    "for i in range(len(sp)):\n",
    "    sp1 = sp.copy()\n",
    "    sp1.pop(i)\n",
    "    for j in range(len(sp1)):\n",
    "        if sp[i] + sp1[j] == tar:\n",
    "            print([i, sp.index(sp1[j])])\n",
    "            s += 1\n",
    "            break\n",
    "    if s == 1:\n",
    "        break"
   ]
  },
  {
   "cell_type": "code",
   "execution_count": null,
   "metadata": {},
   "outputs": [],
   "source": [
    "class Solution:\n",
    "    def twoSum(self, nums: List[int], target: int) -> List[int]:\n",
    "        numMap = {}\n",
    "        n = len(nums)\n",
    "\n",
    "        # создаем словарь, где ключи это цифры , а значение индекс цифр в списке\n",
    "        for i in range(n):\n",
    "            numMap[nums[i]] = i\n",
    "\n",
    "        # нахождение пар цифр\n",
    "        for i in range(n):\n",
    "            complement = (\n",
    "                target - nums[i]\n",
    "            )  # создаем число которое бы получилось при вычитании из нашего iтого числа списка, тем самым проверяем нахожждение такого в словаре\n",
    "            if complement in numMap and numMap[complement] != i:\n",
    "                return [i, numMap[complement]]\n",
    "\n",
    "        return []  # No solution found"
   ]
  },
  {
   "cell_type": "code",
   "execution_count": null,
   "metadata": {},
   "outputs": [],
   "source": [
    "class Solution(object):\n",
    "    def twoSum(self, nums, target):\n",
    "        ans = []\n",
    "        \n",
    "        for i in range(len(nums)):\n",
    "            for j in range(i + 1, len(nums)):\n",
    "                if nums[i] + nums[j] == target:\n",
    "                    ans.append(i)\n",
    "                    ans.append(j)\n",
    "                    break\n",
    "        \n",
    "        return ans"
   ]
  },
  {
   "cell_type": "markdown",
   "metadata": {},
   "source": [
    "# Перевод с латинского на целое число\n",
    "https://leetcode.com/problems/roman-to-integer/description/"
   ]
  },
  {
   "cell_type": "code",
   "execution_count": null,
   "metadata": {},
   "outputs": [],
   "source": [
    "class Solution:\n",
    "    def romanToInt(self, s: str) -> int:\n",
    "    \n",
    "        # создание ключей с обозначением римских цифр\n",
    "        rti = {'I':1,'V':5,'X':10,'L':50,'C':100,'D':500,'M':1000}\n",
    "\n",
    "        # сумма\n",
    "        ans=0\n",
    "\n",
    "        # перебор до последнего римского значения\n",
    "        for i in range(len(s)-1):\n",
    "            if rti[s[i]] < rti[s[i+1]]:\n",
    "                ans = ans - rti[s[i]]\n",
    "            else:   \n",
    "                ans = ans + rti[s[i]]\n",
    "\n",
    "        # добавление к сумм последнего значения \n",
    "        return ans+rti[s[-1]]"
   ]
  },
  {
   "cell_type": "code",
   "execution_count": null,
   "metadata": {},
   "outputs": [],
   "source": [
    "class Solution:\n",
    "    def romanToInt(self, s: str) -> int:\n",
    "        translations = {\n",
    "            \"I\": 1,\n",
    "            \"V\": 5,\n",
    "            \"X\": 10,\n",
    "            \"L\": 50,\n",
    "            \"C\": 100,\n",
    "            \"D\": 500,\n",
    "            \"M\": 1000\n",
    "        }\n",
    "        number = 0\n",
    "        s = s.replace(\"IV\", \"IIII\").replace(\"IX\", \"VIIII\") # раскрытие римских значений для преобразования их в более простые \n",
    "        s = s.replace(\"XL\", \"XXXX\").replace(\"XC\", \"LXXXX\")\n",
    "        s = s.replace(\"CD\", \"CCCC\").replace(\"CM\", \"DCCCC\")\n",
    "        for char in s:\n",
    "            number += translations[char]\n",
    "        return number"
   ]
  },
  {
   "cell_type": "code",
   "execution_count": null,
   "metadata": {},
   "outputs": [],
   "source": [
    "class Solution:\n",
    "    def romanToInt(self, s: str) -> int: # такое же что и предвдущие, но с более раскрытыми римскими комбинациями \n",
    "        cache = {\n",
    "            \"I\": 1,\n",
    "            \"V\": 5,\n",
    "            \"X\": 10,\n",
    "            \"L\": 50,\n",
    "            \"C\": 100,\n",
    "            \"D\": 500,\n",
    "            \"M\": 1000,\n",
    "            'IV': 4,\n",
    "            'IX': 9,\n",
    "            'XL': 40,\n",
    "            'XC': 90,\n",
    "            'CD': 400,\n",
    "            'CM': 900\n",
    "        }\n",
    "        ans = 0\n",
    "        cur = ''\n",
    "\n",
    "        for token in s:\n",
    "            cur += token\n",
    "\n",
    "            if cur not in cache:\n",
    "                ans += cache[cur[:-1]]\n",
    "                cur = token\n",
    "\n",
    "        if cur in cache:\n",
    "            ans += cache[cur]\n",
    "\n",
    "        return ans"
   ]
  }
 ],
 "metadata": {
  "language_info": {
   "name": "python"
  }
 },
 "nbformat": 4,
 "nbformat_minor": 2
}
