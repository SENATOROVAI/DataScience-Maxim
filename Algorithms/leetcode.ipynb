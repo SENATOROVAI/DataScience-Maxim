{
 "cells": [
  {
   "cell_type": "markdown",
   "metadata": {},
   "source": [
    "# Число палиндрома\n",
    "https://leetcode.com/problems/palindrome-number/description/"
   ]
  },
  {
   "cell_type": "markdown",
   "metadata": {},
   "source": []
  },
  {
   "cell_type": "code",
   "execution_count": null,
   "metadata": {},
   "outputs": [],
   "source": [
    "class Solution:\n",
    "    def isPalindrome(self, x: int) -> bool:\n",
    "        sp = str(x)[::-1]\n",
    "        if str(x) == sp:\n",
    "            return True\n",
    "        else:\n",
    "            return False"
   ]
  },
  {
   "cell_type": "code",
   "execution_count": null,
   "metadata": {},
   "outputs": [],
   "source": [
    "class Solution:\n",
    "    def uniqueOccurrences(self, arr: list[int]) -> bool:\n",
    "        arr.sort() # сортировка массива \n",
    "        v = []\n",
    "\n",
    "        i = 0\n",
    "        while i < len(arr):\n",
    "            cnt = 1\n",
    "\n",
    "            # Пройдем по отсортированному массиву, подсчитывая вхождения каждого элемента\n",
    "            while i + 1 < len(arr) and arr[i] == arr[i + 1]:\n",
    "                cnt += 1\n",
    "                i += 1\n",
    "\n",
    "            v.append(cnt)\n",
    "            i += 1\n",
    "\n",
    "        v.sort()\n",
    "\n",
    "        for i in range(1, len(v)):\n",
    "            if v[i] == v[i - 1]:\n",
    "                return False\n",
    "\n",
    "        return True"
   ]
  },
  {
   "cell_type": "code",
   "execution_count": null,
   "metadata": {},
   "outputs": [],
   "source": [
    "class Solution:\n",
    "    def uniqueOccurrences(self, arr: list[int]) -> bool:\n",
    "        freq = {}\n",
    "        for x in arr:\n",
    "            freq[x] = freq.get(x, 0) + 1 # создаем ключи из  цифр с подсчетом количества вхождения этих цифр\n",
    "\n",
    "        return len(freq) == len(set(freq.values())) # сравниваем длину ключей с длиной множества значений ключей "
   ]
  },
  {
   "cell_type": "markdown",
   "metadata": {},
   "source": [
    "# Сумма двух\n",
    "https://leetcode.com/problems/two-sum/"
   ]
  },
  {
   "cell_type": "code",
   "execution_count": null,
   "metadata": {},
   "outputs": [],
   "source": [
    "sp = [3, 2, 4]\n",
    "tar = 6\n",
    "s = 0\n",
    "for i in range(len(sp)):\n",
    "    sp1 = sp.copy()\n",
    "    sp1.pop(i)\n",
    "    for j in range(len(sp1)):\n",
    "        if sp[i] + sp1[j] == tar:\n",
    "            print([i, sp.index(sp1[j])])\n",
    "            s += 1\n",
    "            break\n",
    "    if s == 1:\n",
    "        break"
   ]
  },
  {
   "cell_type": "code",
   "execution_count": null,
   "metadata": {},
   "outputs": [],
   "source": [
    "class Solution:\n",
    "    def twoSum(self, nums: List[int], target: int) -> List[int]:\n",
    "        numMap = {}\n",
    "        n = len(nums)\n",
    "\n",
    "        # создаем словарь, где ключи это цифры , а значение индекс цифр в списке\n",
    "        for i in range(n):\n",
    "            numMap[nums[i]] = i\n",
    "\n",
    "        # нахождение пар цифр\n",
    "        for i in range(n):\n",
    "            complement = (\n",
    "                target - nums[i]\n",
    "            )  # создаем число которое бы получилось при вычитании из нашего iтого числа списка, тем самым проверяем нахожждение такого в словаре\n",
    "            if complement in numMap and numMap[complement] != i:\n",
    "                return [i, numMap[complement]]\n",
    "\n",
    "        return []  # No solution found"
   ]
  },
  {
   "cell_type": "code",
   "execution_count": null,
   "metadata": {},
   "outputs": [],
   "source": [
    "class Solution(object):\n",
    "    def twoSum(self, nums, target):\n",
    "        ans = []\n",
    "        \n",
    "        for i in range(len(nums)):\n",
    "            for j in range(i + 1, len(nums)):\n",
    "                if nums[i] + nums[j] == target:\n",
    "                    ans.append(i)\n",
    "                    ans.append(j)\n",
    "                    break\n",
    "        \n",
    "        return ans"
   ]
  }
 ],
 "metadata": {
  "language_info": {
   "name": "python"
  }
 },
 "nbformat": 4,
 "nbformat_minor": 2
}
