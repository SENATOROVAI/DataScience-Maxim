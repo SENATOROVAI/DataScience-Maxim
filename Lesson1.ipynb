{
 "cells": [
  {
   "cell_type": "markdown",
   "metadata": {},
   "source": [
    "Commit - фиксация измениний (локально) \n",
    "Fork - опреация кланирования репозитория в личный аккаунт GitHubа для дальнейшего Pullrequirest\n",
    "Pull requirest - процедура передачи изминений из форкнутого (личного) репозитория в оригаинал"
   ]
  },
  {
   "cell_type": "markdown",
   "metadata": {},
   "source": []
  },
  {
   "cell_type": "code",
   "execution_count": null,
   "metadata": {},
   "outputs": [],
   "source": []
  },
  {
   "cell_type": "markdown",
   "metadata": {},
   "source": []
  }
 ],
 "metadata": {
  "language_info": {
   "name": "python"
  }
 },
 "nbformat": 4,
 "nbformat_minor": 2
}
