{
 "cells": [
  {
   "cell_type": "markdown",
   "metadata": {},
   "source": [
    "16.01.24\n",
    "Начало рабоыт с гитхабом. Последовательность действий, захожу SENATOROVAI. Создаю свой репозиторий, кланирую с помомщбю Fork себе "
   ]
  }
 ],
 "metadata": {
  "language_info": {
   "name": "python"
  }
 },
 "nbformat": 4,
 "nbformat_minor": 2
}
